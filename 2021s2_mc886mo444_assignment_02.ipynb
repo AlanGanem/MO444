{
  "nbformat": 4,
  "nbformat_minor": 0,
  "metadata": {
    "colab": {
      "name": "2021s2-mc886mo444-assignment-02.ipynb",
      "provenance": [],
      "include_colab_link": true
    },
    "kernelspec": {
      "name": "python3",
      "display_name": "Python 3"
    },
    "accelerator": "GPU"
  },
  "cells": [
    {
      "cell_type": "markdown",
      "metadata": {
        "id": "view-in-github",
        "colab_type": "text"
      },
      "source": [
        "<a href=\"https://colab.research.google.com/github/AlanGanem/MO444/blob/master/2021s2_mc886mo444_assignment_02.ipynb\" target=\"_parent\"><img src=\"https://colab.research.google.com/assets/colab-badge.svg\" alt=\"Open In Colab\"/></a>"
      ]
    },
    {
      "cell_type": "markdown",
      "metadata": {
        "id": "Cs9E_R5yD48u"
      },
      "source": [
        "# **Assignment \\#2**: Machine Learning MC886/MO444\n",
        "University of Campinas (UNICAMP), Institute of Computing (IC)\n",
        "\n",
        "Prof. Sandra Avila, 2021s2\n",
        "\n"
      ]
    },
    {
      "cell_type": "code",
      "metadata": {
        "id": "tFS9Oum_RJX9",
        "colab": {
          "base_uri": "https://localhost:8080/",
          "height": 52
        },
        "outputId": "9b065d26-e6b0-4c1c-c8cf-b850eea0bc4d"
      },
      "source": [
        "# TODO: RA & Name \n",
        "print('RA1: ' + 'Nome1')\n",
        "print('RA2: ' + 'Nome2')"
      ],
      "execution_count": null,
      "outputs": [
        {
          "output_type": "stream",
          "text": [
            "RA1: Nome1\n",
            "RA2: Nome2\n"
          ],
          "name": "stdout"
        }
      ]
    },
    {
      "cell_type": "markdown",
      "metadata": {
        "id": "IVGH2s7fD_03"
      },
      "source": [
        "## Objective: Predict cancer mortality rates for US counties. \n",
        "\n",
        "Explore **linear regression** alternatives and come up with the best possible model to the problems, avoiding overfitting. In particular, predict the **TARGET_deathRate** from their attributes."
      ]
    },
    {
      "cell_type": "markdown",
      "metadata": {
        "id": "r3XDZRGqEwsk"
      },
      "source": [
        "## Dataset\n",
        "\n",
        "These data were aggregated from a number of sources including the American Community Survey (census.gov), clinicaltrials.gov, and cancer.gov.  \n",
        "\n",
        "The dataset contains the death rate and attributes of 3,047 counties.\n",
        "\n",
        "Dataset Information: You should respect the following traininig/test split: 2042 training examples, and 305 test examples.\n",
        "\n",
        "There are 33 attributes as follows: \n",
        "\n",
        "Data Dictionary\n",
        "\n",
        "- 1: **avgAnnCount**: Mean number of reported cases of cancer diagnosed annually (a)\n",
        "\n",
        "- 2: **avgDeathsPerYear**: Mean number of reported mortalities due to cancer (a)\n",
        "\n",
        "- 3: **incidenceRate**: Mean per capita (100,000) cancer diagoses(a)\n",
        "\n",
        "- 4: **medianIncome**: Median income per county (b)\n",
        "\n",
        "- 5: **popEst2015**: Population of county (b)\n",
        "\n",
        "- 6: **povertyPercent**: Percent of populace in poverty (b)\n",
        "\n",
        "- 7: **studyPerCap**: Per capita number of cancer-related clinical trials per county (a)\n",
        "\n",
        "- 8: **binnedInc**: Median income per capita binned by decile (b)\n",
        "\n",
        "- 9: **MedianAge**: Median age of county residents (b)\n",
        "\n",
        "- 10: **MedianAgeMale**: Median age of male county residents (b)\n",
        "\n",
        "- 11: **MedianAgeFemale**: Median age of female county residents (b)\n",
        "\n",
        "- 12: **Geography**: County name (b)\n",
        "\n",
        "- 13: **AvgHouseholdSize**: Mean household size of county (b)\n",
        "\n",
        "- 14: **PercentMarried**: Percent of county residents who are married (b)\n",
        "\n",
        "- 15: **PctNoHS18_24**: Percent of county residents ages 18-24 highest education attained: less than high school (b)\n",
        "\n",
        "- 16: **PctHS18_24**: Percent of county residents ages 18-24 highest education attained: high school diploma (b)\n",
        "\n",
        "- 17: **PctSomeCol18_24**: Percent of county residents ages 18-24 highest education attained: some college (b)\n",
        "\n",
        "- 18: **PctBachDeg18_24**: Percent of county residents ages 18-24 highest education attained: bachelor's degree (b)\n",
        "\n",
        "- 19: **PctHS25_Over**: Percent of county residents ages 25 and over highest education attained: high school diploma (b)\n",
        "\n",
        "- 20: **PctBachDeg25_Over**: Percent of county residents ages 25 and over highest education attained: bachelor's degree (b)\n",
        "\n",
        "- 21: **PctEmployed16_Over**: Percent of county residents ages 16 and over employed (b)\n",
        "\n",
        "- 22: **PctUnemployed16_Over**: Percent of county residents ages 16 and over unemployed (b)\n",
        "\n",
        "- 23: **PctPrivateCoverage**: Percent of county residents with private health coverage (b)\n",
        "\n",
        "- 24: **PctPrivateCoverageAlone**: Percent of county residents with private health coverage alone (no public assistance) (b)\n",
        "\n",
        "- 25: **PctEmpPrivCoverage**: Percent of county residents with employee-provided private health coverage (b)\n",
        "\n",
        "- 26: **PctPublicCoverage**: Percent of county residents with government-provided health coverage (b)\n",
        "\n",
        "- 27: **PctPubliceCoverageAlone**: Percent of county residents with government-provided health coverage alone (b)\n",
        "\n",
        "- 28: **PctWhite**: Percent of county residents who identify as White (b)\n",
        "\n",
        "- 29: **PctBlack**: Percent of county residents who identify as Black (b)\n",
        "\n",
        "- 30: **PctAsian**: Percent of county residents who identify as Asian (b)\n",
        "\n",
        "- 31: **PctOtherRace**: Percent of county residents who identify in a category which is not White, Black, or Asian (b)\n",
        "\n",
        "- 32: **PctMarriedHouseholds**: Percent of married households (b)\n",
        "\n",
        "- 33: **BirthRate**: Number of live births relative to number of women in county (b)\n",
        "\n",
        "- **TARGET_deathRate**: Dependent variable. Mean per capita (100,000) cancer mortalities (a)\n",
        "\n",
        "(a): years 2010-2016\n",
        "\n",
        "(b): 2013 Census Estimates\n",
        "\n",
        "\n",
        "The data is available at\n",
        "- train: https://tinyurl.com/53zvz9t7\n",
        "- test: https://tinyurl.com/phs3bkbt\n"
      ]
    },
    {
      "cell_type": "markdown",
      "metadata": {
        "id": "5d495CmpCltx"
      },
      "source": [
        "## Activities\n",
        "\n",
        "1. (5 points) Perform Linear Regression. You should implement your solution and compare it with ```sklearn.linear_model.SGDRegressor``` (linear model fitted by minimizing a regularized empirical loss with SGD, http://scikit-learn.org). Keep in mind that friends don't let friends use testing data for training :-)\n",
        "\n",
        "Note: Some factors to consider: Are there any outliers? Are there missing values? How will you handle categorical variables?\n",
        "\n",
        "\n"
      ]
    },
    {
      "cell_type": "code",
      "metadata": {
        "id": "3y0QxxH1KgE1"
      },
      "source": [
        "# TODO: Load and preprocess your dataset.\n",
        "\n",
        "#import numpy as np\n",
        "#import pandas as pd\n",
        "#import matplotlib.pyplot as plt\n",
        "#import seaborn as sns\n",
        "#%matplotlib inline\n",
        "\n",
        "#df=pd.read_csv(\"data-train.csv\")"
      ],
      "execution_count": null,
      "outputs": []
    },
    {
      "cell_type": "code",
      "metadata": {
        "id": "D9cpdif9JxFR"
      },
      "source": [
        "# TODO: Linear Regression. Implement your solution. You cannot use scikit-learn, Keras/TensorFlow, or PyTorch libraries."
      ],
      "execution_count": null,
      "outputs": []
    },
    {
      "cell_type": "code",
      "metadata": {
        "id": "e4nZrMr_C2X7"
      },
      "source": [
        "# TODO: Linear Regression. You can use scikit-learn libraries."
      ],
      "execution_count": null,
      "outputs": []
    },
    {
      "cell_type": "markdown",
      "metadata": {
        "id": "zBNZQNImKQeo"
      },
      "source": [
        "\n",
        "> What are the conclusions? (1-2 paragraphs)\n",
        "\n",
        "\n"
      ]
    },
    {
      "cell_type": "markdown",
      "metadata": {
        "id": "ADxPBRhuK_Vq"
      },
      "source": [
        "2. (2 points) Use different Gradient Descent (GD) learning rates when optimizing. Compare the GD-based solutions with Normal Equation. What are the conclusions?\n"
      ]
    },
    {
      "cell_type": "code",
      "metadata": {
        "id": "RSZ1pLItNVbU"
      },
      "source": [
        "# TODO: Gradient Descent (GD) with 3 different learning rates. You can use scikit-learn libraries."
      ],
      "execution_count": null,
      "outputs": []
    },
    {
      "cell_type": "markdown",
      "metadata": {
        "id": "XrPl7jKgJPW6"
      },
      "source": [
        "\n",
        "3. (2 points) Sometimes, we need some more complex function to make good prediction. Devise and evaluate a Polynomial Linear Regression model. \n"
      ]
    },
    {
      "cell_type": "code",
      "metadata": {
        "id": "GjGbg41PMHR9"
      },
      "source": [
        "# TODO: Complex model. You can use scikit-learn libraries."
      ],
      "execution_count": null,
      "outputs": []
    },
    {
      "cell_type": "markdown",
      "metadata": {
        "id": "rBLKtosaLaCw"
      },
      "source": [
        "\n",
        " > What are the conclusions? What are the actions after such analyses? (1-2 paragraphs)\n",
        "\n",
        " \n"
      ]
    },
    {
      "cell_type": "markdown",
      "metadata": {
        "id": "ldSh1vtWK5Zk"
      },
      "source": [
        "4. (1 point) Plot the cost function vs. number of epochs in the training/validation set and analyze the model. "
      ]
    },
    {
      "cell_type": "code",
      "metadata": {
        "id": "mg7aNkl_LG4P"
      },
      "source": [
        "# TODO: Plot the cost function vs. number of iterations in the training set."
      ],
      "execution_count": null,
      "outputs": []
    },
    {
      "cell_type": "markdown",
      "metadata": {
        "id": "vbGOQzcsNSOm"
      },
      "source": [
        "> What are the conclusions? (2-4 paragraphs)\n"
      ]
    },
    {
      "cell_type": "markdown",
      "metadata": {
        "id": "kdSGS4brHnAi"
      },
      "source": [
        "## Deadline\n",
        "\n",
        "Monday, October 11th 11:59 pm. \n",
        "\n",
        "Penalty policy for late submission: You are not encouraged to submit your assignment after due date. However, in case you did, your grade will be penalized as follows:\n",
        "- October 12th 11:59 pm : grade * 0.75\n",
        "- October 13th 11:59 pm : grade * 0.5\n",
        "- October 14th 11:59 pm : grade * 0.25\n"
      ]
    },
    {
      "cell_type": "markdown",
      "metadata": {
        "id": "joN9pvZJIfW5"
      },
      "source": [
        "## Submission\n",
        "\n",
        "On Google Classroom, submit your Jupyter Notebook (in Portuguese or English).\n",
        "\n",
        "**This activity is NOT individual, it must be done in pairs (two-person group).**"
      ]
    }
  ]
}