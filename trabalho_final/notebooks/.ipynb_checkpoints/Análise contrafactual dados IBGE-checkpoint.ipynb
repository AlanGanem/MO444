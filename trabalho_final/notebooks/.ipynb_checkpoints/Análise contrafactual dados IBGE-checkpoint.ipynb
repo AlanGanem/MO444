{
 "cells": [
  {
   "cell_type": "code",
   "execution_count": 1,
   "metadata": {},
   "outputs": [],
   "source": [
    "import pnadc #to install, run pip install git+https://github.com/AlanGanem/pnadc\n",
    "from tqdm import tqdm\n",
    "import dask.dataframe as dd\n",
    "from dask.diagnostics import ProgressBar\n",
    "import ppscore\n",
    "import numpy as np\n",
    "import seaborn as sns\n",
    "import matplotlib.pyplot as plt\n",
    "from pathlib import Path"
   ]
  },
  {
   "cell_type": "code",
   "execution_count": 2,
   "metadata": {},
   "outputs": [],
   "source": [
    "paths_2020 = [*Path('../data/').glob('*2020.csv')]"
   ]
  },
  {
   "cell_type": "code",
   "execution_count": null,
   "metadata": {},
   "outputs": [
    {
     "name": "stdout",
     "output_type": "stream",
     "text": [
      "Downloading Chaves_PNADC.pdf this can take some time.\n",
      "Chaves_PNADC.pdf download is complete!\n",
      "Downloading Chaves_PNADC.pdf this can take some time.\n",
      "Chaves_PNADC.pdf download is complete!\n",
      "Downloading Definicao_variaveis_derivadas_PNADC_20200211.pdf this can take some time.\n",
      "Definicao_variaveis_derivadas_PNADC_20200211.pdf download is complete!\n",
      "Downloading Deflatores.zip this can take some time.\n",
      "Deflatores.zip download is complete!\n",
      "Unziping pnadpy/Deflatores.zip\n",
      "Unzip complete\n",
      "Downloading Deflatores.zip this can take some time.\n",
      "Deflatores.zip download is complete!\n",
      "Unziping pnadpy/Deflatores.zip\n",
      "Unzip complete\n",
      "Downloading Dicionario_e_input_20210617.zip this can take some time.\n",
      "Dicionario_e_input_20210617.zip download is complete!\n",
      "Unziping pnadpy/Dicionario_e_input_20210617.zip\n",
      "Unzip complete\n",
      "Downloading Estrutura_Atividade_CNAE_Domiciliar_2_0.xls this can take some time.\n",
      "Estrutura_Atividade_CNAE_Domiciliar_2_0.xls download is complete!\n",
      "Downloading Estrutura_Ocupacao_COD.xls this can take some time.\n",
      "Estrutura_Ocupacao_COD.xls download is complete!\n",
      "Downloading Grupamentos_ocupacionais_atividades_PNADC.pdf this can take some time.\n",
      "Grupamentos_ocupacionais_atividades_PNADC.pdf download is complete!\n",
      "Downloading PNADcIBGE_Deflator_Trimestral.pdf this can take some time.\n",
      "PNADcIBGE_Deflator_Trimestral.pdf download is complete!\n",
      "Downloading PNADC_012020.zip this can take some time.\n",
      "PNADC_012020.zip download is complete!\n",
      "Unziping pnadpy/PNADC_012020.zip\n",
      "Unzip complete\n",
      "Building pnadpy\\PNADC_012020.txt\n",
      "Multiprocessing chunks\n"
     ]
    },
    {
     "name": "stderr",
     "output_type": "stream",
     "text": [
      "100%|██████████████████████████████████████████████████████████████████████████████████| 25/25 [00:53<00:00,  1.81s/it]"
     ]
    }
   ],
   "source": [
    "if not paths_2020:\n",
    "    pnadc.get_all([2020], path = 'pnadpy/', protocol = 'https')\n",
    "    paths_2020 = [*Path('../data/').glob('*2020.csv')]"
   ]
  },
  {
   "cell_type": "code",
   "execution_count": null,
   "metadata": {},
   "outputs": [],
   "source": [
    "def convert_int(df, dtype = int, nan_fill = -1, valid_range = (0,100)):\n",
    "    '''\n",
    "    checks the columns that are composed of only integers, if so, cast to integer\n",
    "    '''\n",
    "    if df.__class__ == dd.DataFrame:\n",
    "        return df.map_partitions(convert_int)\n",
    "    \n",
    "    for col in df.columns:\n",
    "        if (df[col].dropna() == df[col].dropna().values.astype(int)).all():\n",
    "            if not valid_range is None:\n",
    "                if all(df[col].between(*valid_range)):\n",
    "                    df[col] = df[col].fillna(nan_fill).astype(dtype)\n",
    "            else:\n",
    "                df[col] = df[col].fillna(nan_fill).astype(dtype)\n",
    "                                                       \n",
    "    return df\n",
    "\n",
    "def rename_variables_pnadc(df, pnadc_dictionary_path):    \n",
    "    return\n",
    "\n",
    "def create_parquet_pnadc(path, saving_path = 'PNADC/pnadc_compiled.parquet'):\n",
    "    with ProgressBar():\n",
    "        data = dd.read_csv(path)\n",
    "        data = data.repartition('100MB').drop_duplicates()\n",
    "        data.to_parquet(saving_path)\n",
    "    return saving_path"
   ]
  },
  {
   "cell_type": "code",
   "execution_count": null,
   "metadata": {},
   "outputs": [],
   "source": [
    "#create_parquet_pnadc(path = 'PNADC/*.csv')\n",
    "data = dd.read_csv(paths_2020)"
   ]
  },
  {
   "cell_type": "code",
   "execution_count": null,
   "metadata": {},
   "outputs": [],
   "source": [
    "len(data)"
   ]
  },
  {
   "cell_type": "code",
   "execution_count": null,
   "metadata": {},
   "outputs": [],
   "source": [
    "#data = data.astype(str)\n",
    "data = convert_int(data, dtype = 'str')\n"
   ]
  },
  {
   "cell_type": "code",
   "execution_count": null,
   "metadata": {},
   "outputs": [],
   "source": [
    "rendimentos_cols = [\n",
    "    'V405012',\n",
    "    'V405022',\n",
    "    'V405112',\n",
    "    'V405122',\n",
    "    'V405812',\n",
    "    'V405822',\n",
    "    'V405912',\n",
    "    'V405922',    \n",
    "    'V403322',\n",
    "    'V403412',\n",
    "    'V403422',\n",
    "    'V405812',\n",
    "    'V403312',\n",
    "    \n",
    "]\n",
    "rendimentos = data[rendimentos_cols].fillna(0).sum(axis = 1).compute()"
   ]
  },
  {
   "cell_type": "code",
   "execution_count": null,
   "metadata": {},
   "outputs": [],
   "source": [
    "print((rendimentos==0).mean())\n",
    "plt.clf()\n",
    "sns.distplot(np.log(rendimentos[rendimentos > 0].sample(frac = 0.1)))\n",
    "plt.show()"
   ]
  },
  {
   "cell_type": "code",
   "execution_count": null,
   "metadata": {},
   "outputs": [],
   "source": [
    "raca = data['V2010']\n",
    "\n",
    "raca.compute().value_counts(1)"
   ]
  },
  {
   "cell_type": "code",
   "execution_count": null,
   "metadata": {},
   "outputs": [],
   "source": [
    "data.partitions[0].compute()"
   ]
  },
  {
   "cell_type": "code",
   "execution_count": null,
   "metadata": {},
   "outputs": [],
   "source": []
  },
  {
   "cell_type": "markdown",
   "metadata": {},
   "source": [
    "# Find Confounders\n",
    "\n",
    "Confounders are good predictors of both the treatment and the observed outcome.\n",
    "Knowing what are these variables are usefull because in order to remove bias we have to control for confounders"
   ]
  },
  {
   "cell_type": "code",
   "execution_count": null,
   "metadata": {},
   "outputs": [],
   "source": [
    "#filter1 = data['']\n",
    "data['V403311'].compute().value_counts(1, dropna = False)"
   ]
  },
  {
   "cell_type": "code",
   "execution_count": null,
   "metadata": {},
   "outputs": [],
   "source": [
    "data['V2010'].compute().value_counts(1, dropna = False)"
   ]
  },
  {
   "cell_type": "markdown",
   "metadata": {},
   "source": [
    "## Filters"
   ]
  },
  {
   "cell_type": "code",
   "execution_count": null,
   "metadata": {},
   "outputs": [],
   "source": [
    "#msk = ~data['V403311'].isna()\n",
    "msk = data['V2009'].between(18,65) #idade entre 18 e 65 anos"
   ]
  },
  {
   "cell_type": "markdown",
   "metadata": {},
   "source": [
    "## Predictive Power Scores"
   ]
  },
  {
   "cell_type": "code",
   "execution_count": null,
   "metadata": {},
   "outputs": [],
   "source": [
    "data['V2010'] = data['V2010'].astype(str)"
   ]
  },
  {
   "cell_type": "code",
   "execution_count": null,
   "metadata": {},
   "outputs": [],
   "source": [
    "rendimento_pps_scores = ppscore.predictors(\n",
    "    data[msk].compute(),\n",
    "    y = 'V403311'\n",
    ")"
   ]
  },
  {
   "cell_type": "code",
   "execution_count": null,
   "metadata": {},
   "outputs": [],
   "source": [
    "cor_pps_scores = ppscore.predictors(\n",
    "    data[msk].compute(),\n",
    "    y = 'V2010'\n",
    ")"
   ]
  },
  {
   "cell_type": "code",
   "execution_count": null,
   "metadata": {},
   "outputs": [],
   "source": [
    "rendimento_pps_scores = rendimento_pps_scores.query('ppscore > 0')\n",
    "rendimento_pps_scores"
   ]
  },
  {
   "cell_type": "code",
   "execution_count": null,
   "metadata": {},
   "outputs": [],
   "source": [
    "cor_pps_scores = cor_pps_scores.query('ppscore > 0')\n",
    "cor_pps_scores"
   ]
  },
  {
   "cell_type": "code",
   "execution_count": null,
   "metadata": {},
   "outputs": [],
   "source": [
    "cor_pps_scores.merge(rendimento_pps_scores, how = 'inner', on = 'x', suffixes = ('_cor', '_rendimento'))[['x','ppscore_cor', 'ppscore_rendimento']]"
   ]
  },
  {
   "cell_type": "code",
   "execution_count": null,
   "metadata": {},
   "outputs": [],
   "source": [
    "pnadc.query('V405122', 'pnadpy/input_PNADC_trimestral.txt', )"
   ]
  },
  {
   "cell_type": "code",
   "execution_count": 61,
   "metadata": {},
   "outputs": [],
   "source": [
    "#data = data.sample(0.1)[['V3009A', 'V2010']]"
   ]
  }
 ],
 "metadata": {
  "kernelspec": {
   "display_name": "Python 3",
   "language": "python",
   "name": "python3"
  },
  "language_info": {
   "codemirror_mode": {
    "name": "ipython",
    "version": 3
   },
   "file_extension": ".py",
   "mimetype": "text/x-python",
   "name": "python",
   "nbconvert_exporter": "python",
   "pygments_lexer": "ipython3",
   "version": "3.7.6"
  },
  "latex_envs": {
   "LaTeX_envs_menu_present": true,
   "autoclose": false,
   "autocomplete": true,
   "bibliofile": "biblio.bib",
   "cite_by": "apalike",
   "current_citInitial": 1,
   "eqLabelWithNumbers": true,
   "eqNumInitial": 1,
   "hotkeys": {
    "equation": "Ctrl-E",
    "itemize": "Ctrl-I"
   },
   "labels_anchors": false,
   "latex_user_defs": false,
   "report_style_numbering": false,
   "user_envs_cfg": false
  },
  "toc": {
   "base_numbering": 1,
   "nav_menu": {},
   "number_sections": true,
   "sideBar": true,
   "skip_h1_title": false,
   "title_cell": "Table of Contents",
   "title_sidebar": "Contents",
   "toc_cell": false,
   "toc_position": {},
   "toc_section_display": true,
   "toc_window_display": false
  }
 },
 "nbformat": 4,
 "nbformat_minor": 4
}
