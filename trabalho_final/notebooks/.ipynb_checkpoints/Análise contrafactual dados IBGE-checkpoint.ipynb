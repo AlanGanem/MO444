{
 "cells": [
  {
   "cell_type": "code",
   "execution_count": 5,
   "metadata": {},
   "outputs": [],
   "source": [
    "import pnadc #to install, run pip install git+https://github.com/AlanGanem/pnadc\n",
    "from tqdm import tqdm\n",
    "import dask.dataframe as dd\n",
    "from dask.diagnostics import ProgressBar\n",
    "import numpy as np\n",
    "import seaborn as sns\n",
    "import matplotlib.pyplot as plt\n",
    "from pathlib import Path\n",
    "import pandas as pd\n",
    "\n",
    "%matplotlib inline"
   ]
  },
  {
   "cell_type": "code",
   "execution_count": 6,
   "metadata": {},
   "outputs": [],
   "source": [
    "paths_2020 = [*Path('../data/').glob('*2020.csv')]"
   ]
  },
  {
   "cell_type": "code",
   "execution_count": 7,
   "metadata": {},
   "outputs": [],
   "source": [
    "#download if needed\n",
    "if not paths_2020:\n",
    "    pnadc.get_all([2020], path = 'pnadpy/', protocol = 'https')\n",
    "    paths_2020 = [*Path('../data/').glob('*2020.csv')]"
   ]
  },
  {
   "cell_type": "code",
   "execution_count": 8,
   "metadata": {},
   "outputs": [],
   "source": [
    "def convert_int(df, dtype = int, nan_fill = -1, valid_range = (0,100)):\n",
    "    '''\n",
    "    checks the columns that are composed of only integers, if so, cast to dtype (defaults to int, but could be also str or float)\n",
    "    '''\n",
    "    if df.__class__ == dd.DataFrame:\n",
    "        return df.map_partitions(convert_int)\n",
    "    \n",
    "    for col in df.columns:\n",
    "        if (df[col].dropna() == df[col].dropna().values.astype(int)).all():\n",
    "            if not valid_range is None:\n",
    "                if all(df[col].between(*valid_range)):\n",
    "                    df[col] = df[col].fillna(nan_fill).astype(dtype)\n",
    "                    \n",
    "                    if dtype in ['str',str]:\n",
    "                        df[col] = df[col].str.replace('.0', '')\n",
    "            else:\n",
    "                df[col] = df[col].fillna(nan_fill).astype(dtype)\n",
    "                if dtype in ['str',str]:\n",
    "                    df[col] = df[col].str.replace('.0', '')\n",
    "            \n",
    "            \n",
    "                                                       \n",
    "    return df\n",
    "\n",
    "def rename_variables_pnadc(df, pnadc_dictionary_path):    \n",
    "    return\n",
    "\n",
    "def load_pnadc_dict_dataframe(dict_path_excel = r'..\\data\\dicionario_PNADC_microdados_trimestral.xls'):\n",
    "    dic = pd.read_excel(dict_path_excel)\n",
    "    dic = dic.fillna(method = 'ffill').set_index(['Código da variável'])\n",
    "    return dic \n",
    "\n",
    "def load_cnae_codes(cnaes_path = r'..\\data\\Estrutura_Atividade_CNAE_Domiciliar_2_0.xls'):\n",
    "    cnaes = pd.read_excel(cnaes_path)\n",
    "    cnaes = cnaes.fillna(method = 'ffill')\n",
    "    \n",
    "    def _custom_dedup(df):\n",
    "        d = {}\n",
    "        d['Divisão'] = df['Divisão'].iloc[0]\n",
    "        d['Seção'] = df['Seção'].iloc[0]\n",
    "        d['Denominação'] = df['Denominação'].values.tolist()\n",
    "        return pd.Series(d)\n",
    "    \n",
    "    cnaes = cnaes.groupby('Classe').apply(_custom_dedup).reset_index()   \n",
    "    cnaes = cnaes.rename(\n",
    "        columns = {\n",
    "            'Seção':'V4013-Sec',\n",
    "            'Divisão' : 'V4013-Div',\n",
    "            'Classe' : 'V4013',\n",
    "            'Denominação':'V4013-Name'             \n",
    "        }\n",
    "    )\n",
    "    \n",
    "\n",
    "    return cnaes\n",
    "\n",
    "def create_parquet_pnadc(path, saving_path = 'PNADC/pnadc_compiled.parquet'):\n",
    "    with ProgressBar():\n",
    "        data = dd.read_csv(path)\n",
    "        data = data.repartition('100MB').drop_duplicates()\n",
    "        data.to_parquet(saving_path)\n",
    "    return saving_path"
   ]
  },
  {
   "cell_type": "markdown",
   "metadata": {},
   "source": [
    "# Load Data and vars dict"
   ]
  },
  {
   "cell_type": "code",
   "execution_count": 231,
   "metadata": {},
   "outputs": [],
   "source": [
    "ocupacao = pd.read_excel(r'..\\data\\Estrutura_Ocupacao_COD.xls').fillna(method = 'ffill')"
   ]
  },
  {
   "cell_type": "code",
   "execution_count": 10,
   "metadata": {},
   "outputs": [],
   "source": [
    "cnaes = load_cnae_codes()"
   ]
  },
  {
   "cell_type": "code",
   "execution_count": 11,
   "metadata": {},
   "outputs": [],
   "source": [
    "var_dict = load_pnadc_dict_dataframe()"
   ]
  },
  {
   "cell_type": "code",
   "execution_count": 12,
   "metadata": {},
   "outputs": [
    {
     "data": {
      "text/html": [
       "<div>\n",
       "<style scoped>\n",
       "    .dataframe tbody tr th:only-of-type {\n",
       "        vertical-align: middle;\n",
       "    }\n",
       "\n",
       "    .dataframe tbody tr th {\n",
       "        vertical-align: top;\n",
       "    }\n",
       "\n",
       "    .dataframe thead th {\n",
       "        text-align: right;\n",
       "    }\n",
       "</style>\n",
       "<table border=\"1\" class=\"dataframe\">\n",
       "  <thead>\n",
       "    <tr style=\"text-align: right;\">\n",
       "      <th></th>\n",
       "      <th>Posição inicial</th>\n",
       "      <th>Tamanho</th>\n",
       "      <th>quesito nº</th>\n",
       "      <th>Quesito Descrição</th>\n",
       "      <th>Categorias Tipo</th>\n",
       "      <th>Categorias Descrição</th>\n",
       "      <th>Período</th>\n",
       "      <th>Parte</th>\n",
       "    </tr>\n",
       "    <tr>\n",
       "      <th>Código da variável</th>\n",
       "      <th></th>\n",
       "      <th></th>\n",
       "      <th></th>\n",
       "      <th></th>\n",
       "      <th></th>\n",
       "      <th></th>\n",
       "      <th></th>\n",
       "      <th></th>\n",
       "    </tr>\n",
       "  </thead>\n",
       "  <tbody>\n",
       "    <tr>\n",
       "      <th>UF</th>\n",
       "      <td>6.0</td>\n",
       "      <td>2.0</td>\n",
       "      <td>NaN</td>\n",
       "      <td>Unidade da Federação</td>\n",
       "      <td>11</td>\n",
       "      <td>Rondônia</td>\n",
       "      <td>1º tri/2012 - atual</td>\n",
       "      <td>Parte 1 - Identificação e Controle</td>\n",
       "    </tr>\n",
       "    <tr>\n",
       "      <th>UF</th>\n",
       "      <td>6.0</td>\n",
       "      <td>2.0</td>\n",
       "      <td>NaN</td>\n",
       "      <td>Unidade da Federação</td>\n",
       "      <td>12</td>\n",
       "      <td>Acre</td>\n",
       "      <td>1º tri/2012 - atual</td>\n",
       "      <td>Parte 1 - Identificação e Controle</td>\n",
       "    </tr>\n",
       "    <tr>\n",
       "      <th>UF</th>\n",
       "      <td>6.0</td>\n",
       "      <td>2.0</td>\n",
       "      <td>NaN</td>\n",
       "      <td>Unidade da Federação</td>\n",
       "      <td>13</td>\n",
       "      <td>Amazonas</td>\n",
       "      <td>1º tri/2012 - atual</td>\n",
       "      <td>Parte 1 - Identificação e Controle</td>\n",
       "    </tr>\n",
       "    <tr>\n",
       "      <th>UF</th>\n",
       "      <td>6.0</td>\n",
       "      <td>2.0</td>\n",
       "      <td>NaN</td>\n",
       "      <td>Unidade da Federação</td>\n",
       "      <td>14</td>\n",
       "      <td>Roraima</td>\n",
       "      <td>1º tri/2012 - atual</td>\n",
       "      <td>Parte 1 - Identificação e Controle</td>\n",
       "    </tr>\n",
       "    <tr>\n",
       "      <th>UF</th>\n",
       "      <td>6.0</td>\n",
       "      <td>2.0</td>\n",
       "      <td>NaN</td>\n",
       "      <td>Unidade da Federação</td>\n",
       "      <td>15</td>\n",
       "      <td>Pará</td>\n",
       "      <td>1º tri/2012 - atual</td>\n",
       "      <td>Parte 1 - Identificação e Controle</td>\n",
       "    </tr>\n",
       "    <tr>\n",
       "      <th>UF</th>\n",
       "      <td>6.0</td>\n",
       "      <td>2.0</td>\n",
       "      <td>NaN</td>\n",
       "      <td>Unidade da Federação</td>\n",
       "      <td>16</td>\n",
       "      <td>Amapá</td>\n",
       "      <td>1º tri/2012 - atual</td>\n",
       "      <td>Parte 1 - Identificação e Controle</td>\n",
       "    </tr>\n",
       "    <tr>\n",
       "      <th>UF</th>\n",
       "      <td>6.0</td>\n",
       "      <td>2.0</td>\n",
       "      <td>NaN</td>\n",
       "      <td>Unidade da Federação</td>\n",
       "      <td>17</td>\n",
       "      <td>Tocantins</td>\n",
       "      <td>1º tri/2012 - atual</td>\n",
       "      <td>Parte 1 - Identificação e Controle</td>\n",
       "    </tr>\n",
       "    <tr>\n",
       "      <th>UF</th>\n",
       "      <td>6.0</td>\n",
       "      <td>2.0</td>\n",
       "      <td>NaN</td>\n",
       "      <td>Unidade da Federação</td>\n",
       "      <td>21</td>\n",
       "      <td>Maranhão</td>\n",
       "      <td>1º tri/2012 - atual</td>\n",
       "      <td>Parte 1 - Identificação e Controle</td>\n",
       "    </tr>\n",
       "    <tr>\n",
       "      <th>UF</th>\n",
       "      <td>6.0</td>\n",
       "      <td>2.0</td>\n",
       "      <td>NaN</td>\n",
       "      <td>Unidade da Federação</td>\n",
       "      <td>22</td>\n",
       "      <td>Piauí</td>\n",
       "      <td>1º tri/2012 - atual</td>\n",
       "      <td>Parte 1 - Identificação e Controle</td>\n",
       "    </tr>\n",
       "    <tr>\n",
       "      <th>UF</th>\n",
       "      <td>6.0</td>\n",
       "      <td>2.0</td>\n",
       "      <td>NaN</td>\n",
       "      <td>Unidade da Federação</td>\n",
       "      <td>23</td>\n",
       "      <td>Ceará</td>\n",
       "      <td>1º tri/2012 - atual</td>\n",
       "      <td>Parte 1 - Identificação e Controle</td>\n",
       "    </tr>\n",
       "    <tr>\n",
       "      <th>UF</th>\n",
       "      <td>6.0</td>\n",
       "      <td>2.0</td>\n",
       "      <td>NaN</td>\n",
       "      <td>Unidade da Federação</td>\n",
       "      <td>24</td>\n",
       "      <td>Rio Grande do Norte</td>\n",
       "      <td>1º tri/2012 - atual</td>\n",
       "      <td>Parte 1 - Identificação e Controle</td>\n",
       "    </tr>\n",
       "    <tr>\n",
       "      <th>UF</th>\n",
       "      <td>6.0</td>\n",
       "      <td>2.0</td>\n",
       "      <td>NaN</td>\n",
       "      <td>Unidade da Federação</td>\n",
       "      <td>25</td>\n",
       "      <td>Paraíba</td>\n",
       "      <td>1º tri/2012 - atual</td>\n",
       "      <td>Parte 1 - Identificação e Controle</td>\n",
       "    </tr>\n",
       "    <tr>\n",
       "      <th>UF</th>\n",
       "      <td>6.0</td>\n",
       "      <td>2.0</td>\n",
       "      <td>NaN</td>\n",
       "      <td>Unidade da Federação</td>\n",
       "      <td>26</td>\n",
       "      <td>Pernambuco</td>\n",
       "      <td>1º tri/2012 - atual</td>\n",
       "      <td>Parte 1 - Identificação e Controle</td>\n",
       "    </tr>\n",
       "    <tr>\n",
       "      <th>UF</th>\n",
       "      <td>6.0</td>\n",
       "      <td>2.0</td>\n",
       "      <td>NaN</td>\n",
       "      <td>Unidade da Federação</td>\n",
       "      <td>27</td>\n",
       "      <td>Alagoas</td>\n",
       "      <td>1º tri/2012 - atual</td>\n",
       "      <td>Parte 1 - Identificação e Controle</td>\n",
       "    </tr>\n",
       "    <tr>\n",
       "      <th>UF</th>\n",
       "      <td>6.0</td>\n",
       "      <td>2.0</td>\n",
       "      <td>NaN</td>\n",
       "      <td>Unidade da Federação</td>\n",
       "      <td>28</td>\n",
       "      <td>Sergipe</td>\n",
       "      <td>1º tri/2012 - atual</td>\n",
       "      <td>Parte 1 - Identificação e Controle</td>\n",
       "    </tr>\n",
       "    <tr>\n",
       "      <th>UF</th>\n",
       "      <td>6.0</td>\n",
       "      <td>2.0</td>\n",
       "      <td>NaN</td>\n",
       "      <td>Unidade da Federação</td>\n",
       "      <td>29</td>\n",
       "      <td>Bahia</td>\n",
       "      <td>1º tri/2012 - atual</td>\n",
       "      <td>Parte 1 - Identificação e Controle</td>\n",
       "    </tr>\n",
       "    <tr>\n",
       "      <th>UF</th>\n",
       "      <td>6.0</td>\n",
       "      <td>2.0</td>\n",
       "      <td>NaN</td>\n",
       "      <td>Unidade da Federação</td>\n",
       "      <td>31</td>\n",
       "      <td>Minas Gerais</td>\n",
       "      <td>1º tri/2012 - atual</td>\n",
       "      <td>Parte 1 - Identificação e Controle</td>\n",
       "    </tr>\n",
       "    <tr>\n",
       "      <th>UF</th>\n",
       "      <td>6.0</td>\n",
       "      <td>2.0</td>\n",
       "      <td>NaN</td>\n",
       "      <td>Unidade da Federação</td>\n",
       "      <td>32</td>\n",
       "      <td>Espírito Santo</td>\n",
       "      <td>1º tri/2012 - atual</td>\n",
       "      <td>Parte 1 - Identificação e Controle</td>\n",
       "    </tr>\n",
       "    <tr>\n",
       "      <th>UF</th>\n",
       "      <td>6.0</td>\n",
       "      <td>2.0</td>\n",
       "      <td>NaN</td>\n",
       "      <td>Unidade da Federação</td>\n",
       "      <td>33</td>\n",
       "      <td>Rio de Janeiro</td>\n",
       "      <td>1º tri/2012 - atual</td>\n",
       "      <td>Parte 1 - Identificação e Controle</td>\n",
       "    </tr>\n",
       "    <tr>\n",
       "      <th>UF</th>\n",
       "      <td>6.0</td>\n",
       "      <td>2.0</td>\n",
       "      <td>NaN</td>\n",
       "      <td>Unidade da Federação</td>\n",
       "      <td>35</td>\n",
       "      <td>São Paulo</td>\n",
       "      <td>1º tri/2012 - atual</td>\n",
       "      <td>Parte 1 - Identificação e Controle</td>\n",
       "    </tr>\n",
       "    <tr>\n",
       "      <th>UF</th>\n",
       "      <td>6.0</td>\n",
       "      <td>2.0</td>\n",
       "      <td>NaN</td>\n",
       "      <td>Unidade da Federação</td>\n",
       "      <td>41</td>\n",
       "      <td>Paraná</td>\n",
       "      <td>1º tri/2012 - atual</td>\n",
       "      <td>Parte 1 - Identificação e Controle</td>\n",
       "    </tr>\n",
       "    <tr>\n",
       "      <th>UF</th>\n",
       "      <td>6.0</td>\n",
       "      <td>2.0</td>\n",
       "      <td>NaN</td>\n",
       "      <td>Unidade da Federação</td>\n",
       "      <td>42</td>\n",
       "      <td>Santa Catarina</td>\n",
       "      <td>1º tri/2012 - atual</td>\n",
       "      <td>Parte 1 - Identificação e Controle</td>\n",
       "    </tr>\n",
       "    <tr>\n",
       "      <th>UF</th>\n",
       "      <td>6.0</td>\n",
       "      <td>2.0</td>\n",
       "      <td>NaN</td>\n",
       "      <td>Unidade da Federação</td>\n",
       "      <td>43</td>\n",
       "      <td>Rio Grande do Sul</td>\n",
       "      <td>1º tri/2012 - atual</td>\n",
       "      <td>Parte 1 - Identificação e Controle</td>\n",
       "    </tr>\n",
       "    <tr>\n",
       "      <th>UF</th>\n",
       "      <td>6.0</td>\n",
       "      <td>2.0</td>\n",
       "      <td>NaN</td>\n",
       "      <td>Unidade da Federação</td>\n",
       "      <td>50</td>\n",
       "      <td>Mato Grosso do Sul</td>\n",
       "      <td>1º tri/2012 - atual</td>\n",
       "      <td>Parte 1 - Identificação e Controle</td>\n",
       "    </tr>\n",
       "    <tr>\n",
       "      <th>UF</th>\n",
       "      <td>6.0</td>\n",
       "      <td>2.0</td>\n",
       "      <td>NaN</td>\n",
       "      <td>Unidade da Federação</td>\n",
       "      <td>51</td>\n",
       "      <td>Mato Grosso</td>\n",
       "      <td>1º tri/2012 - atual</td>\n",
       "      <td>Parte 1 - Identificação e Controle</td>\n",
       "    </tr>\n",
       "    <tr>\n",
       "      <th>UF</th>\n",
       "      <td>6.0</td>\n",
       "      <td>2.0</td>\n",
       "      <td>NaN</td>\n",
       "      <td>Unidade da Federação</td>\n",
       "      <td>52</td>\n",
       "      <td>Goiás</td>\n",
       "      <td>1º tri/2012 - atual</td>\n",
       "      <td>Parte 1 - Identificação e Controle</td>\n",
       "    </tr>\n",
       "    <tr>\n",
       "      <th>UF</th>\n",
       "      <td>6.0</td>\n",
       "      <td>2.0</td>\n",
       "      <td>NaN</td>\n",
       "      <td>Unidade da Federação</td>\n",
       "      <td>53</td>\n",
       "      <td>Distrito Federal</td>\n",
       "      <td>1º tri/2012 - atual</td>\n",
       "      <td>Parte 1 - Identificação e Controle</td>\n",
       "    </tr>\n",
       "  </tbody>\n",
       "</table>\n",
       "</div>"
      ],
      "text/plain": [
       "                    Posição inicial   Tamanho quesito nº  \\\n",
       "Código da variável                                         \n",
       "UF                               6.0      2.0        NaN   \n",
       "UF                               6.0      2.0        NaN   \n",
       "UF                               6.0      2.0        NaN   \n",
       "UF                               6.0      2.0        NaN   \n",
       "UF                               6.0      2.0        NaN   \n",
       "UF                               6.0      2.0        NaN   \n",
       "UF                               6.0      2.0        NaN   \n",
       "UF                               6.0      2.0        NaN   \n",
       "UF                               6.0      2.0        NaN   \n",
       "UF                               6.0      2.0        NaN   \n",
       "UF                               6.0      2.0        NaN   \n",
       "UF                               6.0      2.0        NaN   \n",
       "UF                               6.0      2.0        NaN   \n",
       "UF                               6.0      2.0        NaN   \n",
       "UF                               6.0      2.0        NaN   \n",
       "UF                               6.0      2.0        NaN   \n",
       "UF                               6.0      2.0        NaN   \n",
       "UF                               6.0      2.0        NaN   \n",
       "UF                               6.0      2.0        NaN   \n",
       "UF                               6.0      2.0        NaN   \n",
       "UF                               6.0      2.0        NaN   \n",
       "UF                               6.0      2.0        NaN   \n",
       "UF                               6.0      2.0        NaN   \n",
       "UF                               6.0      2.0        NaN   \n",
       "UF                               6.0      2.0        NaN   \n",
       "UF                               6.0      2.0        NaN   \n",
       "UF                               6.0      2.0        NaN   \n",
       "\n",
       "                       Quesito Descrição Categorias Tipo   \\\n",
       "Código da variável                                          \n",
       "UF                  Unidade da Federação               11   \n",
       "UF                  Unidade da Federação               12   \n",
       "UF                  Unidade da Federação               13   \n",
       "UF                  Unidade da Federação               14   \n",
       "UF                  Unidade da Federação               15   \n",
       "UF                  Unidade da Federação               16   \n",
       "UF                  Unidade da Federação               17   \n",
       "UF                  Unidade da Federação               21   \n",
       "UF                  Unidade da Federação               22   \n",
       "UF                  Unidade da Federação               23   \n",
       "UF                  Unidade da Federação               24   \n",
       "UF                  Unidade da Federação               25   \n",
       "UF                  Unidade da Federação               26   \n",
       "UF                  Unidade da Federação               27   \n",
       "UF                  Unidade da Federação               28   \n",
       "UF                  Unidade da Federação               29   \n",
       "UF                  Unidade da Federação               31   \n",
       "UF                  Unidade da Federação               32   \n",
       "UF                  Unidade da Federação               33   \n",
       "UF                  Unidade da Federação               35   \n",
       "UF                  Unidade da Federação               41   \n",
       "UF                  Unidade da Federação               42   \n",
       "UF                  Unidade da Federação               43   \n",
       "UF                  Unidade da Federação               50   \n",
       "UF                  Unidade da Federação               51   \n",
       "UF                  Unidade da Federação               52   \n",
       "UF                  Unidade da Federação               53   \n",
       "\n",
       "                   Categorias Descrição              Período  \\\n",
       "Código da variável                                             \n",
       "UF                             Rondônia  1º tri/2012 - atual   \n",
       "UF                                 Acre  1º tri/2012 - atual   \n",
       "UF                             Amazonas  1º tri/2012 - atual   \n",
       "UF                              Roraima  1º tri/2012 - atual   \n",
       "UF                                 Pará  1º tri/2012 - atual   \n",
       "UF                                Amapá  1º tri/2012 - atual   \n",
       "UF                            Tocantins  1º tri/2012 - atual   \n",
       "UF                             Maranhão  1º tri/2012 - atual   \n",
       "UF                                Piauí  1º tri/2012 - atual   \n",
       "UF                                Ceará  1º tri/2012 - atual   \n",
       "UF                  Rio Grande do Norte  1º tri/2012 - atual   \n",
       "UF                              Paraíba  1º tri/2012 - atual   \n",
       "UF                           Pernambuco  1º tri/2012 - atual   \n",
       "UF                              Alagoas  1º tri/2012 - atual   \n",
       "UF                              Sergipe  1º tri/2012 - atual   \n",
       "UF                                Bahia  1º tri/2012 - atual   \n",
       "UF                         Minas Gerais  1º tri/2012 - atual   \n",
       "UF                       Espírito Santo  1º tri/2012 - atual   \n",
       "UF                       Rio de Janeiro  1º tri/2012 - atual   \n",
       "UF                            São Paulo  1º tri/2012 - atual   \n",
       "UF                               Paraná  1º tri/2012 - atual   \n",
       "UF                       Santa Catarina  1º tri/2012 - atual   \n",
       "UF                    Rio Grande do Sul  1º tri/2012 - atual   \n",
       "UF                   Mato Grosso do Sul  1º tri/2012 - atual   \n",
       "UF                          Mato Grosso  1º tri/2012 - atual   \n",
       "UF                                Goiás  1º tri/2012 - atual   \n",
       "UF                     Distrito Federal  1º tri/2012 - atual   \n",
       "\n",
       "                                                 Parte  \n",
       "Código da variável                                      \n",
       "UF                  Parte 1 - Identificação e Controle  \n",
       "UF                  Parte 1 - Identificação e Controle  \n",
       "UF                  Parte 1 - Identificação e Controle  \n",
       "UF                  Parte 1 - Identificação e Controle  \n",
       "UF                  Parte 1 - Identificação e Controle  \n",
       "UF                  Parte 1 - Identificação e Controle  \n",
       "UF                  Parte 1 - Identificação e Controle  \n",
       "UF                  Parte 1 - Identificação e Controle  \n",
       "UF                  Parte 1 - Identificação e Controle  \n",
       "UF                  Parte 1 - Identificação e Controle  \n",
       "UF                  Parte 1 - Identificação e Controle  \n",
       "UF                  Parte 1 - Identificação e Controle  \n",
       "UF                  Parte 1 - Identificação e Controle  \n",
       "UF                  Parte 1 - Identificação e Controle  \n",
       "UF                  Parte 1 - Identificação e Controle  \n",
       "UF                  Parte 1 - Identificação e Controle  \n",
       "UF                  Parte 1 - Identificação e Controle  \n",
       "UF                  Parte 1 - Identificação e Controle  \n",
       "UF                  Parte 1 - Identificação e Controle  \n",
       "UF                  Parte 1 - Identificação e Controle  \n",
       "UF                  Parte 1 - Identificação e Controle  \n",
       "UF                  Parte 1 - Identificação e Controle  \n",
       "UF                  Parte 1 - Identificação e Controle  \n",
       "UF                  Parte 1 - Identificação e Controle  \n",
       "UF                  Parte 1 - Identificação e Controle  \n",
       "UF                  Parte 1 - Identificação e Controle  \n",
       "UF                  Parte 1 - Identificação e Controle  "
      ]
     },
     "execution_count": 12,
     "metadata": {},
     "output_type": "execute_result"
    }
   ],
   "source": [
    "var_dict.loc['UF']"
   ]
  },
  {
   "cell_type": "code",
   "execution_count": 13,
   "metadata": {},
   "outputs": [],
   "source": [
    "#create_parquet_pnadc(path = 'PNADC/*.csv')\n",
    "data = dd.read_csv(paths_2020)\n",
    "#filters\n",
    "#ref https://rpubs.com/nataliarspires/Tutorial_PNADC_23SINAPE\n",
    "data = data.query('V2009 >= 14 and VD4015 == 1') #maiores de 14 anos e trabalho remunerado"
   ]
  },
  {
   "cell_type": "code",
   "execution_count": 14,
   "metadata": {},
   "outputs": [],
   "source": [
    "data = data.compute() #compute filtered data"
   ]
  },
  {
   "cell_type": "code",
   "execution_count": 15,
   "metadata": {},
   "outputs": [
    {
     "data": {
      "text/plain": [
       "592844"
      ]
     },
     "execution_count": 15,
     "metadata": {},
     "output_type": "execute_result"
    }
   ],
   "source": [
    "data.shape[0]"
   ]
  },
  {
   "cell_type": "code",
   "execution_count": 16,
   "metadata": {},
   "outputs": [],
   "source": [
    "#data = data.astype(str)\n",
    "#data = convert_int(data, dtype = str)\n"
   ]
  },
  {
   "cell_type": "code",
   "execution_count": 17,
   "metadata": {},
   "outputs": [],
   "source": [
    "#var_dict.loc[rendimentos_cols]"
   ]
  },
  {
   "cell_type": "code",
   "execution_count": 18,
   "metadata": {},
   "outputs": [
    {
     "data": {
      "text/html": [
       "<div>\n",
       "<style scoped>\n",
       "    .dataframe tbody tr th:only-of-type {\n",
       "        vertical-align: middle;\n",
       "    }\n",
       "\n",
       "    .dataframe tbody tr th {\n",
       "        vertical-align: top;\n",
       "    }\n",
       "\n",
       "    .dataframe thead th {\n",
       "        text-align: right;\n",
       "    }\n",
       "</style>\n",
       "<table border=\"1\" class=\"dataframe\">\n",
       "  <thead>\n",
       "    <tr style=\"text-align: right;\">\n",
       "      <th></th>\n",
       "      <th>Posição inicial</th>\n",
       "      <th>Tamanho</th>\n",
       "      <th>quesito nº</th>\n",
       "      <th>Quesito Descrição</th>\n",
       "      <th>Categorias Tipo</th>\n",
       "      <th>Categorias Descrição</th>\n",
       "      <th>Período</th>\n",
       "      <th>Parte</th>\n",
       "    </tr>\n",
       "    <tr>\n",
       "      <th>Código da variável</th>\n",
       "      <th></th>\n",
       "      <th></th>\n",
       "      <th></th>\n",
       "      <th></th>\n",
       "      <th></th>\n",
       "      <th></th>\n",
       "      <th></th>\n",
       "      <th></th>\n",
       "    </tr>\n",
       "  </thead>\n",
       "  <tbody>\n",
       "    <tr>\n",
       "      <th>V403312</th>\n",
       "      <td>188.0</td>\n",
       "      <td>8.0</td>\n",
       "      <td>33</td>\n",
       "      <td>Qual era o rendimento bruto/retirada mensal qu...</td>\n",
       "      <td>valor em reais</td>\n",
       "      <td>R$</td>\n",
       "      <td>1º tri/2012 - atual</td>\n",
       "      <td>2 - Pessoas Ocupadas</td>\n",
       "    </tr>\n",
       "    <tr>\n",
       "      <th>V403322</th>\n",
       "      <td>198.0</td>\n",
       "      <td>8.0</td>\n",
       "      <td>33</td>\n",
       "      <td>Qual era o rendimento bruto/retirada mensal qu...</td>\n",
       "      <td>valor em reais</td>\n",
       "      <td>R$</td>\n",
       "      <td>1º tri/2012 - atual</td>\n",
       "      <td>2 - Pessoas Ocupadas</td>\n",
       "    </tr>\n",
       "    <tr>\n",
       "      <th>V403412</th>\n",
       "      <td>211.0</td>\n",
       "      <td>8.0</td>\n",
       "      <td>34</td>\n",
       "      <td>Qual foi o rendimento bruto/retirada que ... r...</td>\n",
       "      <td>valor em reais</td>\n",
       "      <td>R$</td>\n",
       "      <td>1º tri/2012 - atual</td>\n",
       "      <td>2 - Pessoas Ocupadas</td>\n",
       "    </tr>\n",
       "    <tr>\n",
       "      <th>V403422</th>\n",
       "      <td>221.0</td>\n",
       "      <td>8.0</td>\n",
       "      <td>34</td>\n",
       "      <td>Qual foi o rendimento bruto/retirada que ... r...</td>\n",
       "      <td>valor em reais</td>\n",
       "      <td>R$</td>\n",
       "      <td>1º tri/2012 - atual</td>\n",
       "      <td>2 - Pessoas Ocupadas</td>\n",
       "    </tr>\n",
       "    <tr>\n",
       "      <th>V405012</th>\n",
       "      <td>261.0</td>\n",
       "      <td>8.0</td>\n",
       "      <td>50</td>\n",
       "      <td>Valor em dinheiro do rendimento mensal que rec...</td>\n",
       "      <td>valor em reais</td>\n",
       "      <td>R$</td>\n",
       "      <td>1º tri/2012 - atual</td>\n",
       "      <td>2 - Pessoas Ocupadas</td>\n",
       "    </tr>\n",
       "    <tr>\n",
       "      <th>V405022</th>\n",
       "      <td>271.0</td>\n",
       "      <td>8.0</td>\n",
       "      <td>50</td>\n",
       "      <td>Valor estimado dos produtos e mercadorias que ...</td>\n",
       "      <td>valor em reais</td>\n",
       "      <td>R$</td>\n",
       "      <td>1º tri/2012 - atual</td>\n",
       "      <td>2 - Pessoas Ocupadas</td>\n",
       "    </tr>\n",
       "    <tr>\n",
       "      <th>V405112</th>\n",
       "      <td>284.0</td>\n",
       "      <td>8.0</td>\n",
       "      <td>51</td>\n",
       "      <td>Valor em dinheiro do rendimento mensal que rec...</td>\n",
       "      <td>valor em reais</td>\n",
       "      <td>R$</td>\n",
       "      <td>1º tri/2012 - atual</td>\n",
       "      <td>2 - Pessoas Ocupadas</td>\n",
       "    </tr>\n",
       "    <tr>\n",
       "      <th>V405122</th>\n",
       "      <td>294.0</td>\n",
       "      <td>8.0</td>\n",
       "      <td>51</td>\n",
       "      <td>Valor estimado dos produtos e mercadorias que ...</td>\n",
       "      <td>valor em reais</td>\n",
       "      <td>R$</td>\n",
       "      <td>1º tri/2012 - atual</td>\n",
       "      <td>2 - Pessoas Ocupadas</td>\n",
       "    </tr>\n",
       "    <tr>\n",
       "      <th>V405812</th>\n",
       "      <td>312.0</td>\n",
       "      <td>8.0</td>\n",
       "      <td>58</td>\n",
       "      <td>Valor em dinheiro do rendimento mensal que rec...</td>\n",
       "      <td>valor em reais</td>\n",
       "      <td>R$</td>\n",
       "      <td>1º tri/2012 - atual</td>\n",
       "      <td>2 - Pessoas Ocupadas</td>\n",
       "    </tr>\n",
       "    <tr>\n",
       "      <th>V405822</th>\n",
       "      <td>322.0</td>\n",
       "      <td>8.0</td>\n",
       "      <td>58</td>\n",
       "      <td>Valor estimado do produtos e mercadorias que r...</td>\n",
       "      <td>valor em reais</td>\n",
       "      <td>R$</td>\n",
       "      <td>1º tri/2012 - atual</td>\n",
       "      <td>2 - Pessoas Ocupadas</td>\n",
       "    </tr>\n",
       "    <tr>\n",
       "      <th>V405912</th>\n",
       "      <td>336.0</td>\n",
       "      <td>8.0</td>\n",
       "      <td>59</td>\n",
       "      <td>Valor em dinheiro do rendimento mensal que rec...</td>\n",
       "      <td>valor em reais</td>\n",
       "      <td>R$</td>\n",
       "      <td>1º tri/2012 - atual</td>\n",
       "      <td>2 - Pessoas Ocupadas</td>\n",
       "    </tr>\n",
       "    <tr>\n",
       "      <th>V405922</th>\n",
       "      <td>346.0</td>\n",
       "      <td>8.0</td>\n",
       "      <td>59</td>\n",
       "      <td>Valor estimado do produtos e mercadorias que r...</td>\n",
       "      <td>valor em reais</td>\n",
       "      <td>R$</td>\n",
       "      <td>1º tri/2012 - atual</td>\n",
       "      <td>2 - Pessoas Ocupadas</td>\n",
       "    </tr>\n",
       "    <tr>\n",
       "      <th>VD4016</th>\n",
       "      <td>413.0</td>\n",
       "      <td>8.0</td>\n",
       "      <td>82</td>\n",
       "      <td>Rendimento mensal habitual do trabalho princip...</td>\n",
       "      <td>Valor</td>\n",
       "      <td>R$</td>\n",
       "      <td>1º tri/2012 - atual</td>\n",
       "      <td>Variáveis Derivadas</td>\n",
       "    </tr>\n",
       "    <tr>\n",
       "      <th>VD4017</th>\n",
       "      <td>421.0</td>\n",
       "      <td>8.0</td>\n",
       "      <td>82</td>\n",
       "      <td>Rendimento mensal efetivo do trabalho principa...</td>\n",
       "      <td>Valor</td>\n",
       "      <td>R$</td>\n",
       "      <td>1º tri/2012 - atual</td>\n",
       "      <td>Variáveis Derivadas</td>\n",
       "    </tr>\n",
       "    <tr>\n",
       "      <th>VD4019</th>\n",
       "      <td>430.0</td>\n",
       "      <td>8.0</td>\n",
       "      <td>82</td>\n",
       "      <td>Rendimento mensal habitual de todos os trabalh...</td>\n",
       "      <td>Valor</td>\n",
       "      <td>R$</td>\n",
       "      <td>1º tri/2012 - atual</td>\n",
       "      <td>Variáveis Derivadas</td>\n",
       "    </tr>\n",
       "    <tr>\n",
       "      <th>VD4020</th>\n",
       "      <td>438.0</td>\n",
       "      <td>8.0</td>\n",
       "      <td>82</td>\n",
       "      <td>Rendimento mensal efetivo de todos os trabalho...</td>\n",
       "      <td>Valor</td>\n",
       "      <td>R$</td>\n",
       "      <td>1º tri/2012 - atual</td>\n",
       "      <td>Variáveis Derivadas</td>\n",
       "    </tr>\n",
       "  </tbody>\n",
       "</table>\n",
       "</div>"
      ],
      "text/plain": [
       "                    Posição inicial   Tamanho quesito nº  \\\n",
       "Código da variável                                         \n",
       "V403312                        188.0      8.0         33   \n",
       "V403322                        198.0      8.0         33   \n",
       "V403412                        211.0      8.0         34   \n",
       "V403422                        221.0      8.0         34   \n",
       "V405012                        261.0      8.0         50   \n",
       "V405022                        271.0      8.0         50   \n",
       "V405112                        284.0      8.0         51   \n",
       "V405122                        294.0      8.0         51   \n",
       "V405812                        312.0      8.0         58   \n",
       "V405822                        322.0      8.0         58   \n",
       "V405912                        336.0      8.0         59   \n",
       "V405922                        346.0      8.0         59   \n",
       "VD4016                         413.0      8.0         82   \n",
       "VD4017                         421.0      8.0         82   \n",
       "VD4019                         430.0      8.0         82   \n",
       "VD4020                         438.0      8.0         82   \n",
       "\n",
       "                                                    Quesito Descrição  \\\n",
       "Código da variável                                                      \n",
       "V403312             Qual era o rendimento bruto/retirada mensal qu...   \n",
       "V403322             Qual era o rendimento bruto/retirada mensal qu...   \n",
       "V403412             Qual foi o rendimento bruto/retirada que ... r...   \n",
       "V403422             Qual foi o rendimento bruto/retirada que ... r...   \n",
       "V405012             Valor em dinheiro do rendimento mensal que rec...   \n",
       "V405022             Valor estimado dos produtos e mercadorias que ...   \n",
       "V405112             Valor em dinheiro do rendimento mensal que rec...   \n",
       "V405122             Valor estimado dos produtos e mercadorias que ...   \n",
       "V405812             Valor em dinheiro do rendimento mensal que rec...   \n",
       "V405822             Valor estimado do produtos e mercadorias que r...   \n",
       "V405912             Valor em dinheiro do rendimento mensal que rec...   \n",
       "V405922             Valor estimado do produtos e mercadorias que r...   \n",
       "VD4016              Rendimento mensal habitual do trabalho princip...   \n",
       "VD4017              Rendimento mensal efetivo do trabalho principa...   \n",
       "VD4019              Rendimento mensal habitual de todos os trabalh...   \n",
       "VD4020              Rendimento mensal efetivo de todos os trabalho...   \n",
       "\n",
       "                   Categorias Tipo  Categorias Descrição              Período  \\\n",
       "Código da variável                                                              \n",
       "V403312              valor em reais                   R$  1º tri/2012 - atual   \n",
       "V403322              valor em reais                   R$  1º tri/2012 - atual   \n",
       "V403412              valor em reais                   R$  1º tri/2012 - atual   \n",
       "V403422              valor em reais                   R$  1º tri/2012 - atual   \n",
       "V405012              valor em reais                   R$  1º tri/2012 - atual   \n",
       "V405022              valor em reais                   R$  1º tri/2012 - atual   \n",
       "V405112              valor em reais                   R$  1º tri/2012 - atual   \n",
       "V405122              valor em reais                   R$  1º tri/2012 - atual   \n",
       "V405812              valor em reais                   R$  1º tri/2012 - atual   \n",
       "V405822              valor em reais                   R$  1º tri/2012 - atual   \n",
       "V405912              valor em reais                   R$  1º tri/2012 - atual   \n",
       "V405922              valor em reais                   R$  1º tri/2012 - atual   \n",
       "VD4016                        Valor                   R$  1º tri/2012 - atual   \n",
       "VD4017                        Valor                   R$  1º tri/2012 - atual   \n",
       "VD4019                        Valor                   R$  1º tri/2012 - atual   \n",
       "VD4020                        Valor                   R$  1º tri/2012 - atual   \n",
       "\n",
       "                                    Parte  \n",
       "Código da variável                         \n",
       "V403312              2 - Pessoas Ocupadas  \n",
       "V403322              2 - Pessoas Ocupadas  \n",
       "V403412              2 - Pessoas Ocupadas  \n",
       "V403422              2 - Pessoas Ocupadas  \n",
       "V405012              2 - Pessoas Ocupadas  \n",
       "V405022              2 - Pessoas Ocupadas  \n",
       "V405112              2 - Pessoas Ocupadas  \n",
       "V405122              2 - Pessoas Ocupadas  \n",
       "V405812              2 - Pessoas Ocupadas  \n",
       "V405822              2 - Pessoas Ocupadas  \n",
       "V405912              2 - Pessoas Ocupadas  \n",
       "V405922              2 - Pessoas Ocupadas  \n",
       "VD4016                Variáveis Derivadas  \n",
       "VD4017                Variáveis Derivadas  \n",
       "VD4019                Variáveis Derivadas  \n",
       "VD4020                Variáveis Derivadas  "
      ]
     },
     "execution_count": 18,
     "metadata": {},
     "output_type": "execute_result"
    }
   ],
   "source": [
    "var_dict.query('`Categorias Descrição` == \"R$\"')"
   ]
  },
  {
   "cell_type": "code",
   "execution_count": 19,
   "metadata": {},
   "outputs": [],
   "source": [
    "rendimentos_cols = [\n",
    "    'VD4016' \n",
    "]"
   ]
  },
  {
   "cell_type": "code",
   "execution_count": 20,
   "metadata": {},
   "outputs": [],
   "source": [
    "rendimentos = data[rendimentos_cols]"
   ]
  },
  {
   "cell_type": "code",
   "execution_count": 21,
   "metadata": {},
   "outputs": [
    {
     "data": {
      "text/plain": [
       "VD4016    0.0\n",
       "dtype: float64"
      ]
     },
     "execution_count": 21,
     "metadata": {},
     "output_type": "execute_result"
    }
   ],
   "source": [
    "(rendimentos == 0).mean()"
   ]
  },
  {
   "cell_type": "code",
   "execution_count": 22,
   "metadata": {},
   "outputs": [
    {
     "name": "stderr",
     "output_type": "stream",
     "text": [
      "C:\\Users\\User Ambev\\Desktop\\Mestrado\\MO444\\MO444env\\lib\\site-packages\\seaborn\\distributions.py:2619: FutureWarning: `distplot` is a deprecated function and will be removed in a future version. Please adapt your code to use either `displot` (a figure-level function with similar flexibility) or `histplot` (an axes-level function for histograms).\n",
      "  warnings.warn(msg, FutureWarning)\n"
     ]
    },
    {
     "data": {
      "text/plain": [
       "Text(0.5, 0, 'wage in R$')"
      ]
     },
     "execution_count": 22,
     "metadata": {},
     "output_type": "execute_result"
    },
    {
     "data": {
      "image/png": "[encoded data removed]",
      "text/plain": [
       "<Figure size 432x288 with 1 Axes>"
      ]
     },
     "metadata": {
      "needs_background": "light"
     },
     "output_type": "display_data"
    }
   ],
   "source": [
    "sns.distplot(rendimentos.sample(frac = 0.2))\n",
    "plt.title('Distribution of wage')\n",
    "plt.xlabel('wage in R$')"
   ]
  },
  {
   "cell_type": "code",
   "execution_count": 23,
   "metadata": {},
   "outputs": [
    {
     "name": "stderr",
     "output_type": "stream",
     "text": [
      "C:\\Users\\User Ambev\\Desktop\\Mestrado\\MO444\\MO444env\\lib\\site-packages\\seaborn\\distributions.py:2619: FutureWarning: `distplot` is a deprecated function and will be removed in a future version. Please adapt your code to use either `displot` (a figure-level function with similar flexibility) or `histplot` (an axes-level function for histograms).\n",
      "  warnings.warn(msg, FutureWarning)\n"
     ]
    },
    {
     "data": {
      "text/plain": [
       "Text(0.5, 0, 'ln(wage) in R$')"
      ]
     },
     "execution_count": 23,
     "metadata": {},
     "output_type": "execute_result"
    },
    {
     "data": {
      "image/png": "[encoded data removed]",
      "text/plain": [
       "<Figure size 432x288 with 1 Axes>"
      ]
     },
     "metadata": {
      "needs_background": "light"
     },
     "output_type": "display_data"
    }
   ],
   "source": [
    "sns.distplot(np.log(rendimentos.sample(frac = 0.2)))\n",
    "plt.title('Distribution of ln(wage)')\n",
    "plt.xlabel('ln(wage) in R$')"
   ]
  },
  {
   "cell_type": "code",
   "execution_count": 24,
   "metadata": {},
   "outputs": [
    {
     "data": {
      "text/html": [
       "<div>\n",
       "<style scoped>\n",
       "    .dataframe tbody tr th:only-of-type {\n",
       "        vertical-align: middle;\n",
       "    }\n",
       "\n",
       "    .dataframe tbody tr th {\n",
       "        vertical-align: top;\n",
       "    }\n",
       "\n",
       "    .dataframe thead th {\n",
       "        text-align: right;\n",
       "    }\n",
       "</style>\n",
       "<table border=\"1\" class=\"dataframe\">\n",
       "  <thead>\n",
       "    <tr style=\"text-align: right;\">\n",
       "      <th></th>\n",
       "      <th>Posição inicial</th>\n",
       "      <th>Tamanho</th>\n",
       "      <th>quesito nº</th>\n",
       "      <th>Quesito Descrição</th>\n",
       "      <th>Categorias Tipo</th>\n",
       "      <th>Categorias Descrição</th>\n",
       "      <th>Período</th>\n",
       "      <th>Parte</th>\n",
       "    </tr>\n",
       "    <tr>\n",
       "      <th>Código da variável</th>\n",
       "      <th></th>\n",
       "      <th></th>\n",
       "      <th></th>\n",
       "      <th></th>\n",
       "      <th></th>\n",
       "      <th></th>\n",
       "      <th></th>\n",
       "      <th></th>\n",
       "    </tr>\n",
       "  </thead>\n",
       "  <tbody>\n",
       "    <tr>\n",
       "      <th>V2010</th>\n",
       "      <td>95.0</td>\n",
       "      <td>1.0</td>\n",
       "      <td>10</td>\n",
       "      <td>Cor ou raça</td>\n",
       "      <td>1</td>\n",
       "      <td>Branca</td>\n",
       "      <td>1º tri/2012 - atual</td>\n",
       "      <td>Parte 2 - Características Gerais dos Moradores</td>\n",
       "    </tr>\n",
       "    <tr>\n",
       "      <th>V2010</th>\n",
       "      <td>95.0</td>\n",
       "      <td>1.0</td>\n",
       "      <td>10</td>\n",
       "      <td>Cor ou raça</td>\n",
       "      <td>2</td>\n",
       "      <td>Preta</td>\n",
       "      <td>1º tri/2012 - atual</td>\n",
       "      <td>Parte 2 - Características Gerais dos Moradores</td>\n",
       "    </tr>\n",
       "    <tr>\n",
       "      <th>V2010</th>\n",
       "      <td>95.0</td>\n",
       "      <td>1.0</td>\n",
       "      <td>10</td>\n",
       "      <td>Cor ou raça</td>\n",
       "      <td>3</td>\n",
       "      <td>Amarela</td>\n",
       "      <td>1º tri/2012 - atual</td>\n",
       "      <td>Parte 2 - Características Gerais dos Moradores</td>\n",
       "    </tr>\n",
       "    <tr>\n",
       "      <th>V2010</th>\n",
       "      <td>95.0</td>\n",
       "      <td>1.0</td>\n",
       "      <td>10</td>\n",
       "      <td>Cor ou raça</td>\n",
       "      <td>4</td>\n",
       "      <td>Parda</td>\n",
       "      <td>1º tri/2012 - atual</td>\n",
       "      <td>Parte 2 - Características Gerais dos Moradores</td>\n",
       "    </tr>\n",
       "    <tr>\n",
       "      <th>V2010</th>\n",
       "      <td>95.0</td>\n",
       "      <td>1.0</td>\n",
       "      <td>10</td>\n",
       "      <td>Cor ou raça</td>\n",
       "      <td>5</td>\n",
       "      <td>Indígena</td>\n",
       "      <td>1º tri/2012 - atual</td>\n",
       "      <td>Parte 2 - Características Gerais dos Moradores</td>\n",
       "    </tr>\n",
       "    <tr>\n",
       "      <th>V2010</th>\n",
       "      <td>95.0</td>\n",
       "      <td>1.0</td>\n",
       "      <td>10</td>\n",
       "      <td>Cor ou raça</td>\n",
       "      <td>9</td>\n",
       "      <td>Ignorado</td>\n",
       "      <td>1º tri/2012 - atual</td>\n",
       "      <td>Parte 2 - Características Gerais dos Moradores</td>\n",
       "    </tr>\n",
       "  </tbody>\n",
       "</table>\n",
       "</div>"
      ],
      "text/plain": [
       "                    Posição inicial   Tamanho quesito nº Quesito Descrição  \\\n",
       "Código da variável                                                           \n",
       "V2010                           95.0      1.0         10       Cor ou raça   \n",
       "V2010                           95.0      1.0         10       Cor ou raça   \n",
       "V2010                           95.0      1.0         10       Cor ou raça   \n",
       "V2010                           95.0      1.0         10       Cor ou raça   \n",
       "V2010                           95.0      1.0         10       Cor ou raça   \n",
       "V2010                           95.0      1.0         10       Cor ou raça   \n",
       "\n",
       "                   Categorias Tipo  Categorias Descrição              Período  \\\n",
       "Código da variável                                                              \n",
       "V2010                             1               Branca  1º tri/2012 - atual   \n",
       "V2010                             2                Preta  1º tri/2012 - atual   \n",
       "V2010                             3              Amarela  1º tri/2012 - atual   \n",
       "V2010                             4               Parda   1º tri/2012 - atual   \n",
       "V2010                             5             Indígena  1º tri/2012 - atual   \n",
       "V2010                             9             Ignorado  1º tri/2012 - atual   \n",
       "\n",
       "                                                             Parte  \n",
       "Código da variável                                                  \n",
       "V2010               Parte 2 - Características Gerais dos Moradores  \n",
       "V2010               Parte 2 - Características Gerais dos Moradores  \n",
       "V2010               Parte 2 - Características Gerais dos Moradores  \n",
       "V2010               Parte 2 - Características Gerais dos Moradores  \n",
       "V2010               Parte 2 - Características Gerais dos Moradores  \n",
       "V2010               Parte 2 - Características Gerais dos Moradores  "
      ]
     },
     "execution_count": 24,
     "metadata": {},
     "output_type": "execute_result"
    }
   ],
   "source": [
    "var_dict.loc['V2010']"
   ]
  },
  {
   "cell_type": "code",
   "execution_count": 25,
   "metadata": {},
   "outputs": [
    {
     "data": {
      "text/plain": [
       "4.0    0.476840\n",
       "1.0    0.424537\n",
       "2.0    0.089572\n",
       "3.0    0.005118\n",
       "5.0    0.003760\n",
       "9.0    0.000174\n",
       "Name: V2010, dtype: float64"
      ]
     },
     "execution_count": 25,
     "metadata": {},
     "output_type": "execute_result"
    }
   ],
   "source": [
    "raca = data['V2010']\n",
    "\n",
    "raca.value_counts(1)"
   ]
  },
  {
   "cell_type": "code",
   "execution_count": 26,
   "metadata": {},
   "outputs": [],
   "source": [
    "raca_binary = data['V2010']\n",
    "sex = data['V2007']"
   ]
  },
  {
   "cell_type": "code",
   "execution_count": 27,
   "metadata": {},
   "outputs": [],
   "source": [
    "sex.loc[sex == 1] = 'Masculino'\n",
    "sex.loc[sex == 2] = 'Feminino'"
   ]
  },
  {
   "cell_type": "code",
   "execution_count": 28,
   "metadata": {},
   "outputs": [
    {
     "name": "stderr",
     "output_type": "stream",
     "text": [
      "C:\\Users\\User Ambev\\Desktop\\Mestrado\\MO444\\MO444env\\lib\\site-packages\\pandas\\core\\indexing.py:1732: SettingWithCopyWarning: \n",
      "A value is trying to be set on a copy of a slice from a DataFrame\n",
      "\n",
      "See the caveats in the documentation: https://pandas.pydata.org/pandas-docs/stable/user_guide/indexing.html#returning-a-view-versus-a-copy\n",
      "  self._setitem_single_block(indexer, value, name)\n"
     ]
    }
   ],
   "source": [
    "raca_binary.loc[raca_binary.isin([9])] = 'Ignorado'\n",
    "raca_binary.loc[raca_binary.isin([1,3])] = 'Branca ou Amarela'\n",
    "raca_binary.loc[raca_binary.isin([2,4,5])] = 'Preta, Parda ou Indígena'"
   ]
  },
  {
   "cell_type": "code",
   "execution_count": 29,
   "metadata": {},
   "outputs": [
    {
     "data": {
      "text/html": [
       "<div>\n",
       "<style scoped>\n",
       "    .dataframe tbody tr th:only-of-type {\n",
       "        vertical-align: middle;\n",
       "    }\n",
       "\n",
       "    .dataframe tbody tr th {\n",
       "        vertical-align: top;\n",
       "    }\n",
       "\n",
       "    .dataframe thead th {\n",
       "        text-align: right;\n",
       "    }\n",
       "</style>\n",
       "<table border=\"1\" class=\"dataframe\">\n",
       "  <thead>\n",
       "    <tr style=\"text-align: right;\">\n",
       "      <th></th>\n",
       "      <th></th>\n",
       "      <th>count</th>\n",
       "      <th>mean</th>\n",
       "      <th>std</th>\n",
       "      <th>min</th>\n",
       "      <th>25%</th>\n",
       "      <th>50%</th>\n",
       "      <th>75%</th>\n",
       "      <th>max</th>\n",
       "    </tr>\n",
       "    <tr>\n",
       "      <th>V2007</th>\n",
       "      <th>V2010</th>\n",
       "      <th></th>\n",
       "      <th></th>\n",
       "      <th></th>\n",
       "      <th></th>\n",
       "      <th></th>\n",
       "      <th></th>\n",
       "      <th></th>\n",
       "      <th></th>\n",
       "    </tr>\n",
       "  </thead>\n",
       "  <tbody>\n",
       "    <tr>\n",
       "      <th rowspan=\"3\" valign=\"top\">Feminino</th>\n",
       "      <th>Branca ou Amarela</th>\n",
       "      <td>110010.0</td>\n",
       "      <td>2434.984347</td>\n",
       "      <td>3191.328347</td>\n",
       "      <td>8.0</td>\n",
       "      <td>1045.0</td>\n",
       "      <td>1500.0</td>\n",
       "      <td>2665.5</td>\n",
       "      <td>100000.0</td>\n",
       "    </tr>\n",
       "    <tr>\n",
       "      <th>Ignorado</th>\n",
       "      <td>44.0</td>\n",
       "      <td>1851.136364</td>\n",
       "      <td>1553.666655</td>\n",
       "      <td>150.0</td>\n",
       "      <td>800.0</td>\n",
       "      <td>1237.5</td>\n",
       "      <td>2275.0</td>\n",
       "      <td>6500.0</td>\n",
       "    </tr>\n",
       "    <tr>\n",
       "      <th>Preta, Parda ou Indígena</th>\n",
       "      <td>133719.0</td>\n",
       "      <td>1495.233953</td>\n",
       "      <td>1776.013659</td>\n",
       "      <td>10.0</td>\n",
       "      <td>700.0</td>\n",
       "      <td>1045.0</td>\n",
       "      <td>1600.0</td>\n",
       "      <td>100000.0</td>\n",
       "    </tr>\n",
       "    <tr>\n",
       "      <th rowspan=\"3\" valign=\"top\">Masculino</th>\n",
       "      <th>Branca ou Amarela</th>\n",
       "      <td>144708.0</td>\n",
       "      <td>3089.524352</td>\n",
       "      <td>4748.443123</td>\n",
       "      <td>10.0</td>\n",
       "      <td>1100.0</td>\n",
       "      <td>1885.0</td>\n",
       "      <td>3000.0</td>\n",
       "      <td>250000.0</td>\n",
       "    </tr>\n",
       "    <tr>\n",
       "      <th>Ignorado</th>\n",
       "      <td>59.0</td>\n",
       "      <td>5734.915254</td>\n",
       "      <td>13741.702998</td>\n",
       "      <td>400.0</td>\n",
       "      <td>1045.0</td>\n",
       "      <td>1500.0</td>\n",
       "      <td>3000.0</td>\n",
       "      <td>60000.0</td>\n",
       "    </tr>\n",
       "    <tr>\n",
       "      <th>Preta, Parda ou Indígena</th>\n",
       "      <td>204304.0</td>\n",
       "      <td>1783.314262</td>\n",
       "      <td>2312.968669</td>\n",
       "      <td>4.0</td>\n",
       "      <td>900.0</td>\n",
       "      <td>1200.0</td>\n",
       "      <td>2000.0</td>\n",
       "      <td>100000.0</td>\n",
       "    </tr>\n",
       "  </tbody>\n",
       "</table>\n",
       "</div>"
      ],
      "text/plain": [
       "                                       count         mean           std  \\\n",
       "V2007     V2010                                                           \n",
       "Feminino  Branca ou Amarela         110010.0  2434.984347   3191.328347   \n",
       "          Ignorado                      44.0  1851.136364   1553.666655   \n",
       "          Preta, Parda ou Indígena  133719.0  1495.233953   1776.013659   \n",
       "Masculino Branca ou Amarela         144708.0  3089.524352   4748.443123   \n",
       "          Ignorado                      59.0  5734.915254  13741.702998   \n",
       "          Preta, Parda ou Indígena  204304.0  1783.314262   2312.968669   \n",
       "\n",
       "                                      min     25%     50%     75%       max  \n",
       "V2007     V2010                                                              \n",
       "Feminino  Branca ou Amarela           8.0  1045.0  1500.0  2665.5  100000.0  \n",
       "          Ignorado                  150.0   800.0  1237.5  2275.0    6500.0  \n",
       "          Preta, Parda ou Indígena   10.0   700.0  1045.0  1600.0  100000.0  \n",
       "Masculino Branca ou Amarela          10.0  1100.0  1885.0  3000.0  250000.0  \n",
       "          Ignorado                  400.0  1045.0  1500.0  3000.0   60000.0  \n",
       "          Preta, Parda ou Indígena    4.0   900.0  1200.0  2000.0  100000.0  "
      ]
     },
     "execution_count": 29,
     "metadata": {},
     "output_type": "execute_result"
    }
   ],
   "source": [
    "pd.concat([raca_binary,rendimentos, sex], axis = 1).groupby(['V2007','V2010'])['VD4016'].describe()"
   ]
  },
  {
   "cell_type": "markdown",
   "metadata": {},
   "source": [
    "# Feature engineering"
   ]
  },
  {
   "cell_type": "code",
   "execution_count": 30,
   "metadata": {},
   "outputs": [
    {
     "data": {
      "text/html": [
       "<div>\n",
       "<style scoped>\n",
       "    .dataframe tbody tr th:only-of-type {\n",
       "        vertical-align: middle;\n",
       "    }\n",
       "\n",
       "    .dataframe tbody tr th {\n",
       "        vertical-align: top;\n",
       "    }\n",
       "\n",
       "    .dataframe thead th {\n",
       "        text-align: right;\n",
       "    }\n",
       "</style>\n",
       "<table border=\"1\" class=\"dataframe\">\n",
       "  <thead>\n",
       "    <tr style=\"text-align: right;\">\n",
       "      <th></th>\n",
       "      <th>Grande Grupo</th>\n",
       "      <th>Subgrupo principal</th>\n",
       "      <th>Subgrupo</th>\n",
       "      <th>Grupo de base</th>\n",
       "      <th>Denominação</th>\n",
       "    </tr>\n",
       "  </thead>\n",
       "  <tbody>\n",
       "    <tr>\n",
       "      <th>0</th>\n",
       "      <td>1.0</td>\n",
       "      <td>NaN</td>\n",
       "      <td>NaN</td>\n",
       "      <td>NaN</td>\n",
       "      <td>DIRETORES E GERENTES</td>\n",
       "    </tr>\n",
       "    <tr>\n",
       "      <th>1</th>\n",
       "      <td>1.0</td>\n",
       "      <td>11.0</td>\n",
       "      <td>NaN</td>\n",
       "      <td>NaN</td>\n",
       "      <td>DIRETORES EXECUTIVOS, DIRIGENTES DA ADMINISTRA...</td>\n",
       "    </tr>\n",
       "    <tr>\n",
       "      <th>2</th>\n",
       "      <td>1.0</td>\n",
       "      <td>11.0</td>\n",
       "      <td>111.0</td>\n",
       "      <td>NaN</td>\n",
       "      <td>Membros superiores do poder executivo e legisl...</td>\n",
       "    </tr>\n",
       "    <tr>\n",
       "      <th>3</th>\n",
       "      <td>1.0</td>\n",
       "      <td>11.0</td>\n",
       "      <td>111.0</td>\n",
       "      <td>1111.0</td>\n",
       "      <td>Legisladores</td>\n",
       "    </tr>\n",
       "    <tr>\n",
       "      <th>4</th>\n",
       "      <td>1.0</td>\n",
       "      <td>11.0</td>\n",
       "      <td>111.0</td>\n",
       "      <td>1112.0</td>\n",
       "      <td>Dirigentes superiores da administração pública</td>\n",
       "    </tr>\n",
       "    <tr>\n",
       "      <th>...</th>\n",
       "      <td>...</td>\n",
       "      <td>...</td>\n",
       "      <td>...</td>\n",
       "      <td>...</td>\n",
       "      <td>...</td>\n",
       "    </tr>\n",
       "    <tr>\n",
       "      <th>609</th>\n",
       "      <td>0.0</td>\n",
       "      <td>4.0</td>\n",
       "      <td>41.0</td>\n",
       "      <td>412.0</td>\n",
       "      <td>Graduados e praças da polícia militar</td>\n",
       "    </tr>\n",
       "    <tr>\n",
       "      <th>610</th>\n",
       "      <td>0.0</td>\n",
       "      <td>5.0</td>\n",
       "      <td>41.0</td>\n",
       "      <td>412.0</td>\n",
       "      <td>BOMBEIROS MILITARES</td>\n",
       "    </tr>\n",
       "    <tr>\n",
       "      <th>611</th>\n",
       "      <td>0.0</td>\n",
       "      <td>5.0</td>\n",
       "      <td>51.0</td>\n",
       "      <td>412.0</td>\n",
       "      <td>Bombeiros militares</td>\n",
       "    </tr>\n",
       "    <tr>\n",
       "      <th>612</th>\n",
       "      <td>0.0</td>\n",
       "      <td>5.0</td>\n",
       "      <td>51.0</td>\n",
       "      <td>511.0</td>\n",
       "      <td>Oficiais de bombeiro militar</td>\n",
       "    </tr>\n",
       "    <tr>\n",
       "      <th>613</th>\n",
       "      <td>0.0</td>\n",
       "      <td>5.0</td>\n",
       "      <td>51.0</td>\n",
       "      <td>512.0</td>\n",
       "      <td>Graduados e praças do corpo de bombeiros</td>\n",
       "    </tr>\n",
       "  </tbody>\n",
       "</table>\n",
       "<p>614 rows × 5 columns</p>\n",
       "</div>"
      ],
      "text/plain": [
       "     Grande Grupo  Subgrupo principal  Subgrupo  Grupo de base  \\\n",
       "0             1.0                 NaN       NaN            NaN   \n",
       "1             1.0                11.0       NaN            NaN   \n",
       "2             1.0                11.0     111.0            NaN   \n",
       "3             1.0                11.0     111.0         1111.0   \n",
       "4             1.0                11.0     111.0         1112.0   \n",
       "..            ...                 ...       ...            ...   \n",
       "609           0.0                 4.0      41.0          412.0   \n",
       "610           0.0                 5.0      41.0          412.0   \n",
       "611           0.0                 5.0      51.0          412.0   \n",
       "612           0.0                 5.0      51.0          511.0   \n",
       "613           0.0                 5.0      51.0          512.0   \n",
       "\n",
       "                                           Denominação  \n",
       "0                                 DIRETORES E GERENTES  \n",
       "1    DIRETORES EXECUTIVOS, DIRIGENTES DA ADMINISTRA...  \n",
       "2    Membros superiores do poder executivo e legisl...  \n",
       "3                                        Legisladores   \n",
       "4       Dirigentes superiores da administração pública  \n",
       "..                                                 ...  \n",
       "609              Graduados e praças da polícia militar  \n",
       "610                                BOMBEIROS MILITARES  \n",
       "611                                Bombeiros militares  \n",
       "612                       Oficiais de bombeiro militar  \n",
       "613           Graduados e praças do corpo de bombeiros  \n",
       "\n",
       "[614 rows x 5 columns]"
      ]
     },
     "execution_count": 30,
     "metadata": {},
     "output_type": "execute_result"
    }
   ],
   "source": [
    "ocupacao#['Grupo de base']\n",
    "#data['V4010']"
   ]
  },
  {
   "cell_type": "code",
   "execution_count": 31,
   "metadata": {},
   "outputs": [],
   "source": [
    "data = data.merge(ocupacao.drop_duplicates(subset = ['Grupo de base']), left_on = 'V4010', right_on = 'Grupo de base', how = 'left', validate = 'm:1')"
   ]
  },
  {
   "cell_type": "code",
   "execution_count": 32,
   "metadata": {},
   "outputs": [],
   "source": [
    "data = data.merge(cnaes[['V4013', 'V4013-Div', 'V4013-Sec', 'V4013-Name']], how = 'left', on = 'V4013', validate = 'm:1') ## CNAE-Section of sector of the job"
   ]
  },
  {
   "cell_type": "code",
   "execution_count": 33,
   "metadata": {},
   "outputs": [],
   "source": [
    "\n",
    "data['V4010-SubP'] = data['Subgrupo principal'].astype(str) #subgrupo principal of ocupation according to Estrutura_Ocupacao_COD\n",
    "data['V4010-Sub'] = data['Subgrupo'].astype(str)\n",
    "data['V4013-Div'] = data['V4013-Div'].astype(str)\n",
    "\n",
    "\n",
    "data['VD4016-Log'] = np.log(data['VD4016']) #wage log\n",
    "\n"
   ]
  },
  {
   "cell_type": "code",
   "execution_count": 34,
   "metadata": {},
   "outputs": [],
   "source": [
    "data['V2010-Bin'] = raca_binary.values\n",
    "data['V2007-Bin'] = sex.values\n"
   ]
  },
  {
   "cell_type": "code",
   "execution_count": 35,
   "metadata": {},
   "outputs": [],
   "source": [
    "#filter out rows where race is empty\n",
    "data = data[data['V2010-Bin'] != 'Ignorado']"
   ]
  },
  {
   "cell_type": "markdown",
   "metadata": {
    "tags": []
   },
   "source": [
    "# Finding Confounders\n",
    "\n",
    "Confounders are good predictors of both the treatment and the observed outcome.\n",
    "Knowing what are these variables are usefull because in order to remove bias we have to control for confounders"
   ]
  },
  {
   "cell_type": "code",
   "execution_count": null,
   "metadata": {},
   "outputs": [],
   "source": []
  },
  {
   "cell_type": "code",
   "execution_count": 36,
   "metadata": {},
   "outputs": [],
   "source": [
    "from sklearn.pipeline import Pipeline, FeatureUnion\n",
    "from sklearn.compose import ColumnTransformer\n",
    "from sklearn.preprocessing import OneHotEncoder, OrdinalEncoder, FunctionTransformer, RobustScaler\n",
    "from sklearn.ensemble import RandomForestRegressor, RandomForestClassifier, ExtraTreesClassifier, ExtraTreesRegressor\n",
    "from sklearn.linear_model import LinearRegression, LogisticRegression\n",
    "from sklearn.base import BaseEstimator, TransformerMixin\n",
    "from sklearn.inspection import permutation_importance\n",
    "from sklearn.metrics import roc_auc_score, r2_score"
   ]
  },
  {
   "cell_type": "code",
   "execution_count": 37,
   "metadata": {},
   "outputs": [],
   "source": [
    "def PredictionTransformerWrapper(estimator, transform_method = 'apply'):\n",
    "    '''\n",
    "    factory to allow specific methods to be exposed as a transform method,\n",
    "    allowing its usage in sklearn pipelines\n",
    "    '''\n",
    "    class PredictionTransformer(estimator):        \n",
    "        def transform(self, X, **kwargs):\n",
    "            return getattr(self, transform_method)(X, **kwargs)\n",
    "\n",
    "class RobustEncoder(BaseEstimator, TransformerMixin):\n",
    "\n",
    "    def __init__(self,):\n",
    "        '''\n",
    "        A robust one hot encoder. Always return the same amount of nonzero value sin each transformed row.\n",
    "        Has columns for unknown values\n",
    "        '''\n",
    "        return\n",
    "\n",
    "    def fit(self, X, y = None, **kwargs):\n",
    "        X = np.array(X)\n",
    "        X = X.astype(str)\n",
    "        \n",
    "        self.ordinalencoder_ = OrdinalEncoder(handle_unknown = 'use_encoded_value', unknown_value = -1).fit(X)\n",
    "        X = self.ordinalencoder_.transform(X)\n",
    "        \n",
    "        categories = [np.arange(-1, len(cats)) for cats in self.ordinalencoder_.categories_]        \n",
    "        self.onehotencoder_ = OneHotEncoder(categories = categories, drop = 'first', **kwargs).fit(X)\n",
    "        return self\n",
    "\n",
    "    def transform(self, X, **kwargs):\n",
    "        X = np.array(X)\n",
    "        X = X.astype(str)\n",
    "        X = self.ordinalencoder_.transform(X)\n",
    "        return self.onehotencoder_.transform(X)\n",
    "    \n",
    "def make_numerical_and_categorical_pipeline(categorical_columns, numerical_columns, final_estimator = None):\n",
    "    \n",
    "    pipe = ColumnTransformer(\n",
    "        [\n",
    "            ('OneHotEncoder', RobustEncoder(), categorical_columns),\n",
    "            ('NumericalPassthrough', RobustScaler(), numerical_columns),            \n",
    "        ]\n",
    "    )\n",
    "    \n",
    "    if not final_estimator is None:\n",
    "        pipe = Pipeline(\n",
    "            [\n",
    "                ('PreprocessingPipeline', pipe),\n",
    "                ('FinalEstimator', final_estimator)\n",
    "            ]\n",
    "        )\n",
    "        \n",
    "    return pipe"
   ]
  },
  {
   "cell_type": "markdown",
   "metadata": {},
   "source": [
    "## Feature Importances"
   ]
  },
  {
   "cell_type": "markdown",
   "metadata": {},
   "source": [
    "### First run"
   ]
  },
  {
   "cell_type": "code",
   "execution_count": 443,
   "metadata": {},
   "outputs": [],
   "source": [
    "categorical_columns = [\n",
    "    'UF', #estado\n",
    "    'V1022', #zona rural ou urbana\n",
    "    'V1023', # região do estado    \n",
    "    'V3001', #sabe ler ou escrever?\n",
    "    'V4010-SubP', #subgrupo principal da ocupação de acordo com Estrutura_Ocupacao_COD\n",
    "    'V4010-Sub', #subgrupo principal da ocupação de acordo com Estrutura_Ocupacao_COD\n",
    "    'V4012', #Nesse trabalho,... era\n",
    "    'V4013-Sec', #seção do código CNAE da principal atividade do trabalho\n",
    "    'V4013-Div', #Divisão do código CNAE da principal atividade do trabalho\n",
    "    'V4014', #esfera do trabalho (Federal estadual ou municipal)\n",
    "    'VD3004', #nível de instrução mais elevado alcançado\n",
    "    'V3009A', #curso mais alto que frequentou anteriormente\n",
    "    'V4029', #carteira assinada    \n",
    "    #'VD4032', #Horas efetivamente trabalhadas na semana de referência no trabalho principal para pessoas de 14 anos ou mais de idade    \n",
    "]\n",
    "\n",
    "\n",
    "numerical_columns = [\n",
    "    'V2009', #idade\n",
    "    'VD3005', #anos de estudo\n",
    "    'VD4013', #Faixa das horas habitualmente trabalhadas\n",
    "]\n",
    "\n",
    "treatment_columns = [\n",
    "    'V2007-Bin', #sexo\n",
    "    'V2010-Bin', #cor ou raça binária (branco ou amarelo/ preto pardo ou indigena)\n",
    "]\n",
    "\n",
    "target_columns = [\n",
    "    'VD4016-Log', #Rendimento mensal habitual do trabalho principal para pessoas de 14 anos ou mais de idade (apenas para pessoas que receberam em dinheiro, produtos ou mercadorias no trabalho principal)\n",
    "]\n",
    "\n",
    "X_columns = categorical_columns + numerical_columns\n",
    "T_columns = treatment_columns\n",
    "y_columns = target_columns\n"
   ]
  },
  {
   "cell_type": "code",
   "execution_count": 444,
   "metadata": {},
   "outputs": [],
   "source": [
    "train_frac = 0.8\n",
    "train_idxs = np.random.choice(range(len(data)), size = int(len(data)*train_frac), replace = False)\n",
    "\n",
    "train_msk = np.empty((len(data),), dtype = bool)\n",
    "train_msk[:] = False\n",
    "train_msk[train_idxs] = True\n",
    "test_msk = ~train_msk"
   ]
  },
  {
   "cell_type": "code",
   "execution_count": 445,
   "metadata": {},
   "outputs": [],
   "source": [
    "#estim = RandomForestRegressor(20, criterion = 'absolute_error', min_samples_leaf = 20, oob_score = True, n_jobs = -1, verbose = 1)\n",
    "estim = RandomForestClassifier(50, criterion = 'gini', min_samples_leaf = 20, oob_score = True, n_jobs = -1, verbose = 1)\n",
    "#estim = LogisticRegression(penalty = 'elasticnet', solver = 'saga', l1_ratio = 0.1, n_jobs = -1, verbose = 1)\n",
    "pipe_treatment = make_numerical_and_categorical_pipeline(categorical_columns, numerical_columns,estim)"
   ]
  },
  {
   "cell_type": "code",
   "execution_count": 446,
   "metadata": {},
   "outputs": [
    {
     "name": "stderr",
     "output_type": "stream",
     "text": [
      "[Parallel(n_jobs=-1)]: Using backend ThreadingBackend with 8 concurrent workers.\n",
      "[Parallel(n_jobs=-1)]: Done  34 tasks      | elapsed:  1.1min\n",
      "[Parallel(n_jobs=-1)]: Done  50 out of  50 | elapsed:  1.4min finished\n"
     ]
    },
    {
     "data": {
      "text/plain": [
       "Pipeline(steps=[('PreprocessingPipeline',\n",
       "                 ColumnTransformer(transformers=[('OneHotEncoder',\n",
       "                                                  RobustEncoder(),\n",
       "                                                  ['UF', 'V1022', 'V1023',\n",
       "                                                   'V3001', 'V4010-SubP',\n",
       "                                                   'V4010-Sub', 'V4012',\n",
       "                                                   'V4013-Sec', 'V4013-Div',\n",
       "                                                   'V4014', 'VD3004', 'V3009A',\n",
       "                                                   'V4029', 'VD4013']),\n",
       "                                                 ('NumericalPassthrough',\n",
       "                                                  FunctionTransformer(func=<function make_numerical_and_categorical_pipeline.<locals>.<lambda> at 0x0000021045950670>),\n",
       "                                                  ['V2009', 'VD3005'])])),\n",
       "                ('FinalEstimator',\n",
       "                 RandomForestClassifier(min_samples_leaf=20, n_estimators=50,\n",
       "                                        n_jobs=-1, oob_score=True,\n",
       "                                        verbose=1))])"
      ]
     },
     "execution_count": 446,
     "metadata": {},
     "output_type": "execute_result"
    }
   ],
   "source": [
    "pipe_treatment.fit(data[X_columns][train_msk], data[T_columns[0]][train_msk])"
   ]
  },
  {
   "cell_type": "code",
   "execution_count": 447,
   "metadata": {},
   "outputs": [
    {
     "name": "stderr",
     "output_type": "stream",
     "text": [
      "[Parallel(n_jobs=8)]: Using backend ThreadingBackend with 8 concurrent workers.\n",
      "[Parallel(n_jobs=8)]: Done  34 tasks      | elapsed:    0.1s\n",
      "[Parallel(n_jobs=8)]: Done  50 out of  50 | elapsed:    0.2s finished\n"
     ]
    },
    {
     "data": {
      "image/png": "[encoded data removed]",
      "text/plain": [
       "<Figure size 432x288 with 1 Axes>"
      ]
     },
     "metadata": {
      "needs_background": "light"
     },
     "output_type": "display_data"
    }
   ],
   "source": [
    "from sklearn.calibration import CalibrationDisplay\n",
    "display = CalibrationDisplay.from_estimator(\n",
    "    pipe_treatment,\n",
    "    data[X_columns][test_msk],\n",
    "    data[T_columns[0]][test_msk],\n",
    "    n_bins=20,\n",
    ")"
   ]
  },
  {
   "cell_type": "code",
   "execution_count": 448,
   "metadata": {},
   "outputs": [
    {
     "name": "stderr",
     "output_type": "stream",
     "text": [
      "[Parallel(n_jobs=8)]: Using backend ThreadingBackend with 8 concurrent workers.\n",
      "[Parallel(n_jobs=8)]: Done  34 tasks      | elapsed:    0.1s\n",
      "[Parallel(n_jobs=8)]: Done  50 out of  50 | elapsed:    0.2s finished\n"
     ]
    }
   ],
   "source": [
    "def auc_scoring(estim, X, y):\n",
    "    return roc_auc_score(OneHotEncoder(sparse = False).fit_transform(y), estim.predict_proba(X), multi_class = 'ovr')\n",
    "\n",
    "importances = permutation_importance(pipe_treatment, data[X_columns][test_msk], data[[T_columns[0]]][test_msk], n_repeats = 10, n_jobs = -1, scoring = auc_scoring)"
   ]
  },
  {
   "cell_type": "code",
   "execution_count": 449,
   "metadata": {},
   "outputs": [
    {
     "name": "stderr",
     "output_type": "stream",
     "text": [
      "[Parallel(n_jobs=8)]: Using backend ThreadingBackend with 8 concurrent workers.\n",
      "[Parallel(n_jobs=8)]: Done  34 tasks      | elapsed:    0.1s\n",
      "[Parallel(n_jobs=8)]: Done  50 out of  50 | elapsed:    0.2s finished\n",
      "\n",
      "The to_png function was deprecated in Matplotlib 3.4 and will be removed two minor releases later. Use mathtext.math_to_image instead.\n",
      "\n",
      "The to_rgba function was deprecated in Matplotlib 3.4 and will be removed two minor releases later. Use mathtext.math_to_image instead.\n",
      "\n",
      "The to_mask function was deprecated in Matplotlib 3.4 and will be removed two minor releases later. Use mathtext.math_to_image instead.\n",
      "\n",
      "The MathtextBackendBitmap class was deprecated in Matplotlib 3.4 and will be removed two minor releases later. Use mathtext.math_to_image instead.\n"
     ]
    },
    {
     "data": {
      "image/png": "[encoded data removed]",
      "text/latex": [
       "$\\displaystyle 0.889049390931399$"
      ],
      "text/plain": [
       "0.8890493909313986"
      ]
     },
     "execution_count": 449,
     "metadata": {},
     "output_type": "execute_result"
    }
   ],
   "source": [
    "auc_scoring(pipe_treatment, data[X_columns][test_msk], data[[T_columns[0]]][test_msk])"
   ]
  },
  {
   "cell_type": "code",
   "execution_count": 450,
   "metadata": {},
   "outputs": [
    {
     "data": {
      "text/plain": [
       "<AxesSubplot:xlabel='value', ylabel='feature'>"
      ]
     },
     "execution_count": 450,
     "metadata": {},
     "output_type": "execute_result"
    },
    {
     "data": {
      "image/png": "[encoded data removed]",
      "text/plain": [
       "<Figure size 432x288 with 1 Axes>"
      ]
     },
     "metadata": {
      "needs_background": "light"
     },
     "output_type": "display_data"
    }
   ],
   "source": [
    "importances_df = pd.DataFrame(importances['importances'])\n",
    "importances_df['feature'] = X_columns\n",
    "importances_df = importances_df.melt(id_vars = ['feature'], var_name = 'iter')\n",
    "rank = importances_df.groupby('feature')['value'].sum().sort_values(ascending = False)\n",
    "\n",
    "#importances_df.groupby('feature').apply(lambda x: sns.boxplot(y = x['importances'], x = x['rank']))\n",
    "sns.boxplot(x=\"value\", \n",
    "            y=\"feature\",\n",
    "            data=importances_df,\n",
    "            order = rank.index \n",
    "           )\n",
    "#plt.legend()"
   ]
  },
  {
   "cell_type": "markdown",
   "metadata": {},
   "source": [
    "Podemos ver que existe uma associação forte entre variáveis referentes ao tipo de trabalho e o recorte racial.\n",
    "Isso pode ser um problema, no sentido em que essas variáveis são [mediadores](https://en.wikipedia.org/wiki/Mediation_(statistics)#Direct_versus_indirect_effects). Por exemplo: o racismo estrutural faz com que pessoas de mesma qualificação não consiga cargos gerenciais e de liderança, ou empregos npor exemplo etc.\n",
    "\n",
    "Por isso, serão omitidas as variáveis referentes à natureza da ocupação (Exceto a parte que diz respeito o setor do trabalho pelo CNAE), para evitar viés de seleção através do controle de mediadores ('V4010', 'V4013', 'V4012', 'V4014').\n",
    "\n",
    "é interessante porque isso já antecipa o viés que pode ser encontrado quando for feita a regressão do salário utilizando as mesmas variáveis"
   ]
  },
  {
   "cell_type": "markdown",
   "metadata": {
    "tags": []
   },
   "source": [
    "### Second run"
   ]
  },
  {
   "cell_type": "code",
   "execution_count": 451,
   "metadata": {},
   "outputs": [],
   "source": [
    "categorical_columns = [\n",
    "    'UF', #estado\n",
    "    'V1022', #zona rural ou urbana\n",
    "    'V1023', # região do estado    \n",
    "    'V3001', #sabe ler ou escrever?\n",
    "    'V4010-SubP', #subgrupo principal da ocupação de acordo com Estrutura_Ocupacao_COD\n",
    "    'V4010-Sub', #subgrupo principal da ocupação de acordo com Estrutura_Ocupacao_COD\n",
    "    'V4012', #Nesse trabalho,... era\n",
    "    'V4013-Sec', #seção do código CNAE da principal atividade do trabalho\n",
    "    'V4013-Div', #Divisão do código CNAE da principal atividade do trabalho\n",
    "    'V4014', #esfera do trabalho (Federal estadual ou municipal)\n",
    "    'VD3004', #nível de instrução mais elevado alcançado\n",
    "    'V3009A', #curso mais alto que frequentou anteriormente\n",
    "    'V4029', #carteira assinada    \n",
    "    #'VD4032', #Horas efetivamente trabalhadas na semana de referência no trabalho principal para pessoas de 14 anos ou mais de idade    \n",
    "]\n",
    "\n",
    "\n",
    "numerical_columns = [\n",
    "    'V2009', #idade\n",
    "    'VD3005', #anos de estudo\n",
    "    'VD4013', #Faixa das horas habitualmente trabalhadas\n",
    "]\n",
    "\n",
    "treatment_columns = [\n",
    "    'V2007-Bin', #sexo\n",
    "    'V2010-Bin', #cor ou raça binária (branco ou amarelo/ preto pardo ou indigena)\n",
    "]\n",
    "\n",
    "target_columns = [\n",
    "    'VD4016-Log', #Rendimento mensal habitual do trabalho principal para pessoas de 14 anos ou mais de idade (apenas para pessoas que receberam em dinheiro, produtos ou mercadorias no trabalho principal)\n",
    "]\n",
    "\n",
    "X_columns = categorical_columns + numerical_columns\n",
    "T_columns = treatment_columns\n",
    "y_columns = target_columns\n"
   ]
  },
  {
   "cell_type": "code",
   "execution_count": null,
   "metadata": {},
   "outputs": [],
   "source": []
  },
  {
   "cell_type": "code",
   "execution_count": 452,
   "metadata": {},
   "outputs": [],
   "source": [
    "train_frac = 0.8\n",
    "train_idxs = np.random.choice(range(len(data)), size = int(len(data)*train_frac), replace = False)\n",
    "\n",
    "train_msk = np.empty((len(data),), dtype = bool)\n",
    "train_msk[:] = False\n",
    "train_msk[train_idxs] = True\n",
    "test_msk = ~train_msk"
   ]
  },
  {
   "cell_type": "markdown",
   "metadata": {},
   "source": [
    "#### Sex Prediction"
   ]
  },
  {
   "cell_type": "code",
   "execution_count": 453,
   "metadata": {},
   "outputs": [],
   "source": [
    "#estim = RandomForestRegressor(20, criterion = 'absolute_error', min_samples_leaf = 20, oob_score = True, n_jobs = -1, verbose = 1)\n",
    "estim = RandomForestClassifier(50, criterion = 'gini', min_samples_leaf = 20, oob_score = True, n_jobs = -1, verbose = 1)\n",
    "#estim = LogisticRegression(penalty = 'elasticnet', solver = 'saga', l1_ratio = 0.1, n_jobs = -1, verbose = 1)\n",
    "pipe_sex = make_numerical_and_categorical_pipeline(categorical_columns, numerical_columns,estim)"
   ]
  },
  {
   "cell_type": "code",
   "execution_count": 454,
   "metadata": {},
   "outputs": [
    {
     "name": "stderr",
     "output_type": "stream",
     "text": [
      "[Parallel(n_jobs=-1)]: Using backend ThreadingBackend with 8 concurrent workers.\n",
      "[Parallel(n_jobs=-1)]: Done  34 tasks      | elapsed:  1.0min\n",
      "[Parallel(n_jobs=-1)]: Done  50 out of  50 | elapsed:  1.4min finished\n"
     ]
    },
    {
     "data": {
      "text/plain": [
       "Pipeline(steps=[('PreprocessingPipeline',\n",
       "                 ColumnTransformer(transformers=[('OneHotEncoder',\n",
       "                                                  RobustEncoder(),\n",
       "                                                  ['UF', 'V1022', 'V1023',\n",
       "                                                   'V3001', 'V4010-SubP',\n",
       "                                                   'V4010-Sub', 'V4012',\n",
       "                                                   'V4013-Sec', 'V4013-Div',\n",
       "                                                   'V4014', 'VD3004', 'V3009A',\n",
       "                                                   'V4029', 'VD4013']),\n",
       "                                                 ('NumericalPassthrough',\n",
       "                                                  FunctionTransformer(func=<function make_numerical_and_categorical_pipeline.<locals>.<lambda> at 0x0000020FBE51A8B0>),\n",
       "                                                  ['V2009', 'VD3005'])])),\n",
       "                ('FinalEstimator',\n",
       "                 RandomForestClassifier(min_samples_leaf=20, n_estimators=50,\n",
       "                                        n_jobs=-1, oob_score=True,\n",
       "                                        verbose=1))])"
      ]
     },
     "execution_count": 454,
     "metadata": {},
     "output_type": "execute_result"
    }
   ],
   "source": [
    "pipe_sex.fit(data[X_columns][train_msk], data[T_columns[0]][train_msk])"
   ]
  },
  {
   "cell_type": "code",
   "execution_count": 4,
   "metadata": {},
   "outputs": [
    {
     "ename": "NameError",
     "evalue": "name 'pipe_sex' is not defined",
     "output_type": "error",
     "traceback": [
      "\u001b[1;31m---------------------------------------------------------------------------\u001b[0m",
      "\u001b[1;31mNameError\u001b[0m                                 Traceback (most recent call last)",
      "\u001b[1;32mC:\\Users\\USERAM~1\\AppData\\Local\\Temp/ipykernel_20180/1910061701.py\u001b[0m in \u001b[0;36m<module>\u001b[1;34m\u001b[0m\n\u001b[0;32m      1\u001b[0m \u001b[1;32mfrom\u001b[0m \u001b[0msklearn\u001b[0m\u001b[1;33m.\u001b[0m\u001b[0mcalibration\u001b[0m \u001b[1;32mimport\u001b[0m \u001b[0mCalibrationDisplay\u001b[0m\u001b[1;33m\u001b[0m\u001b[1;33m\u001b[0m\u001b[0m\n\u001b[0;32m      2\u001b[0m display = CalibrationDisplay.from_estimator(\n\u001b[1;32m----> 3\u001b[1;33m     \u001b[0mpipe_sex\u001b[0m\u001b[1;33m,\u001b[0m\u001b[1;33m\u001b[0m\u001b[1;33m\u001b[0m\u001b[0m\n\u001b[0m\u001b[0;32m      4\u001b[0m     \u001b[0mdata\u001b[0m\u001b[1;33m[\u001b[0m\u001b[0mX_columns\u001b[0m\u001b[1;33m]\u001b[0m\u001b[1;33m[\u001b[0m\u001b[0mtest_msk\u001b[0m\u001b[1;33m]\u001b[0m\u001b[1;33m,\u001b[0m\u001b[1;33m\u001b[0m\u001b[1;33m\u001b[0m\u001b[0m\n\u001b[0;32m      5\u001b[0m     \u001b[0mdata\u001b[0m\u001b[1;33m[\u001b[0m\u001b[0mT_columns\u001b[0m\u001b[1;33m[\u001b[0m\u001b[1;36m0\u001b[0m\u001b[1;33m]\u001b[0m\u001b[1;33m]\u001b[0m\u001b[1;33m[\u001b[0m\u001b[0mtest_msk\u001b[0m\u001b[1;33m]\u001b[0m\u001b[1;33m,\u001b[0m\u001b[1;33m\u001b[0m\u001b[1;33m\u001b[0m\u001b[0m\n",
      "\u001b[1;31mNameError\u001b[0m: name 'pipe_sex' is not defined"
     ]
    }
   ],
   "source": [
    "from sklearn.calibration import CalibrationDisplay\n",
    "display = CalibrationDisplay.from_estimator(\n",
    "    pipe_sex,\n",
    "    data[X_columns][test_msk],\n",
    "    data[T_columns[0]][test_msk],\n",
    "    n_bins=20,\n",
    ")"
   ]
  },
  {
   "cell_type": "code",
   "execution_count": 456,
   "metadata": {},
   "outputs": [
    {
     "name": "stderr",
     "output_type": "stream",
     "text": [
      "[Parallel(n_jobs=8)]: Using backend ThreadingBackend with 8 concurrent workers.\n",
      "[Parallel(n_jobs=8)]: Done  34 tasks      | elapsed:    0.1s\n",
      "[Parallel(n_jobs=8)]: Done  50 out of  50 | elapsed:    0.2s finished\n",
      "`distplot` is a deprecated function and will be removed in a future version. Please adapt your code to use either `displot` (a figure-level function with similar flexibility) or `histplot` (an axes-level function for histograms).\n"
     ]
    },
    {
     "data": {
      "text/plain": [
       "<AxesSubplot:ylabel='Density'>"
      ]
     },
     "execution_count": 456,
     "metadata": {},
     "output_type": "execute_result"
    },
    {
     "data": {
      "image/png": "[encoded data removed]",
      "text/plain": [
       "<Figure size 432x288 with 1 Axes>"
      ]
     },
     "metadata": {
      "needs_background": "light"
     },
     "output_type": "display_data"
    }
   ],
   "source": [
    "sns.distplot(pipe_sex.predict_proba(data[X_columns][test_msk])[:,1])"
   ]
  },
  {
   "cell_type": "code",
   "execution_count": 457,
   "metadata": {},
   "outputs": [
    {
     "name": "stderr",
     "output_type": "stream",
     "text": [
      "[Parallel(n_jobs=8)]: Using backend ThreadingBackend with 8 concurrent workers.\n",
      "[Parallel(n_jobs=8)]: Done  34 tasks      | elapsed:    0.8s\n",
      "[Parallel(n_jobs=8)]: Done  50 out of  50 | elapsed:    1.1s finished\n",
      "[Parallel(n_jobs=8)]: Using backend ThreadingBackend with 8 concurrent workers.\n",
      "[Parallel(n_jobs=8)]: Done  34 tasks      | elapsed:    0.9s\n",
      "[Parallel(n_jobs=8)]: Done  50 out of  50 | elapsed:    1.3s finished\n",
      "[Parallel(n_jobs=8)]: Using backend ThreadingBackend with 8 concurrent workers.\n",
      "[Parallel(n_jobs=8)]: Done  34 tasks      | elapsed:    0.1s\n",
      "[Parallel(n_jobs=8)]: Done  50 out of  50 | elapsed:    0.2s finished\n",
      "\n",
      "The to_png function was deprecated in Matplotlib 3.4 and will be removed two minor releases later. Use mathtext.math_to_image instead.\n",
      "\n",
      "The to_rgba function was deprecated in Matplotlib 3.4 and will be removed two minor releases later. Use mathtext.math_to_image instead.\n",
      "\n",
      "The to_mask function was deprecated in Matplotlib 3.4 and will be removed two minor releases later. Use mathtext.math_to_image instead.\n",
      "\n",
      "The MathtextBackendBitmap class was deprecated in Matplotlib 3.4 and will be removed two minor releases later. Use mathtext.math_to_image instead.\n"
     ]
    },
    {
     "data": {
      "image/png": "[encoded data removed]",
      "text/latex": [
       "$\\displaystyle \\left( 0.894117240202932, \\  0.890080310486024\\right)$"
      ],
      "text/plain": [
       "(0.8941172402029317, 0.8900803104860243)"
      ]
     },
     "execution_count": 457,
     "metadata": {},
     "output_type": "execute_result"
    }
   ],
   "source": [
    "sex_auc = auc_scoring(pipe_sex, data[X_columns][train_msk], data[[T_columns[0]]][train_msk])\n",
    "(\n",
    "    auc_scoring(pipe_sex, data[X_columns][train_msk], data[[T_columns[0]]][train_msk]),\n",
    "    auc_scoring(pipe_sex, data[X_columns][test_msk], data[[T_columns[0]]][test_msk])\n",
    ")"
   ]
  },
  {
   "cell_type": "code",
   "execution_count": 458,
   "metadata": {},
   "outputs": [
    {
     "name": "stderr",
     "output_type": "stream",
     "text": [
      "[Parallel(n_jobs=8)]: Using backend ThreadingBackend with 8 concurrent workers.\n",
      "[Parallel(n_jobs=8)]: Done  34 tasks      | elapsed:    0.1s\n",
      "[Parallel(n_jobs=8)]: Done  50 out of  50 | elapsed:    0.2s finished\n"
     ]
    }
   ],
   "source": [
    "sex_importances = permutation_importance(pipe_sex, data[X_columns][test_msk], data[[T_columns[0]]][test_msk], n_repeats = 10, n_jobs = -1, scoring = auc_scoring)"
   ]
  },
  {
   "cell_type": "code",
   "execution_count": 459,
   "metadata": {},
   "outputs": [
    {
     "data": {
      "text/plain": [
       "Text(0.5, 1.0, 'Permutation feature importances for sex prediction (AUC = 0.89)')"
      ]
     },
     "execution_count": 459,
     "metadata": {},
     "output_type": "execute_result"
    },
    {
     "data": {
      "image/png": "[encoded data removed]",
      "text/plain": [
       "<Figure size 432x288 with 1 Axes>"
      ]
     },
     "metadata": {
      "needs_background": "light"
     },
     "output_type": "display_data"
    }
   ],
   "source": [
    "sex_importances_df = pd.DataFrame(sex_importances['importances'])\n",
    "sex_importances_df['feature'] = X_columns\n",
    "sex_importances_df = sex_importances_df.melt(id_vars = ['feature'], var_name = 'iter')\n",
    "sex_rank = sex_importances_df.groupby('feature')['value'].sum().sort_values(ascending = False)\n",
    "\n",
    "#importances_df.groupby('feature').apply(lambda x: sns.boxplot(y = x['importances'], x = x['rank']))\n",
    "sns.boxplot(x=\"value\", \n",
    "            y=\"feature\",\n",
    "            data=sex_importances_df,\n",
    "            order = sex_rank.index \n",
    "           )\n",
    "plt.title(f'Permutation feature importances for sex prediction (AUC = {round(sex_auc,2)})')\n",
    "#plt.legend()"
   ]
  },
  {
   "cell_type": "code",
   "execution_count": 460,
   "metadata": {},
   "outputs": [],
   "source": [
    "#var_dict.loc[[i.replace('-Sec', '').replace('-SubP','') for i in sex_rank.index]].reset_index().drop_duplicates(var_dict.index.name)"
   ]
  },
  {
   "cell_type": "markdown",
   "metadata": {},
   "source": [
    "Podemos ver que o efeito é mais moderado nesses potenciais confundidores."
   ]
  },
  {
   "cell_type": "markdown",
   "metadata": {},
   "source": [
    "#### Race Prediction"
   ]
  },
  {
   "cell_type": "code",
   "execution_count": 461,
   "metadata": {},
   "outputs": [],
   "source": [
    "#estim = RandomForestRegressor(20, criterion = 'absolute_error', min_samples_leaf = 20, oob_score = True, n_jobs = -1, verbose = 1)\n",
    "estim = RandomForestClassifier(50, criterion = 'gini', min_samples_leaf = 10, n_jobs = -1, verbose = 1)\n",
    "#estim = LogisticRegression(penalty = 'elasticnet', solver = 'saga', l1_ratio = 0.1, n_jobs = -1, verbose = 1)\n",
    "pipe_race = make_numerical_and_categorical_pipeline(categorical_columns, numerical_columns,estim)"
   ]
  },
  {
   "cell_type": "code",
   "execution_count": 462,
   "metadata": {},
   "outputs": [
    {
     "name": "stderr",
     "output_type": "stream",
     "text": [
      "[Parallel(n_jobs=-1)]: Using backend ThreadingBackend with 8 concurrent workers.\n",
      "[Parallel(n_jobs=-1)]: Done  34 tasks      | elapsed:  1.9min\n",
      "[Parallel(n_jobs=-1)]: Done  50 out of  50 | elapsed:  2.5min finished\n"
     ]
    },
    {
     "data": {
      "text/plain": [
       "Pipeline(steps=[('PreprocessingPipeline',\n",
       "                 ColumnTransformer(transformers=[('OneHotEncoder',\n",
       "                                                  RobustEncoder(),\n",
       "                                                  ['UF', 'V1022', 'V1023',\n",
       "                                                   'V3001', 'V4010-SubP',\n",
       "                                                   'V4010-Sub', 'V4012',\n",
       "                                                   'V4013-Sec', 'V4013-Div',\n",
       "                                                   'V4014', 'VD3004', 'V3009A',\n",
       "                                                   'V4029', 'VD4013']),\n",
       "                                                 ('NumericalPassthrough',\n",
       "                                                  FunctionTransformer(func=<function make_numerical_and_categorical_pipeline.<locals>.<lambda> at 0x0000020FBE541040>),\n",
       "                                                  ['V2009', 'VD3005'])])),\n",
       "                ('FinalEstimator',\n",
       "                 RandomForestClassifier(min_samples_leaf=10, n_estimators=50,\n",
       "                                        n_jobs=-1, verbose=1))])"
      ]
     },
     "execution_count": 462,
     "metadata": {},
     "output_type": "execute_result"
    }
   ],
   "source": [
    "pipe_race.fit(data[X_columns][train_msk], data[T_columns[1]][train_msk])"
   ]
  },
  {
   "cell_type": "code",
   "execution_count": 463,
   "metadata": {},
   "outputs": [
    {
     "name": "stderr",
     "output_type": "stream",
     "text": [
      "[Parallel(n_jobs=8)]: Using backend ThreadingBackend with 8 concurrent workers.\n",
      "[Parallel(n_jobs=8)]: Done  34 tasks      | elapsed:    0.2s\n",
      "[Parallel(n_jobs=8)]: Done  50 out of  50 | elapsed:    0.2s finished\n"
     ]
    },
    {
     "data": {
      "image/png": "[encoded data removed]",
      "text/plain": [
       "<Figure size 432x288 with 1 Axes>"
      ]
     },
     "metadata": {
      "needs_background": "light"
     },
     "output_type": "display_data"
    }
   ],
   "source": [
    "from sklearn.calibration import CalibrationDisplay, calibration_curve\n",
    "\n",
    "display = CalibrationDisplay.from_estimator(\n",
    "    pipe_race,\n",
    "    data[X_columns][test_msk],\n",
    "    data[T_columns[1]][test_msk],\n",
    "    n_bins=20,\n",
    ")"
   ]
  },
  {
   "cell_type": "code",
   "execution_count": 464,
   "metadata": {},
   "outputs": [
    {
     "name": "stderr",
     "output_type": "stream",
     "text": [
      "[Parallel(n_jobs=8)]: Using backend ThreadingBackend with 8 concurrent workers.\n",
      "[Parallel(n_jobs=8)]: Done  34 tasks      | elapsed:    0.1s\n",
      "[Parallel(n_jobs=8)]: Done  50 out of  50 | elapsed:    0.2s finished\n",
      "`distplot` is a deprecated function and will be removed in a future version. Please adapt your code to use either `displot` (a figure-level function with similar flexibility) or `histplot` (an axes-level function for histograms).\n"
     ]
    },
    {
     "data": {
      "text/plain": [
       "<AxesSubplot:ylabel='Density'>"
      ]
     },
     "execution_count": 464,
     "metadata": {},
     "output_type": "execute_result"
    },
    {
     "data": {
      "image/png": "[encoded data removed]",
      "text/plain": [
       "<Figure size 432x288 with 1 Axes>"
      ]
     },
     "metadata": {
      "needs_background": "light"
     },
     "output_type": "display_data"
    }
   ],
   "source": [
    "sns.distplot(pipe_race.predict_proba(data[X_columns][test_msk])[:,1])"
   ]
  },
  {
   "cell_type": "code",
   "execution_count": 465,
   "metadata": {},
   "outputs": [
    {
     "name": "stderr",
     "output_type": "stream",
     "text": [
      "[Parallel(n_jobs=8)]: Using backend ThreadingBackend with 8 concurrent workers.\n",
      "[Parallel(n_jobs=8)]: Done  34 tasks      | elapsed:    0.2s\n",
      "[Parallel(n_jobs=8)]: Done  50 out of  50 | elapsed:    0.3s finished\n",
      "[Parallel(n_jobs=8)]: Using backend ThreadingBackend with 8 concurrent workers.\n",
      "[Parallel(n_jobs=8)]: Done  34 tasks      | elapsed:    1.1s\n",
      "[Parallel(n_jobs=8)]: Done  50 out of  50 | elapsed:    1.5s finished\n",
      "[Parallel(n_jobs=8)]: Using backend ThreadingBackend with 8 concurrent workers.\n",
      "[Parallel(n_jobs=8)]: Done  34 tasks      | elapsed:    0.2s\n",
      "[Parallel(n_jobs=8)]: Done  50 out of  50 | elapsed:    0.3s finished\n",
      "\n",
      "The to_png function was deprecated in Matplotlib 3.4 and will be removed two minor releases later. Use mathtext.math_to_image instead.\n",
      "\n",
      "The to_rgba function was deprecated in Matplotlib 3.4 and will be removed two minor releases later. Use mathtext.math_to_image instead.\n",
      "\n",
      "The to_mask function was deprecated in Matplotlib 3.4 and will be removed two minor releases later. Use mathtext.math_to_image instead.\n",
      "\n",
      "The MathtextBackendBitmap class was deprecated in Matplotlib 3.4 and will be removed two minor releases later. Use mathtext.math_to_image instead.\n"
     ]
    },
    {
     "data": {
      "image/png": "[encoded data removed]",
      "text/latex": [
       "$\\displaystyle \\left( 0.543647107071957, \\  0.542869490433715\\right)$"
      ],
      "text/plain": [
       "(0.5436471070719568, 0.5428694904337155)"
      ]
     },
     "execution_count": 465,
     "metadata": {},
     "output_type": "execute_result"
    }
   ],
   "source": [
    "auc_race = auc_scoring(pipe_race, data[X_columns][test_msk], data[[T_columns[0]]][test_msk])\n",
    "(\n",
    "    auc_scoring(pipe_race, data[X_columns][train_msk], data[[T_columns[0]]][train_msk]),\n",
    "    auc_scoring(pipe_race, data[X_columns][test_msk], data[[T_columns[0]]][test_msk])\n",
    ")"
   ]
  },
  {
   "cell_type": "code",
   "execution_count": 466,
   "metadata": {},
   "outputs": [
    {
     "name": "stderr",
     "output_type": "stream",
     "text": [
      "[Parallel(n_jobs=8)]: Using backend ThreadingBackend with 8 concurrent workers.\n",
      "[Parallel(n_jobs=8)]: Done  34 tasks      | elapsed:    0.2s\n",
      "[Parallel(n_jobs=8)]: Done  50 out of  50 | elapsed:    0.3s finished\n"
     ]
    }
   ],
   "source": [
    "race_importances = permutation_importance(pipe_race, data[X_columns][test_msk], data[[T_columns[1]]][test_msk], n_repeats = 10, n_jobs = -1, scoring = auc_scoring)"
   ]
  },
  {
   "cell_type": "code",
   "execution_count": 467,
   "metadata": {},
   "outputs": [
    {
     "data": {
      "text/plain": [
       "Text(0.5, 1.0, 'Permutation feature importances for race prediction (AUC = 0.54)')"
      ]
     },
     "execution_count": 467,
     "metadata": {},
     "output_type": "execute_result"
    },
    {
     "data": {
      "image/png": "[encoded data removed]",
      "text/plain": [
       "<Figure size 432x288 with 1 Axes>"
      ]
     },
     "metadata": {
      "needs_background": "light"
     },
     "output_type": "display_data"
    }
   ],
   "source": [
    "race_importances_df = pd.DataFrame(race_importances['importances'])\n",
    "race_importances_df['feature'] = X_columns\n",
    "race_importances_df = race_importances_df.melt(id_vars = ['feature'], var_name = 'iter')\n",
    "race_rank = race_importances_df.groupby('feature')['value'].sum().sort_values(ascending = False)\n",
    "\n",
    "#importances_df.groupby('feature').apply(lambda x: sns.boxplot(y = x['importances'], x = x['rank']))\n",
    "sns.boxplot(x=\"value\", \n",
    "            y=\"feature\",\n",
    "            data=race_importances_df,\n",
    "            order = race_rank.index \n",
    "           )\n",
    "plt.title(f'Permutation feature importances for race prediction (AUC = {round(auc_race,2)})')\n",
    "#plt.legend()"
   ]
  },
  {
   "cell_type": "code",
   "execution_count": 468,
   "metadata": {},
   "outputs": [],
   "source": [
    "#var_dict.loc[[i.replace('-Sec', '').replace('-SubP','') for i in race_rank.index]].reset_index().drop_duplicates(var_dict.index.name)"
   ]
  },
  {
   "cell_type": "markdown",
   "metadata": {},
   "source": [
    "#### Wage Prediction"
   ]
  },
  {
   "cell_type": "code",
   "execution_count": 469,
   "metadata": {},
   "outputs": [],
   "source": [
    "estim = RandomForestRegressor(40, criterion = 'squared_error', min_samples_leaf = 5, n_jobs = -1, verbose = 1)\n",
    "#estim = LogisticRegression(penalty = 'elasticnet', solver = 'saga', l1_ratio = 0.1, n_jobs = -1, verbose = 1)\n",
    "pipe_wage = make_numerical_and_categorical_pipeline(categorical_columns, numerical_columns,estim)"
   ]
  },
  {
   "cell_type": "code",
   "execution_count": 470,
   "metadata": {},
   "outputs": [
    {
     "name": "stderr",
     "output_type": "stream",
     "text": [
      "A column-vector y was passed when a 1d array was expected. Please change the shape of y to (n_samples,), for example using ravel().\n",
      "[Parallel(n_jobs=-1)]: Using backend ThreadingBackend with 8 concurrent workers.\n",
      "[Parallel(n_jobs=-1)]: Done  40 out of  40 | elapsed: 34.8min finished\n"
     ]
    },
    {
     "data": {
      "text/plain": [
       "Pipeline(steps=[('PreprocessingPipeline',\n",
       "                 ColumnTransformer(transformers=[('OneHotEncoder',\n",
       "                                                  RobustEncoder(),\n",
       "                                                  ['UF', 'V1022', 'V1023',\n",
       "                                                   'V3001', 'V4010-SubP',\n",
       "                                                   'V4010-Sub', 'V4012',\n",
       "                                                   'V4013-Sec', 'V4013-Div',\n",
       "                                                   'V4014', 'VD3004', 'V3009A',\n",
       "                                                   'V4029', 'VD4013']),\n",
       "                                                 ('NumericalPassthrough',\n",
       "                                                  FunctionTransformer(func=<function make_numerical_and_categorical_pipeline.<locals>.<lambda> at 0x0000020FBE5DA0D0>),\n",
       "                                                  ['V2009', 'VD3005'])])),\n",
       "                ('FinalEstimator',\n",
       "                 RandomForestRegressor(min_samples_leaf=5, n_estimators=40,\n",
       "                                       n_jobs=-1, verbose=1))])"
      ]
     },
     "execution_count": 470,
     "metadata": {},
     "output_type": "execute_result"
    }
   ],
   "source": [
    "pipe_wage.fit(data[X_columns][train_msk], data[y_columns][train_msk])"
   ]
  },
  {
   "cell_type": "code",
   "execution_count": 471,
   "metadata": {},
   "outputs": [
    {
     "name": "stderr",
     "output_type": "stream",
     "text": [
      "[Parallel(n_jobs=8)]: Using backend ThreadingBackend with 8 concurrent workers.\n",
      "[Parallel(n_jobs=8)]: Done  40 out of  40 | elapsed:    0.3s finished\n",
      "[Parallel(n_jobs=8)]: Using backend ThreadingBackend with 8 concurrent workers.\n",
      "[Parallel(n_jobs=8)]: Done  40 out of  40 | elapsed:    1.4s finished\n",
      "\n",
      "The to_png function was deprecated in Matplotlib 3.4 and will be removed two minor releases later. Use mathtext.math_to_image instead.\n",
      "\n",
      "The to_rgba function was deprecated in Matplotlib 3.4 and will be removed two minor releases later. Use mathtext.math_to_image instead.\n",
      "\n",
      "The to_mask function was deprecated in Matplotlib 3.4 and will be removed two minor releases later. Use mathtext.math_to_image instead.\n",
      "\n",
      "The MathtextBackendBitmap class was deprecated in Matplotlib 3.4 and will be removed two minor releases later. Use mathtext.math_to_image instead.\n"
     ]
    },
    {
     "data": {
      "image/png": "[encoded data removed]",
      "text/latex": [
       "$\\displaystyle \\left( 0.810197078939243, \\  0.701402864900813\\right)$"
      ],
      "text/plain": [
       "(0.8101970789392434, 0.701402864900813)"
      ]
     },
     "execution_count": 471,
     "metadata": {},
     "output_type": "execute_result"
    }
   ],
   "source": [
    "from sklearn.calibration import CalibrationDisplay\n",
    "\n",
    "score = r2_score(\n",
    "    data[y_columns][test_msk],\n",
    "    pipe_wage.predict(data[X_columns][test_msk]),\n",
    "    sample_weight=None,\n",
    "    multioutput='uniform_average'\n",
    ")\n",
    "\n",
    "train_score = r2_score(\n",
    "    data[y_columns][train_msk],\n",
    "    pipe_wage.predict(data[X_columns][train_msk]),\n",
    "    sample_weight=None,\n",
    "    multioutput='uniform_average'\n",
    ")\n",
    "\n",
    "train_score, score"
   ]
  },
  {
   "cell_type": "code",
   "execution_count": 472,
   "metadata": {},
   "outputs": [
    {
     "data": {
      "image/png": "[encoded data removed]",
      "text/latex": [
       "$\\displaystyle \\left( 0.810197078939243, \\  0.701402864900813\\right)$"
      ],
      "text/plain": [
       "(0.8101970789392434, 0.701402864900813)"
      ]
     },
     "execution_count": 472,
     "metadata": {},
     "output_type": "execute_result"
    }
   ],
   "source": [
    "train_score, score"
   ]
  },
  {
   "cell_type": "code",
   "execution_count": 473,
   "metadata": {},
   "outputs": [
    {
     "name": "stderr",
     "output_type": "stream",
     "text": [
      "[Parallel(n_jobs=8)]: Using backend ThreadingBackend with 8 concurrent workers.\n",
      "[Parallel(n_jobs=8)]: Done  40 out of  40 | elapsed:    0.3s finished\n",
      "Pass the following variables as keyword args: x, y. From version 0.12, the only valid positional argument will be `data`, and passing other arguments without an explicit keyword will result in an error or misinterpretation.\n"
     ]
    },
    {
     "data": {
      "text/plain": [
       "<seaborn.axisgrid.JointGrid at 0x2108d04c6d0>"
      ]
     },
     "execution_count": 473,
     "metadata": {},
     "output_type": "execute_result"
    },
    {
     "data": {
      "image/png": "[encoded data removed]",
      "text/plain": [
       "<Figure size 432x432 with 3 Axes>"
      ]
     },
     "metadata": {
      "needs_background": "light"
     },
     "output_type": "display_data"
    }
   ],
   "source": [
    "preds = pipe_wage.predict(data[X_columns][test_msk])\n",
    "\n",
    "err = preds.flatten() - data[y_columns[0]][test_msk]\n",
    "\n",
    "sns.jointplot(data[y_columns[0]][test_msk], err, joint_kws = dict(alpha = 0.01))"
   ]
  },
  {
   "cell_type": "code",
   "execution_count": 474,
   "metadata": {},
   "outputs": [
    {
     "name": "stderr",
     "output_type": "stream",
     "text": [
      "[Parallel(n_jobs=8)]: Using backend ThreadingBackend with 8 concurrent workers.\n",
      "[Parallel(n_jobs=8)]: Done  40 out of  40 | elapsed:    0.3s finished\n"
     ]
    }
   ],
   "source": [
    "def r2_scoring(estim, X, y):\n",
    "    return r2_score(\n",
    "            y,\n",
    "            estim.predict(X),\n",
    "            sample_weight=None,\n",
    "            multioutput='uniform_average'\n",
    "        )\n",
    "\n",
    "importances = permutation_importance(pipe_wage, data[X_columns][test_msk], data[y_columns][test_msk], n_repeats = 10, n_jobs = -1, scoring = r2_scoring)"
   ]
  },
  {
   "cell_type": "code",
   "execution_count": 475,
   "metadata": {},
   "outputs": [
    {
     "data": {
      "text/plain": [
       "Text(0.5, 1.0, 'Permutation feature importances for wage prediction ($R^2$ = 0.7)')"
      ]
     },
     "execution_count": 475,
     "metadata": {},
     "output_type": "execute_result"
    },
    {
     "data": {
      "image/png": "[encoded data removed]",
      "text/plain": [
       "<Figure size 432x288 with 1 Axes>"
      ]
     },
     "metadata": {
      "needs_background": "light"
     },
     "output_type": "display_data"
    }
   ],
   "source": [
    "importances_df = pd.DataFrame(importances['importances'])\n",
    "importances_df['feature'] = X_columns\n",
    "importances_df = importances_df.melt(id_vars = ['feature'], var_name = 'iter')\n",
    "rank = importances_df.groupby('feature')['value'].sum().sort_values(ascending = False)\n",
    "\n",
    "#importances_df.groupby('feature').apply(lambda x: sns.boxplot(y = x['importances'], x = x['rank']))\n",
    "sns.boxplot(x=\"value\", \n",
    "            y=\"feature\",\n",
    "            data=importances_df,\n",
    "            order = rank.index \n",
    "           )\n",
    "\n",
    "plt.title(f'Permutation feature importances for wage prediction ($R^2$ = {round(score,2)})')\n",
    "\n",
    "#plt.legend()"
   ]
  },
  {
   "cell_type": "code",
   "execution_count": 476,
   "metadata": {},
   "outputs": [],
   "source": [
    "#var_dict.loc[[i.replace('-Sec', '').replace('-SubP','') for i in rank.index]].reset_index().drop_duplicates(var_dict.index.name)"
   ]
  },
  {
   "cell_type": "markdown",
   "metadata": {},
   "source": [
    "É importante perceber que para inferencia causal, a performance preditiva do modelo não é tão importante assim, contanto que os modelos sejam consistentes no conjunto de treino e teste. o mais importante é que os modelos nuisance para os tratamentos consigam ortogonalizar os tratamentos e as covariantes (unconfoundedness/ignorability) e que o preditor da resposta diminua um pouco a sua variância."
   ]
  },
  {
   "cell_type": "markdown",
   "metadata": {},
   "source": [
    "# Treatment Effect with Double/Orthogonal ML"
   ]
  },
  {
   "cell_type": "code",
   "execution_count": 477,
   "metadata": {},
   "outputs": [],
   "source": [
    "from sklearn.multioutput import MultiOutputRegressor, MultiOutputClassifier\n",
    "from sklearn.utils import check_array\n",
    "class ResidualEstimator():\n",
    "    \n",
    "    def __init__(self, regressor = None, classifier = None):\n",
    "        self.regressor = regressor\n",
    "        self.classifier = classifier        \n",
    "        return\n",
    "    \n",
    "    def fit(self, X, y_num = None, y_cat = None, **kwargs):\n",
    "        \n",
    "        \n",
    "        if not self.regressor is None:\n",
    "            numerical_estimator = MultiOutputRegressor(self.regressor)\n",
    "            numerical_estimator.fit(X, y_num)\n",
    "        else:\n",
    "            numerical_estimator = None\n",
    "            \n",
    "        if not self.classifier is None:\n",
    "            categorical_estimator = MultiOutputClassifier(self.classifier)                        \n",
    "            categorical_estimator.fit(X, y_cat)\n",
    "        else:\n",
    "            categorical_estimator = None\n",
    "        \n",
    "        self.numerical_estimator_ = numerical_estimator\n",
    "        self.categorical_estimator_ = categorical_estimator\n",
    "        return self\n",
    "    \n",
    "    def transform(self, X, y_num = None, y_cat= None):\n",
    "        if not self.numerical_estimator_ is None:\n",
    "            pred_num = self.numerical_estimator_.predict(X)\n",
    "            num = y_num - pred_num\n",
    "        else:\n",
    "            num = np.zeros((X.shape[0],0))\n",
    "        \n",
    "        if not self.categorical_estimator_ is None:\n",
    "            pred_cat = self.categorical_estimator_.predict_proba(X)\n",
    "            pred_cat = np.hstack(\n",
    "                [check_array(arr) for arr in pred_cat]\n",
    "            )        \n",
    "            y_cat = OneHotEncoder(sparse = False, categories = self.categorical_estimator_.classes_).fit_transform(y_cat)\n",
    "            cat = y_cat - pred_cat\n",
    "        else:\n",
    "            cat = pred_num = np.zeros((X.shape[0],0))                                            \n",
    "        \n",
    "        return np.hstack([num,cat])"
   ]
  },
  {
   "cell_type": "code",
   "execution_count": 478,
   "metadata": {},
   "outputs": [
    {
     "data": {
      "text/plain": [
       "3.0    312619\n",
       "2.0    135232\n",
       "5.0     68908\n",
       "4.0     55533\n",
       "1.0     20449\n",
       "Name: VD4013, dtype: int64"
      ]
     },
     "execution_count": 478,
     "metadata": {},
     "output_type": "execute_result"
    }
   ],
   "source": [
    "data['VD4013'].value_counts(dropna = False)"
   ]
  },
  {
   "cell_type": "code",
   "execution_count": 513,
   "metadata": {},
   "outputs": [],
   "source": [
    "categorical_columns = [\n",
    "    'UF', #estado\n",
    "    'V1022', #zona rural ou urbana\n",
    "    'V1023', # região do estado    \n",
    "    'V3001', #sabe ler ou escrever?\n",
    "    'V4010-SubP', #subgrupo principal da ocupação de acordo com Estrutura_Ocupacao_COD\n",
    "    'V4010-Sub', #subgrupo principal da ocupação de acordo com Estrutura_Ocupacao_COD\n",
    "    'V4012', #Nesse trabalho,... era\n",
    "    'V4013-Sec', #seção do código CNAE da principal atividade do trabalho\n",
    "    'V4013-Div', #Divisão do código CNAE da principal atividade do trabalho\n",
    "    'V4014', #esfera do trabalho (Federal estadual ou municipal)\n",
    "    'VD3004', #nível de instrução mais elevado alcançado\n",
    "    'V3009A', #curso mais alto que frequentou anteriormente\n",
    "    'V4029', #carteira assinada    \n",
    "    #'VD4032', #Horas efetivamente trabalhadas na semana de referência no trabalho principal para pessoas de 14 anos ou mais de idade    \n",
    "]\n",
    "\n",
    "\n",
    "numerical_columns = [\n",
    "    'V2009', #idade\n",
    "    'VD3005', #anos de estudo\n",
    "    'VD4013', #Faixa das horas habitualmente trabalhadas\n",
    "]\n",
    "\n",
    "treatment_columns = [\n",
    "    'V2007-Bin', #sexo\n",
    "    'V2010-Bin', #cor ou raça binária (branco ou amarelo/ preto pardo ou indigena)\n",
    "]\n",
    "\n",
    "target_columns = [\n",
    "    'VD4016-Log', #Rendimento mensal habitual do trabalho principal para pessoas de 14 anos ou mais de idade (apenas para pessoas que receberam em dinheiro, produtos ou mercadorias no trabalho principal)\n",
    "]\n",
    "\n",
    "X_columns = categorical_columns + numerical_columns\n",
    "T_columns = treatment_columns\n",
    "y_columns = target_columns\n"
   ]
  },
  {
   "cell_type": "markdown",
   "metadata": {},
   "source": [
    "## First stage $X \\sim{} T$"
   ]
  },
  {
   "cell_type": "markdown",
   "metadata": {},
   "source": [
    "as there are only 4 possibilities in the X variables, and terminal nodes is $2^n$, where n = depth, we'll use max depth = 2"
   ]
  },
  {
   "cell_type": "code",
   "execution_count": 480,
   "metadata": {},
   "outputs": [],
   "source": [
    "clf_cart = ExtraTreesClassifier(10, max_depth = 2, max_features = 4, ) #like a bootstrapped groupby \n",
    "reg_cart = ExtraTreesRegressor(10, max_depth = 2, max_features = 4,)\n",
    "\n",
    "cat_estimator = make_numerical_and_categorical_pipeline(\n",
    "    categorical_columns = treatment_columns,\n",
    "    numerical_columns=[],\n",
    "    final_estimator= clf_cart\n",
    ")\n",
    "\n",
    "num_estimator = make_numerical_and_categorical_pipeline(\n",
    "    categorical_columns = treatment_columns,\n",
    "    numerical_columns=[],\n",
    "    final_estimator= reg_cart\n",
    ")\n",
    "\n",
    "stage1 = ResidualEstimator(\n",
    "    num_estimator,\n",
    "    cat_estimator,\n",
    ")"
   ]
  },
  {
   "cell_type": "code",
   "execution_count": 481,
   "metadata": {},
   "outputs": [
    {
     "data": {
      "text/plain": [
       "<__main__.ResidualEstimator at 0x21063911fd0>"
      ]
     },
     "execution_count": 481,
     "metadata": {},
     "output_type": "execute_result"
    }
   ],
   "source": [
    "stage1.fit(X = data[T_columns][train_msk], y_num = data[numerical_columns][train_msk], y_cat = data[categorical_columns][train_msk].astype(str))"
   ]
  },
  {
   "cell_type": "markdown",
   "metadata": {
    "tags": []
   },
   "source": [
    "## Second stage $Y \\sim (X - (X \\sim T))$  \n",
    "\n",
    "or $Y \\sim Residuals(X \\sim T)$"
   ]
  },
  {
   "cell_type": "code",
   "execution_count": 482,
   "metadata": {},
   "outputs": [],
   "source": [
    "reg_stage_2 = RandomForestRegressor(40, min_samples_leaf = 5, n_jobs = 3)\n",
    "stage2 = ResidualEstimator(regressor = reg_stage_2)"
   ]
  },
  {
   "cell_type": "code",
   "execution_count": 483,
   "metadata": {},
   "outputs": [],
   "source": [
    "X_T_res = stage1.transform(\n",
    "    data[T_columns][train_msk],\n",
    "    y_num = data[numerical_columns][train_msk],\n",
    "    y_cat = data[categorical_columns][train_msk].astype(str)\n",
    ") #use train data since stage 1 contains only 4 degrees of freedom and thus is unlinkely to overfit\n",
    "#also, random forests with bootstrapped out of bag samples emulates cross validaiton"
   ]
  },
  {
   "cell_type": "code",
   "execution_count": 484,
   "metadata": {},
   "outputs": [],
   "source": [
    "X_T_res_test = stage1.transform(\n",
    "    data[T_columns][test_msk],\n",
    "    y_num = data[numerical_columns][test_msk],\n",
    "    y_cat = data[categorical_columns][test_msk].astype(str)\n",
    ") #use train data since stage 1 contains only 4 degrees of freedom and thus is unlinkely to overfit\n",
    "#also, random forests with bootstrapped out of bag samples emulates cross validaiton"
   ]
  },
  {
   "cell_type": "code",
   "execution_count": 485,
   "metadata": {},
   "outputs": [],
   "source": [
    "y = data[y_columns][train_msk]\n",
    "y_test = data[y_columns][test_msk]"
   ]
  },
  {
   "cell_type": "code",
   "execution_count": 486,
   "metadata": {},
   "outputs": [
    {
     "data": {
      "text/plain": [
       "<__main__.ResidualEstimator at 0x2106710ba60>"
      ]
     },
     "execution_count": 486,
     "metadata": {},
     "output_type": "execute_result"
    }
   ],
   "source": [
    "stage2.fit(X_T_res, y_num = y)"
   ]
  },
  {
   "cell_type": "code",
   "execution_count": 487,
   "metadata": {},
   "outputs": [
    {
     "name": "stderr",
     "output_type": "stream",
     "text": [
      "`distplot` is a deprecated function and will be removed in a future version. Please adapt your code to use either `displot` (a figure-level function with similar flexibility) or `histplot` (an axes-level function for histograms).\n",
      "`distplot` is a deprecated function and will be removed in a future version. Please adapt your code to use either `displot` (a figure-level function with similar flexibility) or `histplot` (an axes-level function for histograms).\n"
     ]
    },
    {
     "data": {
      "text/plain": [
       "<AxesSubplot:ylabel='Density'>"
      ]
     },
     "execution_count": 487,
     "metadata": {},
     "output_type": "execute_result"
    },
    {
     "data": {
      "image/png": "[encoded data removed]",
      "text/plain": [
       "<Figure size 432x288 with 1 Axes>"
      ]
     },
     "metadata": {
      "needs_background": "light"
     },
     "output_type": "display_data"
    }
   ],
   "source": [
    "msk = data['V2007-Bin'][test_msk].str.contains('lin')\n",
    "Y_X_T_res_test = stage2.transform(X_T_res_test, y_num = y_test, y_cat = None)\n",
    "sns.distplot(Y_X_T_res_test[msk])\n",
    "sns.distplot(Y_X_T_res_test[~msk])"
   ]
  },
  {
   "cell_type": "markdown",
   "metadata": {},
   "source": [
    "## Final stage $Y - (Y \\sim (X - (X \\sim T))) \\sim T$ \n",
    "or\n",
    "$Residuals(Y \\sim Residuals(X \\sim T)) \\sim T $"
   ]
  },
  {
   "cell_type": "code",
   "execution_count": 488,
   "metadata": {},
   "outputs": [],
   "source": [
    "reg_stage_final = RandomForestRegressor(10, min_samples_leaf = 10, n_jobs = -1, max_depth = 2)\n",
    "\n",
    "stage_final = make_numerical_and_categorical_pipeline(\n",
    "    categorical_columns = T_columns,\n",
    "    numerical_columns = [],\n",
    "    final_estimator= reg_stage_final\n",
    ")"
   ]
  },
  {
   "cell_type": "code",
   "execution_count": 489,
   "metadata": {},
   "outputs": [
    {
     "name": "stderr",
     "output_type": "stream",
     "text": [
      "A column-vector y was passed when a 1d array was expected. Please change the shape of y to (n_samples,), for example using ravel().\n"
     ]
    },
    {
     "data": {
      "text/plain": [
       "Pipeline(steps=[('PreprocessingPipeline',\n",
       "                 ColumnTransformer(transformers=[('OneHotEncoder',\n",
       "                                                  RobustEncoder(),\n",
       "                                                  ['V2007-Bin', 'V2010-Bin']),\n",
       "                                                 ('NumericalPassthrough',\n",
       "                                                  FunctionTransformer(func=<function make_numerical_and_categorical_pipeline.<locals>.<lambda> at 0x0000021063AE9700>),\n",
       "                                                  [])])),\n",
       "                ('FinalEstimator',\n",
       "                 RandomForestRegressor(max_depth=2, min_samples_leaf=10,\n",
       "                                       n_estimators=10, n_jobs=-1))])"
      ]
     },
     "execution_count": 489,
     "metadata": {},
     "output_type": "execute_result"
    }
   ],
   "source": [
    "stage_final.fit(data[T_columns][test_msk], Y_X_T_res_test)"
   ]
  },
  {
   "cell_type": "code",
   "execution_count": 490,
   "metadata": {},
   "outputs": [],
   "source": [
    "def predict_all_stages(stage1, stage2, stage_final, X_num, X_cat, T, y):\n",
    "    out1 = stage1.transform(T, y_num = X_num, y_cat = X_cat)\n",
    "    out2 = stage2.transform(out1, y_num = y)\n",
    "    out_final = stage_final.predict(T)\n",
    "    return out_final\n",
    "    "
   ]
  },
  {
   "cell_type": "code",
   "execution_count": 491,
   "metadata": {},
   "outputs": [],
   "source": [
    "\n",
    "factual = predict_all_stages(\n",
    "    stage1,\n",
    "    stage2,\n",
    "    stage_final,    \n",
    "    X_num = data[numerical_columns][test_msk],\n",
    "    X_cat = data[categorical_columns][test_msk].astype(str),\n",
    "    T = data[T_columns][test_msk],\n",
    "    y = data[y_columns][test_msk]  \n",
    ")"
   ]
  },
  {
   "cell_type": "code",
   "execution_count": 492,
   "metadata": {},
   "outputs": [
    {
     "data": {
      "text/html": [
       "<div>\n",
       "<style scoped>\n",
       "    .dataframe tbody tr th:only-of-type {\n",
       "        vertical-align: middle;\n",
       "    }\n",
       "\n",
       "    .dataframe tbody tr th {\n",
       "        vertical-align: top;\n",
       "    }\n",
       "\n",
       "    .dataframe thead th {\n",
       "        text-align: right;\n",
       "    }\n",
       "</style>\n",
       "<table border=\"1\" class=\"dataframe\">\n",
       "  <thead>\n",
       "    <tr style=\"text-align: right;\">\n",
       "      <th></th>\n",
       "      <th>V2007-Bin</th>\n",
       "      <th>V2010-Bin</th>\n",
       "    </tr>\n",
       "  </thead>\n",
       "  <tbody>\n",
       "    <tr>\n",
       "      <th>0</th>\n",
       "      <td>Feminino</td>\n",
       "      <td>Preta, Parda ou Indígena</td>\n",
       "    </tr>\n",
       "    <tr>\n",
       "      <th>1</th>\n",
       "      <td>Feminino</td>\n",
       "      <td>Preta, Parda ou Indígena</td>\n",
       "    </tr>\n",
       "    <tr>\n",
       "      <th>2</th>\n",
       "      <td>Masculino</td>\n",
       "      <td>Branca ou Amarela</td>\n",
       "    </tr>\n",
       "    <tr>\n",
       "      <th>3</th>\n",
       "      <td>Feminino</td>\n",
       "      <td>Preta, Parda ou Indígena</td>\n",
       "    </tr>\n",
       "    <tr>\n",
       "      <th>4</th>\n",
       "      <td>Masculino</td>\n",
       "      <td>Branca ou Amarela</td>\n",
       "    </tr>\n",
       "    <tr>\n",
       "      <th>...</th>\n",
       "      <td>...</td>\n",
       "      <td>...</td>\n",
       "    </tr>\n",
       "    <tr>\n",
       "      <th>592736</th>\n",
       "      <td>Feminino</td>\n",
       "      <td>Preta, Parda ou Indígena</td>\n",
       "    </tr>\n",
       "    <tr>\n",
       "      <th>592737</th>\n",
       "      <td>Masculino</td>\n",
       "      <td>Branca ou Amarela</td>\n",
       "    </tr>\n",
       "    <tr>\n",
       "      <th>592738</th>\n",
       "      <td>Feminino</td>\n",
       "      <td>Preta, Parda ou Indígena</td>\n",
       "    </tr>\n",
       "    <tr>\n",
       "      <th>592739</th>\n",
       "      <td>Masculino</td>\n",
       "      <td>Preta, Parda ou Indígena</td>\n",
       "    </tr>\n",
       "    <tr>\n",
       "      <th>592740</th>\n",
       "      <td>Feminino</td>\n",
       "      <td>Preta, Parda ou Indígena</td>\n",
       "    </tr>\n",
       "  </tbody>\n",
       "</table>\n",
       "<p>592741 rows × 2 columns</p>\n",
       "</div>"
      ],
      "text/plain": [
       "        V2007-Bin                 V2010-Bin\n",
       "0        Feminino  Preta, Parda ou Indígena\n",
       "1        Feminino  Preta, Parda ou Indígena\n",
       "2       Masculino         Branca ou Amarela\n",
       "3        Feminino  Preta, Parda ou Indígena\n",
       "4       Masculino         Branca ou Amarela\n",
       "...           ...                       ...\n",
       "592736   Feminino  Preta, Parda ou Indígena\n",
       "592737  Masculino         Branca ou Amarela\n",
       "592738   Feminino  Preta, Parda ou Indígena\n",
       "592739  Masculino  Preta, Parda ou Indígena\n",
       "592740   Feminino  Preta, Parda ou Indígena\n",
       "\n",
       "[592741 rows x 2 columns]"
      ]
     },
     "execution_count": 492,
     "metadata": {},
     "output_type": "execute_result"
    }
   ],
   "source": [
    "data[T_columns]"
   ]
  },
  {
   "cell_type": "code",
   "execution_count": 493,
   "metadata": {
    "tags": []
   },
   "outputs": [],
   "source": [
    "T_race_cf = data[T_columns][test_msk].replace('Preta, Parda ou Indígena', 'Branca ou Amarela')\n",
    "\n",
    "counter_factual_race = predict_all_stages(\n",
    "    stage1,\n",
    "    stage2,\n",
    "    stage_final,    \n",
    "    X_num = data[numerical_columns][test_msk],\n",
    "    X_cat = data[categorical_columns][test_msk].astype(str),\n",
    "    T = T_race_cf,\n",
    "    y = data[y_columns][test_msk]  \n",
    ")"
   ]
  },
  {
   "cell_type": "code",
   "execution_count": 494,
   "metadata": {
    "tags": []
   },
   "outputs": [
    {
     "name": "stderr",
     "output_type": "stream",
     "text": [
      "\n",
      "A value is trying to be set on a copy of a slice from a DataFrame.\n",
      "Try using .loc[row_indexer,col_indexer] = value instead\n",
      "\n",
      "See the caveats in the documentation: https://pandas.pydata.org/pandas-docs/stable/user_guide/indexing.html#returning-a-view-versus-a-copy\n"
     ]
    }
   ],
   "source": [
    "d = data[test_msk]\n",
    "d['factual_res'] = factual"
   ]
  },
  {
   "cell_type": "code",
   "execution_count": 495,
   "metadata": {},
   "outputs": [
    {
     "name": "stderr",
     "output_type": "stream",
     "text": [
      "\n",
      "A value is trying to be set on a copy of a slice from a DataFrame.\n",
      "Try using .loc[row_indexer,col_indexer] = value instead\n",
      "\n",
      "See the caveats in the documentation: https://pandas.pydata.org/pandas-docs/stable/user_guide/indexing.html#returning-a-view-versus-a-copy\n"
     ]
    }
   ],
   "source": [
    "d['cf_race'] = counter_factual_race"
   ]
  },
  {
   "cell_type": "code",
   "execution_count": 496,
   "metadata": {},
   "outputs": [
    {
     "name": "stderr",
     "output_type": "stream",
     "text": [
      "\n",
      "A value is trying to be set on a copy of a slice from a DataFrame.\n",
      "Try using .loc[row_indexer,col_indexer] = value instead\n",
      "\n",
      "See the caveats in the documentation: https://pandas.pydata.org/pandas-docs/stable/user_guide/indexing.html#returning-a-view-versus-a-copy\n"
     ]
    }
   ],
   "source": [
    "d['race_effect'] = d['factual_res'] - d['cf_race']"
   ]
  },
  {
   "cell_type": "code",
   "execution_count": 497,
   "metadata": {},
   "outputs": [
    {
     "data": {
      "text/plain": [
       "V2007-Bin  V2010-Bin               \n",
       "Feminino   Branca ou Amarela           0.000000\n",
       "           Preta, Parda ou Indígena   -0.008040\n",
       "Masculino  Branca ou Amarela           0.000000\n",
       "           Preta, Parda ou Indígena   -0.003924\n",
       "Name: race_effect, dtype: float64"
      ]
     },
     "execution_count": 497,
     "metadata": {},
     "output_type": "execute_result"
    }
   ],
   "source": [
    "np.expm1(d.groupby(T_columns)['race_effect'].mean())"
   ]
  },
  {
   "cell_type": "code",
   "execution_count": 498,
   "metadata": {},
   "outputs": [
    {
     "name": "stderr",
     "output_type": "stream",
     "text": [
      "`distplot` is a deprecated function and will be removed in a future version. Please adapt your code to use either `displot` (a figure-level function with similar flexibility) or `histplot` (an axes-level function for histograms).\n"
     ]
    },
    {
     "data": {
      "text/plain": [
       "<AxesSubplot:xlabel='race_effect', ylabel='Density'>"
      ]
     },
     "execution_count": 498,
     "metadata": {},
     "output_type": "execute_result"
    },
    {
     "data": {
      "image/png": "[encoded data removed]",
      "text/plain": [
       "<Figure size 432x288 with 1 Axes>"
      ]
     },
     "metadata": {
      "needs_background": "light"
     },
     "output_type": "display_data"
    }
   ],
   "source": [
    "sns.distplot(d['race_effect'])"
   ]
  },
  {
   "cell_type": "code",
   "execution_count": 499,
   "metadata": {
    "tags": []
   },
   "outputs": [],
   "source": [
    "T_sex_cf = data[T_columns][test_msk].replace('Feminino', 'Masculino')\n",
    "\n",
    "counter_factual_sex = predict_all_stages(\n",
    "    stage1,\n",
    "    stage2,\n",
    "    stage_final,    \n",
    "    X_num = data[numerical_columns][test_msk],\n",
    "    X_cat = data[categorical_columns][test_msk].astype(str),\n",
    "    T = T_sex_cf,\n",
    "    y = data[y_columns][test_msk]  \n",
    ")"
   ]
  },
  {
   "cell_type": "code",
   "execution_count": 500,
   "metadata": {},
   "outputs": [
    {
     "name": "stderr",
     "output_type": "stream",
     "text": [
      "\n",
      "A value is trying to be set on a copy of a slice from a DataFrame.\n",
      "Try using .loc[row_indexer,col_indexer] = value instead\n",
      "\n",
      "See the caveats in the documentation: https://pandas.pydata.org/pandas-docs/stable/user_guide/indexing.html#returning-a-view-versus-a-copy\n"
     ]
    }
   ],
   "source": [
    "d['cf_sex'] = counter_factual_sex"
   ]
  },
  {
   "cell_type": "code",
   "execution_count": 501,
   "metadata": {},
   "outputs": [
    {
     "name": "stderr",
     "output_type": "stream",
     "text": [
      "\n",
      "A value is trying to be set on a copy of a slice from a DataFrame.\n",
      "Try using .loc[row_indexer,col_indexer] = value instead\n",
      "\n",
      "See the caveats in the documentation: https://pandas.pydata.org/pandas-docs/stable/user_guide/indexing.html#returning-a-view-versus-a-copy\n"
     ]
    }
   ],
   "source": [
    "d['sex_effect'] = d['factual_res'] - d['cf_sex']"
   ]
  },
  {
   "cell_type": "code",
   "execution_count": 502,
   "metadata": {},
   "outputs": [
    {
     "data": {
      "text/plain": [
       "V2007-Bin  V2010-Bin               \n",
       "Feminino   Branca ou Amarela          -1.380575e-03\n",
       "           Preta, Parda ou Indígena   -5.507409e-03\n",
       "Masculino  Branca ou Amarela           4.336809e-19\n",
       "           Preta, Parda ou Indígena   -1.084202e-19\n",
       "Name: sex_effect, dtype: float64"
      ]
     },
     "execution_count": 502,
     "metadata": {},
     "output_type": "execute_result"
    }
   ],
   "source": [
    "np.expm1(d.groupby(T_columns)['sex_effect'].mean())"
   ]
  },
  {
   "cell_type": "markdown",
   "metadata": {},
   "source": [
    "# Direct treatment effect with TLearner"
   ]
  },
  {
   "cell_type": "code",
   "execution_count": 48,
   "metadata": {},
   "outputs": [],
   "source": [
    "categorical_columns = [\n",
    "    'UF', #estado\n",
    "    'V1022', #zona rural ou urbana\n",
    "    'V1023', # região do estado    \n",
    "    'V3001', #sabe ler ou escrever?\n",
    "    'V4010-SubP', #subgrupo principal da ocupação de acordo com Estrutura_Ocupacao_COD\n",
    "    'V4010-Sub', #subgrupo principal da ocupação de acordo com Estrutura_Ocupacao_COD\n",
    "    'V4012', #Nesse trabalho,... era\n",
    "    'V4013-Sec', #seção do código CNAE da principal atividade do trabalho\n",
    "    'V4013-Div', #Divisão do código CNAE da principal atividade do trabalho\n",
    "    'V4014', #esfera do trabalho (Federal estadual ou municipal)\n",
    "    'VD3004', #nível de instrução mais elevado alcançado\n",
    "    'V3009A', #curso mais alto que frequentou anteriormente\n",
    "    'V4029', #carteira assinada    \n",
    "    #'VD4032', #Horas efetivamente trabalhadas na semana de referência no trabalho principal para pessoas de 14 anos ou mais de idade    \n",
    "]\n",
    "\n",
    "\n",
    "numerical_columns = [\n",
    "    'V2009', #idade\n",
    "    'VD3005', #anos de estudo\n",
    "    'VD4013', #Faixa das horas habitualmente trabalhadas\n",
    "]\n",
    "\n",
    "treatment_columns = [\n",
    "    'V2007-Bin', #sexo\n",
    "    'V2010-Bin', #cor ou raça binária (branco ou amarelo/ preto pardo ou indigena)\n",
    "]\n",
    "\n",
    "target_columns = [\n",
    "    'VD4016-Log', #Rendimento mensal habitual do trabalho principal para pessoas de 14 anos ou mais de idade (apenas para pessoas que receberam em dinheiro, produtos ou mercadorias no trabalho principal)\n",
    "]\n",
    "\n",
    "X_columns = categorical_columns + numerical_columns\n",
    "T_columns = treatment_columns\n",
    "y_columns = target_columns\n"
   ]
  },
  {
   "cell_type": "code",
   "execution_count": 49,
   "metadata": {},
   "outputs": [],
   "source": [
    "train_frac = 0.8\n",
    "train_idxs = np.random.choice(range(len(data)), size = int(len(data)*train_frac), replace = False)\n",
    "\n",
    "train_msk = np.empty((len(data),), dtype = bool)\n",
    "train_msk[:] = False\n",
    "train_msk[train_idxs] = True\n",
    "test_msk = ~train_msk"
   ]
  },
  {
   "cell_type": "code",
   "execution_count": 50,
   "metadata": {},
   "outputs": [],
   "source": [
    "from sklearn.base import clone, BaseEstimator\n",
    "\n",
    "class TLearner(BaseEstimator):\n",
    "    \n",
    "    def __init__(self, effect_estimator, propensity_estimator, X_columns, T_columns, y_columns, propensity_threshold = 0.0):\n",
    "        '''\n",
    "        Parameters\n",
    "        ----------\n",
    "        \n",
    "        effect_estimator: sklearn estimator\n",
    "            base estimator for the counter factual effect estimation\n",
    "        \n",
    "        propensity_estimator: sklearn estimator\n",
    "            base estimator for the propensity score estimator\n",
    "        \n",
    "        X_columns: list of str\n",
    "             covariates columns\n",
    "        \n",
    "        T_columns: list of str\n",
    "            treatment variable columns\n",
    "        \n",
    "        y_columns: list of str\n",
    "            target columns\n",
    "            \n",
    "        propensity_threshold: float\n",
    "            propensity score threshold for filtering data during fit and inference. \n",
    "            Imporatant to ensure positivity assumption.\n",
    "            \n",
    "        \n",
    "        Returns\n",
    "        -------\n",
    "        \n",
    "        TLearner estimator\n",
    "        '''\n",
    "        self.effect_estimator = effect_estimator\n",
    "        self.propensity_estimator = propensity_estimator\n",
    "        self.X_columns = X_columns\n",
    "        self.T_columns = T_columns\n",
    "        self.y_columns = y_columns        \n",
    "        self.propensity_threshold = propensity_threshold\n",
    "        return\n",
    "            \n",
    "    def fit(self, df, **kwargs):\n",
    "        \n",
    "        \n",
    "        propensity_model = self.propensity_estimator.fit(\n",
    "            df[self.X_columns],\n",
    "            df[self.T_columns].apply(tuple, axis = 1).astype(str)\n",
    "        )\n",
    "        \n",
    "        propensities = propensity_model.predict_proba(df[self.X_columns])        \n",
    "        p_mask = (propensities >= self.propensity_threshold).all(axis = 1)\n",
    "        \n",
    "        effect_models = df[p_mask].groupby(T_columns).apply(\n",
    "            lambda df: clone(self.effect_estimator).fit(\n",
    "                df[self.X_columns],\n",
    "                df[self.y_columns],\n",
    "                **kwargs\n",
    "            )\n",
    "        )\n",
    "                \n",
    "                        \n",
    "        self.p_mask_ = p_mask\n",
    "        self.effect_models = effect_models\n",
    "        self.propensity_model = propensity_model\n",
    "        return self\n",
    "        \n",
    "    def counterfactuals(self, df, method = 'predict'):\n",
    "        \n",
    "        d = {}\n",
    "        for i in self.effect_models.index:\n",
    "            d[i] = getattr(self.effect_models.loc[i], method)(df[self.X_columns]).flatten()\n",
    "                \n",
    "        d = pd.DataFrame(d)\n",
    "        index = d.index\n",
    "        columns = d.columns\n",
    "        \n",
    "        propensities = self.propensity_score(df)\n",
    "        d = np.where(propensities >= self.propensity_threshold, d, np.nan)\n",
    "                        \n",
    "        return pd.DataFrame(d, index = index, columns = columns)\n",
    "    \n",
    "    def propensity_score(self, df):\n",
    "        scores = self.propensity_model.predict_proba(df[self.X_columns])        \n",
    "        return pd.DataFrame(\n",
    "            scores,\n",
    "            columns = pd.MultiIndex.from_tuples([eval(i) for i in self.propensity_model.classes_])\n",
    "        )\n",
    "        \n",
    "    def predict(self, df):\n",
    "        \n",
    "        def _predict(x):\n",
    "            grp = list(x.groupby(self.T_columns).groups)[0]\n",
    "            results = self.effect_models.loc[grp].predict(x[self.X_columns])\n",
    "            results = pd.DataFrame(results)\n",
    "            results['_index'] = x.index\n",
    "            return results\n",
    "        \n",
    "        results = df.reset_index().groupby(self.T_columns).apply(_predict)\n",
    "        results = results.sort_values(by = '_index').iloc[:,0].values\n",
    "                        \n",
    "        return results\n",
    "\n",
    "        \n",
    "from scipy.stats import dirichlet\n",
    "def baesyan_bootstrap(samples, n_bootstraped_samples):\n",
    "    '''\n",
    "    a function to calculate bootstraped mean of distribution using dirichlet sampling\n",
    "    '''\n",
    "    samples = np.array(samples)\n",
    "    samples = samples[~np.isnan(samples)]\n",
    "    likelihoods = dirichlet([1]*len(samples)).rvs(n_bootstraped_samples)\n",
    "    return (likelihoods*samples.reshape(1,-1)).sum(axis = 1)\n",
    "\n",
    "def remove_duplicate_columns(df):\n",
    "    return df.loc[:,~df.columns.duplicated()]\n"
   ]
  },
  {
   "cell_type": "code",
   "execution_count": 51,
   "metadata": {},
   "outputs": [],
   "source": [
    "data = remove_duplicate_columns(data)"
   ]
  },
  {
   "cell_type": "code",
   "execution_count": 375,
   "metadata": {},
   "outputs": [],
   "source": [
    "from sklearn.ensemble import ExtraTreesRegressor\n",
    "regressor = RandomForestRegressor(20, min_samples_leaf = 20, n_jobs = -1, max_samples = 0.5)\n",
    "#regressor = ExtraTreesRegressor(100, min_samples_leaf = 20, n_jobs = -1, max_samples = 0.5)\n",
    "#classifier = RandomForestClassifier(20, min_samples_leaf = 20, n_jobs = -1, max_samples = 0.5)\n",
    "#regressor = LinearRegression(n_jobs = -1)\n",
    "classifier = LogisticRegression(n_jobs = -1)\n",
    "\n",
    "regressor_pipeline = make_numerical_and_categorical_pipeline(    \n",
    "    numerical_columns = numerical_columns,\n",
    "    categorical_columns = categorical_columns,\n",
    "    final_estimator = regressor\n",
    ")\n",
    "\n",
    "classifier_pipeline = make_numerical_and_categorical_pipeline(    \n",
    "    numerical_columns = numerical_columns,\n",
    "    categorical_columns = categorical_columns,\n",
    "    final_estimator = classifier\n",
    ")"
   ]
  },
  {
   "cell_type": "code",
   "execution_count": 376,
   "metadata": {},
   "outputs": [],
   "source": [
    "estim = TLearner(\n",
    "    regressor_pipeline,\n",
    "    classifier_pipeline,\n",
    "    X_columns,\n",
    "    T_columns,\n",
    "    y_columns,\n",
    "    propensity_threshold = 0.05\n",
    ")"
   ]
  },
  {
   "cell_type": "code",
   "execution_count": null,
   "metadata": {},
   "outputs": [],
   "source": [
    "estim.fit(data[train_msk])"
   ]
  },
  {
   "cell_type": "code",
   "execution_count": null,
   "metadata": {},
   "outputs": [],
   "source": [
    "r2_score(data[test_msk][y_columns].values.flatten(), estim.predict(data[test_msk])), r2_score(data[train_msk][y_columns].values.flatten(), estim.predict(data[train_msk]))"
   ]
  },
  {
   "cell_type": "markdown",
   "metadata": {},
   "source": [
    "# Results and Analysis"
   ]
  },
  {
   "cell_type": "code",
   "execution_count": null,
   "metadata": {},
   "outputs": [],
   "source": [
    "results = estim.counterfactuals(data[test_msk])\n",
    "propensity_scores = estim.propensity_score(data[test_msk])\n",
    "predictions = estim.predict(data[test_msk])"
   ]
  },
  {
   "cell_type": "code",
   "execution_count": null,
   "metadata": {},
   "outputs": [],
   "source": [
    "from sklearn.preprocessing import OneHotEncoder, OrdinalEncoder, normalize\n",
    "\n",
    "from sklearn.metrics import roc_curve, roc_auc_score\n",
    "from sklearn.calibration import calibration_curve\n",
    "from sklearn.decomposition import PCA\n",
    "\n",
    "import plotly.graph_objects as go\n",
    "import plotly.express as px\n",
    "import numpy as np\n",
    "import pandas as pd\n",
    "\n",
    "def calibration_plots(y_true, y_proba, classes, n_bins = 20):\n",
    "\n",
    "    if len(y_true.shape) == 1:\n",
    "        y_true = y_true.reshape(-1,1)\n",
    "\n",
    "    if len(y_true.flatten()) == y_true.shape[0]:\n",
    "        ohe = OneHotEncoder(categories = classes)\n",
    "        one_hot_targets = ohe.fit_transform(y_true).A\n",
    "    else:\n",
    "        one_hot_targets = y_true\n",
    "\n",
    "    fig = go.Figure()\n",
    "    for label_id in range(len(classes[0])):\n",
    "        true = one_hot_targets[:,label_id].flatten()\n",
    "        proba_true = y_proba[:,label_id].flatten()\n",
    "        prob_true, prob_pred = calibration_curve(true, proba_true, normalize=False, n_bins=n_bins, strategy='uniform')\n",
    "        trace = go.Scatter(x=prob_pred, y=prob_true,\n",
    "                        mode = 'lines+markers',\n",
    "                        name = classes[0][label_id])\n",
    "\n",
    "        fig.add_trace(trace)\n",
    "\n",
    "\n",
    "    fig.update_xaxes(title=\"prob_pred\")\n",
    "    fig.update_yaxes(title=\"prob_true\")\n",
    "    # add y = x trace\n",
    "    fig.add_trace(\n",
    "        go.Scatter(x=[0,1], y=[0,1],\n",
    "                    mode = 'lines+markers',\n",
    "                    name = 'y = x',\n",
    "                    line = dict(dash = 'dash')\n",
    "                  )\n",
    "    )\n",
    "\n",
    "\n",
    "    fig.update_layout(title = 'Calibration Curves')\n",
    "    return fig"
   ]
  },
  {
   "cell_type": "code",
   "execution_count": null,
   "metadata": {},
   "outputs": [],
   "source": [
    "plt.subplots_adjust(0,-1)\n",
    "calibration_plots(\n",
    "    data[test_msk][T_columns].apply(tuple, axis = 1).astype(str).values,\n",
    "    propensity_scores.values,\n",
    "    [estim.propensity_estimator.classes_],\n",
    "    n_bins = 20\n",
    ")\n"
   ]
  },
  {
   "cell_type": "code",
   "execution_count": null,
   "metadata": {},
   "outputs": [],
   "source": [
    "control_predictions = estim.effect_models.iloc[-2].predict(data[test_msk])"
   ]
  },
  {
   "cell_type": "code",
   "execution_count": null,
   "metadata": {},
   "outputs": [],
   "source": [
    "deltas = np.exp(results - results[[results.columns[2]]].values)"
   ]
  },
  {
   "cell_type": "code",
   "execution_count": null,
   "metadata": {},
   "outputs": [],
   "source": [
    "deltas['log_wage'] = data[test_msk][y_columns].values"
   ]
  },
  {
   "cell_type": "code",
   "execution_count": null,
   "metadata": {},
   "outputs": [],
   "source": [
    "val_data = data[test_msk]\n",
    "val_data['predictions'] = predictions"
   ]
  },
  {
   "cell_type": "code",
   "execution_count": null,
   "metadata": {},
   "outputs": [],
   "source": [
    "bins = np.linspace(0, 12, 12)\n",
    "digitized_wage = np.digitize(data[test_msk][y_columns].values, bins)\n",
    "#digitized_wage = [data[test_msk][y_columns].values[digitized == i].mean() for i in range(1, len(bins))]"
   ]
  },
  {
   "cell_type": "code",
   "execution_count": null,
   "metadata": {},
   "outputs": [],
   "source": [
    "msk = (propensity_scores > 0.05).all(axis = 1).values\n",
    "#msk = (data[test_msk]['VD4016-Log'] > 8).values"
   ]
  },
  {
   "cell_type": "code",
   "execution_count": null,
   "metadata": {},
   "outputs": [],
   "source": [
    "msk.mean()"
   ]
  },
  {
   "cell_type": "code",
   "execution_count": null,
   "metadata": {},
   "outputs": [],
   "source": [
    "for gro, df in data.sample(500000).rename(columns = {y_columns[0]: 'log_wage'}).groupby(['V2007-Bin', 'V2010-Bin'])['log_wage']:\n",
    "    sns.kdeplot(df, label = '-'.join(gro),bw = 0.2, shade = True, cumulative = False)\n",
    "plt.legend()\n",
    "plt.subplots_adjust(-.5,-.5)\n",
    "plt.title('Log-Wage distribution for each group')"
   ]
  },
  {
   "cell_type": "code",
   "execution_count": null,
   "metadata": {},
   "outputs": [],
   "source": [
    "for col in results:\n",
    "    sns.kdeplot(results[col], label = col,bw = 0.2, shade = True)\n",
    "plt.legend()\n",
    "plt.subplots_adjust(-.5,-.5)\n",
    "plt.title('Counterfactul Log-Wage distribution for each group')"
   ]
  },
  {
   "cell_type": "code",
   "execution_count": null,
   "metadata": {},
   "outputs": [],
   "source": []
  },
  {
   "cell_type": "code",
   "execution_count": null,
   "metadata": {},
   "outputs": [],
   "source": [
    "for gro, df in data.sample(100000).groupby(['V2007-Bin'])[y_columns[0]]:\n",
    "    sns.kdeplot(df, label = gro,bw = 0.2, shade = True)\n",
    "plt.legend()\n",
    "plt.subplots_adjust(-.5,-.5)\n",
    "plt.title('Log-Wage distribution for each group')"
   ]
  },
  {
   "cell_type": "code",
   "execution_count": null,
   "metadata": {},
   "outputs": [],
   "source": [
    "for gro, df in data.sample(100000).groupby(['V2010-Bin'])[y_columns[0]]:\n",
    "    sns.kdeplot(df, label = gro, bw = 0.2, shade = True)\n",
    "plt.legend()\n",
    "plt.subplots_adjust(-.5,-.5)\n",
    "plt.title('Log-Wage distribution for each group')"
   ]
  },
  {
   "cell_type": "code",
   "execution_count": null,
   "metadata": {},
   "outputs": [],
   "source": [
    "d = val_data[['predictions']].assign(log_wage = digitized_wage).set_index('log_wage')\n",
    "\n",
    "sns.lineplot(\n",
    "    data=d[msk],\n",
    ")\n",
    "plt.title('Predicted wage ($\\hat{\\mu}_i(X | T  = i)$) by log_wage')\n",
    "plt.plot([5,10],[5,10], ls = '--', color = 'black', label = 'identity')\n",
    "plt.subplots_adjust(-.5, -.5)\n",
    "plt.legend()"
   ]
  },
  {
   "cell_type": "markdown",
   "metadata": {},
   "source": []
  },
  {
   "cell_type": "code",
   "execution_count": null,
   "metadata": {},
   "outputs": [],
   "source": [
    "45.34*16"
   ]
  },
  {
   "cell_type": "code",
   "execution_count": null,
   "metadata": {},
   "outputs": [],
   "source": [
    "d = results.assign(log_wage = digitized_wage).set_index('log_wage')\n",
    "d.columns = ['-'.join(i) for i in d.columns]\n",
    "\n",
    "sns.lineplot(\n",
    "    data=d[msk],\n",
    ")\n",
    "plt.title('counterfactual wage ($\\hat{\\mu}_i(X)$) by log_wage')\n",
    "plt.plot([5,10],[5,10], ls = '--', color = 'black', label = 'identity')\n",
    "plt.subplots_adjust(-.5, -.5)\n",
    "plt.legend()"
   ]
  },
  {
   "cell_type": "code",
   "execution_count": null,
   "metadata": {},
   "outputs": [],
   "source": []
  },
  {
   "cell_type": "code",
   "execution_count": null,
   "metadata": {},
   "outputs": [],
   "source": [
    "d = deltas.assign(log_wage = digitized_wage).set_index('log_wage')\n",
    "d.columns = ['-'.join(i) for i in d.columns]\n",
    "\n",
    "sns.lineplot(\n",
    "    data=d[msk],\n",
    ")\n",
    "plt.title('% of base wage by log_wage')\n",
    "plt.subplots_adjust(-.5, -.5)"
   ]
  },
  {
   "cell_type": "code",
   "execution_count": null,
   "metadata": {},
   "outputs": [],
   "source": [
    "d = deltas.assign(highest_education = data[test_msk]['V3009A'].values).set_index('highest_education').drop(columns = ['log_wage'])\n",
    "d.columns = ['-'.join(i) for i in d.columns]\n",
    "\n",
    "sns.lineplot(\n",
    "    data=d[msk],\n",
    ")\n",
    "plt.title('% of base wage by education')\n",
    "plt.subplots_adjust(-.5, -.5)"
   ]
  },
  {
   "cell_type": "code",
   "execution_count": null,
   "metadata": {},
   "outputs": [],
   "source": [
    "d = results.assign(highest_education = data[test_msk]['V3009A'].values).set_index('highest_education')\n",
    "d.columns = ['-'.join(i) for i in d.columns]\n",
    "\n",
    "sns.lineplot(\n",
    "    data=d[msk],\n",
    ")\n",
    "plt.title('counterfactual wage ($\\hat{\\mu}_i(X)$) by education')\n",
    "plt.subplots_adjust(-.5, -.5)"
   ]
  },
  {
   "cell_type": "code",
   "execution_count": null,
   "metadata": {},
   "outputs": [],
   "source": [
    "binned_age = data[test_msk]['V2009'].values\n",
    "d = deltas.assign(\n",
    "    age = np.where(data[test_msk]['V2009'].values > 75, np.nan, data[test_msk]['V2009'].values)\n",
    ").set_index('age').drop(columns = ['log_wage'], errors = 'ignore')\n",
    "d.columns = ['-'.join(i) for i in d.columns]\n",
    "\n",
    "sns.lineplot(\n",
    "    data=d[msk],\n",
    ")\n",
    "plt.xticks(np.arange(d.index.min(), d.index.max(), 5))\n",
    "plt.title('% of base wage by age')\n",
    "plt.subplots_adjust(-.5, -.5)"
   ]
  },
  {
   "cell_type": "code",
   "execution_count": null,
   "metadata": {},
   "outputs": [],
   "source": [
    "binned_age = data[test_msk]['V2009'].values\n",
    "\n",
    "d = results.assign(\n",
    "    age = np.where(data[test_msk]['V2009'].values > 76, np.nan, data[test_msk]['V2009'].values)\n",
    ").set_index('age').drop(columns = ['log_wage'], errors = 'ignore')\n",
    "\n",
    "d.columns = ['-'.join(i) for i in d.columns]\n",
    "\n",
    "sns.lineplot(\n",
    "    data=d[msk],\n",
    ")\n",
    "plt.xticks(np.arange(d.index.min(), d.index.max(), 5))\n",
    "plt.title('counterfactual wage ($\\hat{\\mu}_i(X)$) by age')\n",
    "plt.subplots_adjust(-.5, -.5)"
   ]
  },
  {
   "cell_type": "code",
   "execution_count": null,
   "metadata": {},
   "outputs": [],
   "source": [
    "d = propensity_scores.assign(log_wage = digitized_wage).set_index('log_wage')\n",
    "d.columns = ['-'.join(i) for i in d.columns]\n",
    "\n",
    "sns.lineplot(\n",
    "    data=d[msk],\n",
    ")\n",
    "plt.title('Propensity scores by log_wage')\n",
    "plt.subplots_adjust(-.5, -.5)"
   ]
  },
  {
   "cell_type": "code",
   "execution_count": null,
   "metadata": {},
   "outputs": [],
   "source": [
    "propensity_scores.apply(lambda x: sns.distplot(x, label = '-'.join(x.name)))\n",
    "plt.legend()\n",
    "plt.title('Propensity scores distribution')\n",
    "\n",
    "plt.subplots_adjust(-.5,-.5)"
   ]
  },
  {
   "cell_type": "code",
   "execution_count": null,
   "metadata": {},
   "outputs": [],
   "source": [
    "biased_difference_in_wage = np.exp(\n",
    "    data[test_msk][msk].groupby(T_columns)[y_columns].mean()\n",
    "    -\n",
    "    data[test_msk][msk].groupby(T_columns)[y_columns].mean().loc[('Masculino', 'Branca ou Amarela')]\n",
    ")"
   ]
  },
  {
   "cell_type": "code",
   "execution_count": null,
   "metadata": {},
   "outputs": [],
   "source": [
    "unbiased_difference_in_wage = pd.DataFrame(deltas[msk].mean())\n",
    "unbiased_difference_in_wage.columns = biased_difference_in_wage.columns"
   ]
  },
  {
   "cell_type": "code",
   "execution_count": null,
   "metadata": {},
   "outputs": [],
   "source": [
    "bias = biased_difference_in_wage - unbiased_difference_in_wage.loc[biased_difference_in_wage.index]\n",
    "\n",
    "bias.columns = bias.columns + ' naive estimation bias'"
   ]
  },
  {
   "cell_type": "code",
   "execution_count": null,
   "metadata": {},
   "outputs": [],
   "source": [
    "unbiased_difference_in_wage.columns = biased_difference_in_wage.columns + ' unbiased'\n",
    "unbiased_difference_in_wage = unbiased_difference_in_wage.drop('log_wage', errors = 'ignore')\n",
    "unbiased_difference_in_wage.index = biased_difference_in_wage.index"
   ]
  },
  {
   "cell_type": "markdown",
   "metadata": {},
   "source": [
    "We can see that the differences in wage are less than the biased one, but still is very significant, if we consider that we are comparing individuals with same attributes, except from race and gender"
   ]
  },
  {
   "cell_type": "code",
   "execution_count": null,
   "metadata": {},
   "outputs": [],
   "source": [
    "d = pd.concat([biased_difference_in_wage, unbiased_difference_in_wage, bias], axis = 1).rename(\n",
    "    columns = {'VD4016-Log unbiased': '% wage - unbiased', 'VD4016-Log naive estimation bias': '% bias', 'VD4016-Log': '% wage'}\n",
    ").round(3)\n",
    "\n",
    "d.index.names = ['Gender','Race']\n",
    "d"
   ]
  },
  {
   "cell_type": "code",
   "execution_count": null,
   "metadata": {},
   "outputs": [],
   "source": [
    "deltas[msk].iloc[:,[0,1,3]].apply(lambda x: sns.distplot(x, label = '-'.join(x.name)))\n",
    "plt.legend()\n",
    "plt.subplots_adjust(-1,-1)"
   ]
  },
  {
   "cell_type": "markdown",
   "metadata": {},
   "source": [
    "## Analysis"
   ]
  },
  {
   "cell_type": "code",
   "execution_count": null,
   "metadata": {},
   "outputs": [],
   "source": [
    "import geopandas as gpd"
   ]
  },
  {
   "cell_type": "code",
   "execution_count": null,
   "metadata": {},
   "outputs": [],
   "source": [
    "brazil_map = gpd.read_file('../data/bcim_2016_21_11_2018.gpkg', layer = 'lim_unidade_federacao_a')"
   ]
  },
  {
   "cell_type": "code",
   "execution_count": null,
   "metadata": {},
   "outputs": [],
   "source": [
    "d = (\n",
    "    pd.DataFrame(deltas[msk]).drop(columns= ['log_wage']).groupby(data[test_msk].reset_index()['UF'][msk]).mean()\n",
    "    .merge(\n",
    "        var_dict.loc['UF'][['Categorias Tipo ', 'Categorias Descrição']].set_index('Categorias Tipo '),\n",
    "        left_index = True, right_index = True,\n",
    "        how = 'left'\n",
    "    )\n",
    "    .set_index('Categorias Descrição')\n",
    ")\n",
    "\n",
    "sns.heatmap(\n",
    "    d.sort_values(by = d.columns[1]),\n",
    "    yticklabels = d.index,\n",
    "    xticklabels = ['-'.join(i) for i in d.columns],\n",
    "    annot = True\n",
    ")\n",
    "\n",
    "plt.subplots_adjust(-1,-1)\n",
    "plt.xticks(rotation=15)\n",
    "plt.title('Estimated %-base wage per state of federation')"
   ]
  },
  {
   "cell_type": "code",
   "execution_count": null,
   "metadata": {},
   "outputs": [],
   "source": [
    "brazil_map = brazil_map.merge(d, right_index = True, left_on = 'nome', how = 'left')"
   ]
  },
  {
   "cell_type": "code",
   "execution_count": null,
   "metadata": {},
   "outputs": [],
   "source": [
    "brazil_map.columns[-3]"
   ]
  },
  {
   "cell_type": "code",
   "execution_count": null,
   "metadata": {},
   "outputs": [],
   "source": [
    "brazil_map.plot(\n",
    "    column = brazil_map.columns[-4],\n",
    "    cmap = 'rocket',\n",
    "    legend = True,\n",
    "    figsize = (16,10),\n",
    "    edgecolor = 'black'\n",
    ")\n",
    "plt.title(f'wage gap for {brazil_map.columns[-4]}')"
   ]
  },
  {
   "cell_type": "code",
   "execution_count": null,
   "metadata": {},
   "outputs": [],
   "source": [
    "brazil_map.plot(\n",
    "    column = brazil_map.columns[-1],\n",
    "    cmap = 'rocket',\n",
    "    legend = True,\n",
    "    figsize = (16,10),\n",
    "    edgecolor = 'black'\n",
    ")\n",
    "plt.title(f'wage gap for {brazil_map.columns[-1]}')"
   ]
  },
  {
   "cell_type": "code",
   "execution_count": null,
   "metadata": {},
   "outputs": [],
   "source": [
    "brazil_map.plot(\n",
    "    column = brazil_map.columns[-3],\n",
    "    cmap = 'rocket',\n",
    "    legend = True,\n",
    "    figsize = (16,10),\n",
    "    edgecolor = 'black'\n",
    ")\n",
    "plt.title(f'wage gap for {brazil_map.columns[-3]}')"
   ]
  },
  {
   "cell_type": "code",
   "execution_count": null,
   "metadata": {},
   "outputs": [],
   "source": [
    "idh_data = pd.read_csv('../data/data_idh_atlas_brasil.csv', sep = ';')\n",
    "\n",
    "idh_metric = 'Posição IDHM Renda'\n",
    "d = (\n",
    "    pd.DataFrame(deltas).drop(columns= ['log_wage']).assign(UF = data[test_msk]['UF'])[msk].set_index('UF')\n",
    "    .merge(\n",
    "        var_dict.loc['UF'][['Categorias Tipo ', 'Categorias Descrição']].set_index('Categorias Tipo '),\n",
    "        left_index = True, right_index = True,\n",
    "        how = 'left'\n",
    "    )\n",
    "    .merge(\n",
    "        idh_data[['Territorialidade',idh_metric]], right_on = 'Territorialidade', left_on = 'Categorias Descrição'\n",
    "    )\n",
    "    .set_index('Categorias Descrição')\n",
    ")"
   ]
  },
  {
   "cell_type": "code",
   "execution_count": null,
   "metadata": {},
   "outputs": [],
   "source": [
    "d = d.set_index(idh_metric).drop(columns = ['Territorialidade'])"
   ]
  },
  {
   "cell_type": "code",
   "execution_count": null,
   "metadata": {},
   "outputs": [],
   "source": [
    "sns.lineplot(\n",
    "    data = d\n",
    ")\n",
    "plt.subplots_adjust(-1,-1)"
   ]
  },
  {
   "cell_type": "code",
   "execution_count": null,
   "metadata": {},
   "outputs": [],
   "source": [
    "d = pd.DataFrame(deltas[msk]).drop(columns= ['log_wage']).groupby(data[test_msk].reset_index()['V4010-Sub'][msk]).median()\n",
    "    \n",
    "sns.heatmap(\n",
    "    d,\n",
    "    yticklabels = d.index,\n",
    "    xticklabels = ['\\n'.join(i) for i in d.columns],\n",
    "    annot = True\n",
    ")\n",
    "\n",
    "plt.subplots_adjust(0,-5)\n",
    "plt.xticks(rotation=30)\n",
    "plt.title('Estimated %-base wage per job role')"
   ]
  },
  {
   "cell_type": "code",
   "execution_count": null,
   "metadata": {},
   "outputs": [],
   "source": [
    "pd.read_excel(r'..\\data\\Estrutura_Ocupacao_COD.xls').fillna(method = 'ffill').query('`Subgrupo` == 711')"
   ]
  },
  {
   "cell_type": "code",
   "execution_count": null,
   "metadata": {},
   "outputs": [],
   "source": []
  },
  {
   "cell_type": "code",
   "execution_count": null,
   "metadata": {},
   "outputs": [],
   "source": [
    "d = pd.DataFrame(deltas[msk]).drop(columns= ['log_wage']).groupby(data[test_msk].reset_index()['V4013-Div'][msk].astype(str)).median()\n",
    "    \n",
    "sns.heatmap(\n",
    "    d,\n",
    "    yticklabels = d.index,\n",
    "    xticklabels = ['\\n'.join(i) for i in d.columns],\n",
    "    annot = True\n",
    ")\n",
    "\n",
    "plt.subplots_adjust(-.2,-3)\n",
    "plt.xticks(rotation=30)\n",
    "plt.title('Estimated %-base wage per Job Sector')"
   ]
  },
  {
   "cell_type": "code",
   "execution_count": null,
   "metadata": {},
   "outputs": [],
   "source": [
    "load_cnae_codes().query('`V4013-Div` == 39')"
   ]
  },
  {
   "cell_type": "code",
   "execution_count": null,
   "metadata": {},
   "outputs": [],
   "source": [
    "var_dict[var_dict['Quesito Descrição'].str.contains('carteira')]"
   ]
  },
  {
   "cell_type": "code",
   "execution_count": null,
   "metadata": {},
   "outputs": [],
   "source": [
    "var_dict.loc['V4029']"
   ]
  },
  {
   "cell_type": "code",
   "execution_count": null,
   "metadata": {},
   "outputs": [],
   "source": [
    "d = pd.DataFrame(deltas[msk]).drop(columns= ['log_wage']).groupby(data[test_msk].reset_index()['V4029'][msk].astype(str)).median()\n",
    "    \n",
    "sns.heatmap(\n",
    "    d,\n",
    "    yticklabels = d.index,\n",
    "    xticklabels = ['\\n'.join(i) for i in d.columns],\n",
    "    annot = True\n",
    ")\n",
    "\n",
    "plt.subplots_adjust(-.2,-3)\n",
    "plt.xticks(rotation=30)\n",
    "plt.title('Estimated %-base wage per Job Sector')"
   ]
  },
  {
   "cell_type": "code",
   "execution_count": null,
   "metadata": {},
   "outputs": [],
   "source": [
    "#permutation importance of deltas\n",
    "var_dict[var_dict['Categorias Descrição'].str.contains('filh').fillna(False)]"
   ]
  },
  {
   "cell_type": "code",
   "execution_count": null,
   "metadata": {},
   "outputs": [],
   "source": []
  },
  {
   "cell_type": "code",
   "execution_count": null,
   "metadata": {},
   "outputs": [],
   "source": []
  }
 ],
 "metadata": {
  "kernelspec": {
   "display_name": "MO444env",
   "language": "python",
   "name": "mo444env"
  },
  "language_info": {
   "codemirror_mode": {
    "name": "ipython",
    "version": 3
   },
   "file_extension": ".py",
   "mimetype": "text/x-python",
   "name": "python",
   "nbconvert_exporter": "python",
   "pygments_lexer": "ipython3",
   "version": "3.9.5"
  },
  "latex_envs": {
   "LaTeX_envs_menu_present": true,
   "autoclose": false,
   "autocomplete": true,
   "bibliofile": "biblio.bib",
   "cite_by": "apalike",
   "current_citInitial": 1,
   "eqLabelWithNumbers": true,
   "eqNumInitial": 1,
   "hotkeys": {
    "equation": "Ctrl-E",
    "itemize": "Ctrl-I"
   },
   "labels_anchors": false,
   "latex_user_defs": false,
   "report_style_numbering": false,
   "user_envs_cfg": false
  },
  "toc": {
   "base_numbering": 1,
   "nav_menu": {},
   "number_sections": true,
   "sideBar": true,
   "skip_h1_title": false,
   "title_cell": "Table of Contents",
   "title_sidebar": "Contents",
   "toc_cell": false,
   "toc_position": {},
   "toc_section_display": true,
   "toc_window_display": false
  },
  "toc-showtags": true
 },
 "nbformat": 4,
 "nbformat_minor": 4
}
