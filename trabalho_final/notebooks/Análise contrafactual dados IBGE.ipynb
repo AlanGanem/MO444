{
 "cells": [
  {
   "cell_type": "code",
   "execution_count": 1,
   "metadata": {},
   "outputs": [],
   "source": [
    "import pnadc #to install, run pip install git+https://github.com/AlanGanem/pnadc\n",
    "from tqdm import tqdm\n",
    "import dask.dataframe as dd\n",
    "from dask.diagnostics import ProgressBar\n",
    "import numpy as np\n",
    "import seaborn as sns\n",
    "import matplotlib.pyplot as plt\n",
    "from pathlib import Path\n",
    "import pandas as pd\n",
    "\n",
    "%matplotlib inline"
   ]
  },
  {
   "cell_type": "code",
   "execution_count": 2,
   "metadata": {},
   "outputs": [],
   "source": [
    "paths_2020 = [*Path('../data/').glob('*2020.csv')]"
   ]
  },
  {
   "cell_type": "code",
   "execution_count": 3,
   "metadata": {},
   "outputs": [],
   "source": [
    "#download if needed\n",
    "if not paths_2020:\n",
    "    pnadc.get_all([2020], path = 'pnadpy/', protocol = 'https')\n",
    "    paths_2020 = [*Path('../data/').glob('*2020.csv')]"
   ]
  },
  {
   "cell_type": "code",
   "execution_count": 4,
   "metadata": {},
   "outputs": [],
   "source": [
    "def convert_int(df, dtype = int, nan_fill = -1, valid_range = (0,100)):\n",
    "    '''\n",
    "    checks the columns that are composed of only integers, if so, cast to dtype (defaults to int, but could be also str or float)\n",
    "    '''\n",
    "    if df.__class__ == dd.DataFrame:\n",
    "        return df.map_partitions(convert_int)\n",
    "    \n",
    "    for col in df.columns:\n",
    "        if (df[col].dropna() == df[col].dropna().values.astype(int)).all():\n",
    "            if not valid_range is None:\n",
    "                if all(df[col].between(*valid_range)):\n",
    "                    df[col] = df[col].fillna(nan_fill).astype(dtype)\n",
    "                    \n",
    "                    if dtype in ['str',str]:\n",
    "                        df[col] = df[col].str.replace('.0', '')\n",
    "            else:\n",
    "                df[col] = df[col].fillna(nan_fill).astype(dtype)\n",
    "                if dtype in ['str',str]:\n",
    "                    df[col] = df[col].str.replace('.0', '')\n",
    "            \n",
    "            \n",
    "                                                       \n",
    "    return df\n",
    "\n",
    "def rename_variables_pnadc(df, pnadc_dictionary_path):    \n",
    "    return\n",
    "\n",
    "def load_pnadc_dict_dataframe(dict_path_excel = r'..\\data\\dicionario_PNADC_microdados_trimestral.xls'):\n",
    "    dic = pd.read_excel(dict_path_excel)\n",
    "    dic = dic.fillna(method = 'ffill').set_index(['Código da variável'])\n",
    "    return dic \n",
    "\n",
    "def load_cnae_codes(cnaes_path = r'..\\data\\Estrutura_Atividade_CNAE_Domiciliar_2_0.xls'):\n",
    "    cnaes = pd.read_excel(cnaes_path)\n",
    "    cnaes = cnaes.fillna(method = 'ffill')\n",
    "    \n",
    "    def _custom_dedup(df):\n",
    "        d = {}\n",
    "        d['Divisão'] = df['Divisão'].iloc[0]\n",
    "        d['Seção'] = df['Seção'].iloc[0]\n",
    "        d['Denominação'] = df['Denominação'].values.tolist()\n",
    "        return pd.Series(d)\n",
    "    \n",
    "    cnaes = cnaes.groupby('Classe').apply(_custom_dedup).reset_index()   \n",
    "    cnaes = cnaes.rename(\n",
    "        columns = {\n",
    "            'Seção':'V4013-Sec',\n",
    "            'Divisão' : 'V4013-Div',\n",
    "            'Classe' : 'V4013',\n",
    "            'Denominação':'V4013-Name'             \n",
    "        }\n",
    "    )\n",
    "    \n",
    "\n",
    "    return cnaes\n",
    "\n",
    "def create_parquet_pnadc(path, saving_path = 'PNADC/pnadc_compiled.parquet'):\n",
    "    with ProgressBar():\n",
    "        data = dd.read_csv(path)\n",
    "        data = data.repartition('100MB').drop_duplicates()\n",
    "        data.to_parquet(saving_path)\n",
    "    return saving_path"
   ]
  },
  {
   "cell_type": "markdown",
   "metadata": {},
   "source": [
    "# Load Data and vars dict"
   ]
  },
  {
   "cell_type": "code",
   "execution_count": 5,
   "metadata": {},
   "outputs": [],
   "source": [
    "var_dict = load_pnadc_dict_dataframe()"
   ]
  },
  {
   "cell_type": "code",
   "execution_count": 6,
   "metadata": {},
   "outputs": [
    {
     "data": {
      "text/html": [
       "<div>\n",
       "<style scoped>\n",
       "    .dataframe tbody tr th:only-of-type {\n",
       "        vertical-align: middle;\n",
       "    }\n",
       "\n",
       "    .dataframe tbody tr th {\n",
       "        vertical-align: top;\n",
       "    }\n",
       "\n",
       "    .dataframe thead th {\n",
       "        text-align: right;\n",
       "    }\n",
       "</style>\n",
       "<table border=\"1\" class=\"dataframe\">\n",
       "  <thead>\n",
       "    <tr style=\"text-align: right;\">\n",
       "      <th></th>\n",
       "      <th>Posição inicial</th>\n",
       "      <th>Tamanho</th>\n",
       "      <th>quesito nº</th>\n",
       "      <th>Quesito Descrição</th>\n",
       "      <th>Categorias Tipo</th>\n",
       "      <th>Categorias Descrição</th>\n",
       "      <th>Período</th>\n",
       "      <th>Parte</th>\n",
       "    </tr>\n",
       "    <tr>\n",
       "      <th>Código da variável</th>\n",
       "      <th></th>\n",
       "      <th></th>\n",
       "      <th></th>\n",
       "      <th></th>\n",
       "      <th></th>\n",
       "      <th></th>\n",
       "      <th></th>\n",
       "      <th></th>\n",
       "    </tr>\n",
       "  </thead>\n",
       "  <tbody>\n",
       "    <tr>\n",
       "      <th>UF</th>\n",
       "      <td>6.0</td>\n",
       "      <td>2.0</td>\n",
       "      <td>NaN</td>\n",
       "      <td>Unidade da Federação</td>\n",
       "      <td>11</td>\n",
       "      <td>Rondônia</td>\n",
       "      <td>1º tri/2012 - atual</td>\n",
       "      <td>Parte 1 - Identificação e Controle</td>\n",
       "    </tr>\n",
       "    <tr>\n",
       "      <th>UF</th>\n",
       "      <td>6.0</td>\n",
       "      <td>2.0</td>\n",
       "      <td>NaN</td>\n",
       "      <td>Unidade da Federação</td>\n",
       "      <td>12</td>\n",
       "      <td>Acre</td>\n",
       "      <td>1º tri/2012 - atual</td>\n",
       "      <td>Parte 1 - Identificação e Controle</td>\n",
       "    </tr>\n",
       "    <tr>\n",
       "      <th>UF</th>\n",
       "      <td>6.0</td>\n",
       "      <td>2.0</td>\n",
       "      <td>NaN</td>\n",
       "      <td>Unidade da Federação</td>\n",
       "      <td>13</td>\n",
       "      <td>Amazonas</td>\n",
       "      <td>1º tri/2012 - atual</td>\n",
       "      <td>Parte 1 - Identificação e Controle</td>\n",
       "    </tr>\n",
       "    <tr>\n",
       "      <th>UF</th>\n",
       "      <td>6.0</td>\n",
       "      <td>2.0</td>\n",
       "      <td>NaN</td>\n",
       "      <td>Unidade da Federação</td>\n",
       "      <td>14</td>\n",
       "      <td>Roraima</td>\n",
       "      <td>1º tri/2012 - atual</td>\n",
       "      <td>Parte 1 - Identificação e Controle</td>\n",
       "    </tr>\n",
       "    <tr>\n",
       "      <th>UF</th>\n",
       "      <td>6.0</td>\n",
       "      <td>2.0</td>\n",
       "      <td>NaN</td>\n",
       "      <td>Unidade da Federação</td>\n",
       "      <td>15</td>\n",
       "      <td>Pará</td>\n",
       "      <td>1º tri/2012 - atual</td>\n",
       "      <td>Parte 1 - Identificação e Controle</td>\n",
       "    </tr>\n",
       "    <tr>\n",
       "      <th>UF</th>\n",
       "      <td>6.0</td>\n",
       "      <td>2.0</td>\n",
       "      <td>NaN</td>\n",
       "      <td>Unidade da Federação</td>\n",
       "      <td>16</td>\n",
       "      <td>Amapá</td>\n",
       "      <td>1º tri/2012 - atual</td>\n",
       "      <td>Parte 1 - Identificação e Controle</td>\n",
       "    </tr>\n",
       "    <tr>\n",
       "      <th>UF</th>\n",
       "      <td>6.0</td>\n",
       "      <td>2.0</td>\n",
       "      <td>NaN</td>\n",
       "      <td>Unidade da Federação</td>\n",
       "      <td>17</td>\n",
       "      <td>Tocantins</td>\n",
       "      <td>1º tri/2012 - atual</td>\n",
       "      <td>Parte 1 - Identificação e Controle</td>\n",
       "    </tr>\n",
       "    <tr>\n",
       "      <th>UF</th>\n",
       "      <td>6.0</td>\n",
       "      <td>2.0</td>\n",
       "      <td>NaN</td>\n",
       "      <td>Unidade da Federação</td>\n",
       "      <td>21</td>\n",
       "      <td>Maranhão</td>\n",
       "      <td>1º tri/2012 - atual</td>\n",
       "      <td>Parte 1 - Identificação e Controle</td>\n",
       "    </tr>\n",
       "    <tr>\n",
       "      <th>UF</th>\n",
       "      <td>6.0</td>\n",
       "      <td>2.0</td>\n",
       "      <td>NaN</td>\n",
       "      <td>Unidade da Federação</td>\n",
       "      <td>22</td>\n",
       "      <td>Piauí</td>\n",
       "      <td>1º tri/2012 - atual</td>\n",
       "      <td>Parte 1 - Identificação e Controle</td>\n",
       "    </tr>\n",
       "    <tr>\n",
       "      <th>UF</th>\n",
       "      <td>6.0</td>\n",
       "      <td>2.0</td>\n",
       "      <td>NaN</td>\n",
       "      <td>Unidade da Federação</td>\n",
       "      <td>23</td>\n",
       "      <td>Ceará</td>\n",
       "      <td>1º tri/2012 - atual</td>\n",
       "      <td>Parte 1 - Identificação e Controle</td>\n",
       "    </tr>\n",
       "    <tr>\n",
       "      <th>UF</th>\n",
       "      <td>6.0</td>\n",
       "      <td>2.0</td>\n",
       "      <td>NaN</td>\n",
       "      <td>Unidade da Federação</td>\n",
       "      <td>24</td>\n",
       "      <td>Rio Grande do Norte</td>\n",
       "      <td>1º tri/2012 - atual</td>\n",
       "      <td>Parte 1 - Identificação e Controle</td>\n",
       "    </tr>\n",
       "    <tr>\n",
       "      <th>UF</th>\n",
       "      <td>6.0</td>\n",
       "      <td>2.0</td>\n",
       "      <td>NaN</td>\n",
       "      <td>Unidade da Federação</td>\n",
       "      <td>25</td>\n",
       "      <td>Paraíba</td>\n",
       "      <td>1º tri/2012 - atual</td>\n",
       "      <td>Parte 1 - Identificação e Controle</td>\n",
       "    </tr>\n",
       "    <tr>\n",
       "      <th>UF</th>\n",
       "      <td>6.0</td>\n",
       "      <td>2.0</td>\n",
       "      <td>NaN</td>\n",
       "      <td>Unidade da Federação</td>\n",
       "      <td>26</td>\n",
       "      <td>Pernambuco</td>\n",
       "      <td>1º tri/2012 - atual</td>\n",
       "      <td>Parte 1 - Identificação e Controle</td>\n",
       "    </tr>\n",
       "    <tr>\n",
       "      <th>UF</th>\n",
       "      <td>6.0</td>\n",
       "      <td>2.0</td>\n",
       "      <td>NaN</td>\n",
       "      <td>Unidade da Federação</td>\n",
       "      <td>27</td>\n",
       "      <td>Alagoas</td>\n",
       "      <td>1º tri/2012 - atual</td>\n",
       "      <td>Parte 1 - Identificação e Controle</td>\n",
       "    </tr>\n",
       "    <tr>\n",
       "      <th>UF</th>\n",
       "      <td>6.0</td>\n",
       "      <td>2.0</td>\n",
       "      <td>NaN</td>\n",
       "      <td>Unidade da Federação</td>\n",
       "      <td>28</td>\n",
       "      <td>Sergipe</td>\n",
       "      <td>1º tri/2012 - atual</td>\n",
       "      <td>Parte 1 - Identificação e Controle</td>\n",
       "    </tr>\n",
       "    <tr>\n",
       "      <th>UF</th>\n",
       "      <td>6.0</td>\n",
       "      <td>2.0</td>\n",
       "      <td>NaN</td>\n",
       "      <td>Unidade da Federação</td>\n",
       "      <td>29</td>\n",
       "      <td>Bahia</td>\n",
       "      <td>1º tri/2012 - atual</td>\n",
       "      <td>Parte 1 - Identificação e Controle</td>\n",
       "    </tr>\n",
       "    <tr>\n",
       "      <th>UF</th>\n",
       "      <td>6.0</td>\n",
       "      <td>2.0</td>\n",
       "      <td>NaN</td>\n",
       "      <td>Unidade da Federação</td>\n",
       "      <td>31</td>\n",
       "      <td>Minas Gerais</td>\n",
       "      <td>1º tri/2012 - atual</td>\n",
       "      <td>Parte 1 - Identificação e Controle</td>\n",
       "    </tr>\n",
       "    <tr>\n",
       "      <th>UF</th>\n",
       "      <td>6.0</td>\n",
       "      <td>2.0</td>\n",
       "      <td>NaN</td>\n",
       "      <td>Unidade da Federação</td>\n",
       "      <td>32</td>\n",
       "      <td>Espírito Santo</td>\n",
       "      <td>1º tri/2012 - atual</td>\n",
       "      <td>Parte 1 - Identificação e Controle</td>\n",
       "    </tr>\n",
       "    <tr>\n",
       "      <th>UF</th>\n",
       "      <td>6.0</td>\n",
       "      <td>2.0</td>\n",
       "      <td>NaN</td>\n",
       "      <td>Unidade da Federação</td>\n",
       "      <td>33</td>\n",
       "      <td>Rio de Janeiro</td>\n",
       "      <td>1º tri/2012 - atual</td>\n",
       "      <td>Parte 1 - Identificação e Controle</td>\n",
       "    </tr>\n",
       "    <tr>\n",
       "      <th>UF</th>\n",
       "      <td>6.0</td>\n",
       "      <td>2.0</td>\n",
       "      <td>NaN</td>\n",
       "      <td>Unidade da Federação</td>\n",
       "      <td>35</td>\n",
       "      <td>São Paulo</td>\n",
       "      <td>1º tri/2012 - atual</td>\n",
       "      <td>Parte 1 - Identificação e Controle</td>\n",
       "    </tr>\n",
       "    <tr>\n",
       "      <th>UF</th>\n",
       "      <td>6.0</td>\n",
       "      <td>2.0</td>\n",
       "      <td>NaN</td>\n",
       "      <td>Unidade da Federação</td>\n",
       "      <td>41</td>\n",
       "      <td>Paraná</td>\n",
       "      <td>1º tri/2012 - atual</td>\n",
       "      <td>Parte 1 - Identificação e Controle</td>\n",
       "    </tr>\n",
       "    <tr>\n",
       "      <th>UF</th>\n",
       "      <td>6.0</td>\n",
       "      <td>2.0</td>\n",
       "      <td>NaN</td>\n",
       "      <td>Unidade da Federação</td>\n",
       "      <td>42</td>\n",
       "      <td>Santa Catarina</td>\n",
       "      <td>1º tri/2012 - atual</td>\n",
       "      <td>Parte 1 - Identificação e Controle</td>\n",
       "    </tr>\n",
       "    <tr>\n",
       "      <th>UF</th>\n",
       "      <td>6.0</td>\n",
       "      <td>2.0</td>\n",
       "      <td>NaN</td>\n",
       "      <td>Unidade da Federação</td>\n",
       "      <td>43</td>\n",
       "      <td>Rio Grande do Sul</td>\n",
       "      <td>1º tri/2012 - atual</td>\n",
       "      <td>Parte 1 - Identificação e Controle</td>\n",
       "    </tr>\n",
       "    <tr>\n",
       "      <th>UF</th>\n",
       "      <td>6.0</td>\n",
       "      <td>2.0</td>\n",
       "      <td>NaN</td>\n",
       "      <td>Unidade da Federação</td>\n",
       "      <td>50</td>\n",
       "      <td>Mato Grosso do Sul</td>\n",
       "      <td>1º tri/2012 - atual</td>\n",
       "      <td>Parte 1 - Identificação e Controle</td>\n",
       "    </tr>\n",
       "    <tr>\n",
       "      <th>UF</th>\n",
       "      <td>6.0</td>\n",
       "      <td>2.0</td>\n",
       "      <td>NaN</td>\n",
       "      <td>Unidade da Federação</td>\n",
       "      <td>51</td>\n",
       "      <td>Mato Grosso</td>\n",
       "      <td>1º tri/2012 - atual</td>\n",
       "      <td>Parte 1 - Identificação e Controle</td>\n",
       "    </tr>\n",
       "    <tr>\n",
       "      <th>UF</th>\n",
       "      <td>6.0</td>\n",
       "      <td>2.0</td>\n",
       "      <td>NaN</td>\n",
       "      <td>Unidade da Federação</td>\n",
       "      <td>52</td>\n",
       "      <td>Goiás</td>\n",
       "      <td>1º tri/2012 - atual</td>\n",
       "      <td>Parte 1 - Identificação e Controle</td>\n",
       "    </tr>\n",
       "    <tr>\n",
       "      <th>UF</th>\n",
       "      <td>6.0</td>\n",
       "      <td>2.0</td>\n",
       "      <td>NaN</td>\n",
       "      <td>Unidade da Federação</td>\n",
       "      <td>53</td>\n",
       "      <td>Distrito Federal</td>\n",
       "      <td>1º tri/2012 - atual</td>\n",
       "      <td>Parte 1 - Identificação e Controle</td>\n",
       "    </tr>\n",
       "  </tbody>\n",
       "</table>\n",
       "</div>"
      ],
      "text/plain": [
       "                    Posição inicial   Tamanho quesito nº  \\\n",
       "Código da variável                                         \n",
       "UF                               6.0      2.0        NaN   \n",
       "UF                               6.0      2.0        NaN   \n",
       "UF                               6.0      2.0        NaN   \n",
       "UF                               6.0      2.0        NaN   \n",
       "UF                               6.0      2.0        NaN   \n",
       "UF                               6.0      2.0        NaN   \n",
       "UF                               6.0      2.0        NaN   \n",
       "UF                               6.0      2.0        NaN   \n",
       "UF                               6.0      2.0        NaN   \n",
       "UF                               6.0      2.0        NaN   \n",
       "UF                               6.0      2.0        NaN   \n",
       "UF                               6.0      2.0        NaN   \n",
       "UF                               6.0      2.0        NaN   \n",
       "UF                               6.0      2.0        NaN   \n",
       "UF                               6.0      2.0        NaN   \n",
       "UF                               6.0      2.0        NaN   \n",
       "UF                               6.0      2.0        NaN   \n",
       "UF                               6.0      2.0        NaN   \n",
       "UF                               6.0      2.0        NaN   \n",
       "UF                               6.0      2.0        NaN   \n",
       "UF                               6.0      2.0        NaN   \n",
       "UF                               6.0      2.0        NaN   \n",
       "UF                               6.0      2.0        NaN   \n",
       "UF                               6.0      2.0        NaN   \n",
       "UF                               6.0      2.0        NaN   \n",
       "UF                               6.0      2.0        NaN   \n",
       "UF                               6.0      2.0        NaN   \n",
       "\n",
       "                       Quesito Descrição Categorias Tipo   \\\n",
       "Código da variável                                          \n",
       "UF                  Unidade da Federação               11   \n",
       "UF                  Unidade da Federação               12   \n",
       "UF                  Unidade da Federação               13   \n",
       "UF                  Unidade da Federação               14   \n",
       "UF                  Unidade da Federação               15   \n",
       "UF                  Unidade da Federação               16   \n",
       "UF                  Unidade da Federação               17   \n",
       "UF                  Unidade da Federação               21   \n",
       "UF                  Unidade da Federação               22   \n",
       "UF                  Unidade da Federação               23   \n",
       "UF                  Unidade da Federação               24   \n",
       "UF                  Unidade da Federação               25   \n",
       "UF                  Unidade da Federação               26   \n",
       "UF                  Unidade da Federação               27   \n",
       "UF                  Unidade da Federação               28   \n",
       "UF                  Unidade da Federação               29   \n",
       "UF                  Unidade da Federação               31   \n",
       "UF                  Unidade da Federação               32   \n",
       "UF                  Unidade da Federação               33   \n",
       "UF                  Unidade da Federação               35   \n",
       "UF                  Unidade da Federação               41   \n",
       "UF                  Unidade da Federação               42   \n",
       "UF                  Unidade da Federação               43   \n",
       "UF                  Unidade da Federação               50   \n",
       "UF                  Unidade da Federação               51   \n",
       "UF                  Unidade da Federação               52   \n",
       "UF                  Unidade da Federação               53   \n",
       "\n",
       "                   Categorias Descrição              Período  \\\n",
       "Código da variável                                             \n",
       "UF                             Rondônia  1º tri/2012 - atual   \n",
       "UF                                 Acre  1º tri/2012 - atual   \n",
       "UF                             Amazonas  1º tri/2012 - atual   \n",
       "UF                              Roraima  1º tri/2012 - atual   \n",
       "UF                                 Pará  1º tri/2012 - atual   \n",
       "UF                                Amapá  1º tri/2012 - atual   \n",
       "UF                            Tocantins  1º tri/2012 - atual   \n",
       "UF                             Maranhão  1º tri/2012 - atual   \n",
       "UF                                Piauí  1º tri/2012 - atual   \n",
       "UF                                Ceará  1º tri/2012 - atual   \n",
       "UF                  Rio Grande do Norte  1º tri/2012 - atual   \n",
       "UF                              Paraíba  1º tri/2012 - atual   \n",
       "UF                           Pernambuco  1º tri/2012 - atual   \n",
       "UF                              Alagoas  1º tri/2012 - atual   \n",
       "UF                              Sergipe  1º tri/2012 - atual   \n",
       "UF                                Bahia  1º tri/2012 - atual   \n",
       "UF                         Minas Gerais  1º tri/2012 - atual   \n",
       "UF                       Espírito Santo  1º tri/2012 - atual   \n",
       "UF                       Rio de Janeiro  1º tri/2012 - atual   \n",
       "UF                            São Paulo  1º tri/2012 - atual   \n",
       "UF                               Paraná  1º tri/2012 - atual   \n",
       "UF                       Santa Catarina  1º tri/2012 - atual   \n",
       "UF                    Rio Grande do Sul  1º tri/2012 - atual   \n",
       "UF                   Mato Grosso do Sul  1º tri/2012 - atual   \n",
       "UF                          Mato Grosso  1º tri/2012 - atual   \n",
       "UF                                Goiás  1º tri/2012 - atual   \n",
       "UF                     Distrito Federal  1º tri/2012 - atual   \n",
       "\n",
       "                                                 Parte  \n",
       "Código da variável                                      \n",
       "UF                  Parte 1 - Identificação e Controle  \n",
       "UF                  Parte 1 - Identificação e Controle  \n",
       "UF                  Parte 1 - Identificação e Controle  \n",
       "UF                  Parte 1 - Identificação e Controle  \n",
       "UF                  Parte 1 - Identificação e Controle  \n",
       "UF                  Parte 1 - Identificação e Controle  \n",
       "UF                  Parte 1 - Identificação e Controle  \n",
       "UF                  Parte 1 - Identificação e Controle  \n",
       "UF                  Parte 1 - Identificação e Controle  \n",
       "UF                  Parte 1 - Identificação e Controle  \n",
       "UF                  Parte 1 - Identificação e Controle  \n",
       "UF                  Parte 1 - Identificação e Controle  \n",
       "UF                  Parte 1 - Identificação e Controle  \n",
       "UF                  Parte 1 - Identificação e Controle  \n",
       "UF                  Parte 1 - Identificação e Controle  \n",
       "UF                  Parte 1 - Identificação e Controle  \n",
       "UF                  Parte 1 - Identificação e Controle  \n",
       "UF                  Parte 1 - Identificação e Controle  \n",
       "UF                  Parte 1 - Identificação e Controle  \n",
       "UF                  Parte 1 - Identificação e Controle  \n",
       "UF                  Parte 1 - Identificação e Controle  \n",
       "UF                  Parte 1 - Identificação e Controle  \n",
       "UF                  Parte 1 - Identificação e Controle  \n",
       "UF                  Parte 1 - Identificação e Controle  \n",
       "UF                  Parte 1 - Identificação e Controle  \n",
       "UF                  Parte 1 - Identificação e Controle  \n",
       "UF                  Parte 1 - Identificação e Controle  "
      ]
     },
     "execution_count": 6,
     "metadata": {},
     "output_type": "execute_result"
    }
   ],
   "source": [
    "var_dict.loc['UF']"
   ]
  },
  {
   "cell_type": "code",
   "execution_count": 7,
   "metadata": {},
   "outputs": [],
   "source": [
    "#create_parquet_pnadc(path = 'PNADC/*.csv')\n",
    "data = dd.read_csv(paths_2020)\n",
    "#filters\n",
    "#ref https://rpubs.com/nataliarspires/Tutorial_PNADC_23SINAPE\n",
    "data = data.query('V2009 >= 14 and VD4015 == 1') #maiores de 14 anos e trabalho remunerado"
   ]
  },
  {
   "cell_type": "code",
   "execution_count": 8,
   "metadata": {},
   "outputs": [],
   "source": [
    "data = data.compute() #compute filtered data"
   ]
  },
  {
   "cell_type": "code",
   "execution_count": 9,
   "metadata": {},
   "outputs": [
    {
     "data": {
      "text/plain": [
       "592844"
      ]
     },
     "execution_count": 9,
     "metadata": {},
     "output_type": "execute_result"
    }
   ],
   "source": [
    "data.shape[0]"
   ]
  },
  {
   "cell_type": "code",
   "execution_count": 10,
   "metadata": {},
   "outputs": [],
   "source": [
    "#data = data.astype(str)\n",
    "#data = convert_int(data, dtype = str)\n"
   ]
  },
  {
   "cell_type": "code",
   "execution_count": 11,
   "metadata": {},
   "outputs": [],
   "source": [
    "#var_dict.loc[rendimentos_cols]"
   ]
  },
  {
   "cell_type": "code",
   "execution_count": 12,
   "metadata": {},
   "outputs": [
    {
     "data": {
      "text/html": [
       "<div>\n",
       "<style scoped>\n",
       "    .dataframe tbody tr th:only-of-type {\n",
       "        vertical-align: middle;\n",
       "    }\n",
       "\n",
       "    .dataframe tbody tr th {\n",
       "        vertical-align: top;\n",
       "    }\n",
       "\n",
       "    .dataframe thead th {\n",
       "        text-align: right;\n",
       "    }\n",
       "</style>\n",
       "<table border=\"1\" class=\"dataframe\">\n",
       "  <thead>\n",
       "    <tr style=\"text-align: right;\">\n",
       "      <th></th>\n",
       "      <th>Posição inicial</th>\n",
       "      <th>Tamanho</th>\n",
       "      <th>quesito nº</th>\n",
       "      <th>Quesito Descrição</th>\n",
       "      <th>Categorias Tipo</th>\n",
       "      <th>Categorias Descrição</th>\n",
       "      <th>Período</th>\n",
       "      <th>Parte</th>\n",
       "    </tr>\n",
       "    <tr>\n",
       "      <th>Código da variável</th>\n",
       "      <th></th>\n",
       "      <th></th>\n",
       "      <th></th>\n",
       "      <th></th>\n",
       "      <th></th>\n",
       "      <th></th>\n",
       "      <th></th>\n",
       "      <th></th>\n",
       "    </tr>\n",
       "  </thead>\n",
       "  <tbody>\n",
       "    <tr>\n",
       "      <th>V403312</th>\n",
       "      <td>188.0</td>\n",
       "      <td>8.0</td>\n",
       "      <td>33</td>\n",
       "      <td>Qual era o rendimento bruto/retirada mensal qu...</td>\n",
       "      <td>valor em reais</td>\n",
       "      <td>R$</td>\n",
       "      <td>1º tri/2012 - atual</td>\n",
       "      <td>2 - Pessoas Ocupadas</td>\n",
       "    </tr>\n",
       "    <tr>\n",
       "      <th>V403322</th>\n",
       "      <td>198.0</td>\n",
       "      <td>8.0</td>\n",
       "      <td>33</td>\n",
       "      <td>Qual era o rendimento bruto/retirada mensal qu...</td>\n",
       "      <td>valor em reais</td>\n",
       "      <td>R$</td>\n",
       "      <td>1º tri/2012 - atual</td>\n",
       "      <td>2 - Pessoas Ocupadas</td>\n",
       "    </tr>\n",
       "    <tr>\n",
       "      <th>V403412</th>\n",
       "      <td>211.0</td>\n",
       "      <td>8.0</td>\n",
       "      <td>34</td>\n",
       "      <td>Qual foi o rendimento bruto/retirada que ... r...</td>\n",
       "      <td>valor em reais</td>\n",
       "      <td>R$</td>\n",
       "      <td>1º tri/2012 - atual</td>\n",
       "      <td>2 - Pessoas Ocupadas</td>\n",
       "    </tr>\n",
       "    <tr>\n",
       "      <th>V403422</th>\n",
       "      <td>221.0</td>\n",
       "      <td>8.0</td>\n",
       "      <td>34</td>\n",
       "      <td>Qual foi o rendimento bruto/retirada que ... r...</td>\n",
       "      <td>valor em reais</td>\n",
       "      <td>R$</td>\n",
       "      <td>1º tri/2012 - atual</td>\n",
       "      <td>2 - Pessoas Ocupadas</td>\n",
       "    </tr>\n",
       "    <tr>\n",
       "      <th>V405012</th>\n",
       "      <td>261.0</td>\n",
       "      <td>8.0</td>\n",
       "      <td>50</td>\n",
       "      <td>Valor em dinheiro do rendimento mensal que rec...</td>\n",
       "      <td>valor em reais</td>\n",
       "      <td>R$</td>\n",
       "      <td>1º tri/2012 - atual</td>\n",
       "      <td>2 - Pessoas Ocupadas</td>\n",
       "    </tr>\n",
       "    <tr>\n",
       "      <th>V405022</th>\n",
       "      <td>271.0</td>\n",
       "      <td>8.0</td>\n",
       "      <td>50</td>\n",
       "      <td>Valor estimado dos produtos e mercadorias que ...</td>\n",
       "      <td>valor em reais</td>\n",
       "      <td>R$</td>\n",
       "      <td>1º tri/2012 - atual</td>\n",
       "      <td>2 - Pessoas Ocupadas</td>\n",
       "    </tr>\n",
       "    <tr>\n",
       "      <th>V405112</th>\n",
       "      <td>284.0</td>\n",
       "      <td>8.0</td>\n",
       "      <td>51</td>\n",
       "      <td>Valor em dinheiro do rendimento mensal que rec...</td>\n",
       "      <td>valor em reais</td>\n",
       "      <td>R$</td>\n",
       "      <td>1º tri/2012 - atual</td>\n",
       "      <td>2 - Pessoas Ocupadas</td>\n",
       "    </tr>\n",
       "    <tr>\n",
       "      <th>V405122</th>\n",
       "      <td>294.0</td>\n",
       "      <td>8.0</td>\n",
       "      <td>51</td>\n",
       "      <td>Valor estimado dos produtos e mercadorias que ...</td>\n",
       "      <td>valor em reais</td>\n",
       "      <td>R$</td>\n",
       "      <td>1º tri/2012 - atual</td>\n",
       "      <td>2 - Pessoas Ocupadas</td>\n",
       "    </tr>\n",
       "    <tr>\n",
       "      <th>V405812</th>\n",
       "      <td>312.0</td>\n",
       "      <td>8.0</td>\n",
       "      <td>58</td>\n",
       "      <td>Valor em dinheiro do rendimento mensal que rec...</td>\n",
       "      <td>valor em reais</td>\n",
       "      <td>R$</td>\n",
       "      <td>1º tri/2012 - atual</td>\n",
       "      <td>2 - Pessoas Ocupadas</td>\n",
       "    </tr>\n",
       "    <tr>\n",
       "      <th>V405822</th>\n",
       "      <td>322.0</td>\n",
       "      <td>8.0</td>\n",
       "      <td>58</td>\n",
       "      <td>Valor estimado do produtos e mercadorias que r...</td>\n",
       "      <td>valor em reais</td>\n",
       "      <td>R$</td>\n",
       "      <td>1º tri/2012 - atual</td>\n",
       "      <td>2 - Pessoas Ocupadas</td>\n",
       "    </tr>\n",
       "    <tr>\n",
       "      <th>V405912</th>\n",
       "      <td>336.0</td>\n",
       "      <td>8.0</td>\n",
       "      <td>59</td>\n",
       "      <td>Valor em dinheiro do rendimento mensal que rec...</td>\n",
       "      <td>valor em reais</td>\n",
       "      <td>R$</td>\n",
       "      <td>1º tri/2012 - atual</td>\n",
       "      <td>2 - Pessoas Ocupadas</td>\n",
       "    </tr>\n",
       "    <tr>\n",
       "      <th>V405922</th>\n",
       "      <td>346.0</td>\n",
       "      <td>8.0</td>\n",
       "      <td>59</td>\n",
       "      <td>Valor estimado do produtos e mercadorias que r...</td>\n",
       "      <td>valor em reais</td>\n",
       "      <td>R$</td>\n",
       "      <td>1º tri/2012 - atual</td>\n",
       "      <td>2 - Pessoas Ocupadas</td>\n",
       "    </tr>\n",
       "    <tr>\n",
       "      <th>VD4016</th>\n",
       "      <td>413.0</td>\n",
       "      <td>8.0</td>\n",
       "      <td>82</td>\n",
       "      <td>Rendimento mensal habitual do trabalho princip...</td>\n",
       "      <td>Valor</td>\n",
       "      <td>R$</td>\n",
       "      <td>1º tri/2012 - atual</td>\n",
       "      <td>Variáveis Derivadas</td>\n",
       "    </tr>\n",
       "    <tr>\n",
       "      <th>VD4017</th>\n",
       "      <td>421.0</td>\n",
       "      <td>8.0</td>\n",
       "      <td>82</td>\n",
       "      <td>Rendimento mensal efetivo do trabalho principa...</td>\n",
       "      <td>Valor</td>\n",
       "      <td>R$</td>\n",
       "      <td>1º tri/2012 - atual</td>\n",
       "      <td>Variáveis Derivadas</td>\n",
       "    </tr>\n",
       "    <tr>\n",
       "      <th>VD4019</th>\n",
       "      <td>430.0</td>\n",
       "      <td>8.0</td>\n",
       "      <td>82</td>\n",
       "      <td>Rendimento mensal habitual de todos os trabalh...</td>\n",
       "      <td>Valor</td>\n",
       "      <td>R$</td>\n",
       "      <td>1º tri/2012 - atual</td>\n",
       "      <td>Variáveis Derivadas</td>\n",
       "    </tr>\n",
       "    <tr>\n",
       "      <th>VD4020</th>\n",
       "      <td>438.0</td>\n",
       "      <td>8.0</td>\n",
       "      <td>82</td>\n",
       "      <td>Rendimento mensal efetivo de todos os trabalho...</td>\n",
       "      <td>Valor</td>\n",
       "      <td>R$</td>\n",
       "      <td>1º tri/2012 - atual</td>\n",
       "      <td>Variáveis Derivadas</td>\n",
       "    </tr>\n",
       "  </tbody>\n",
       "</table>\n",
       "</div>"
      ],
      "text/plain": [
       "                    Posição inicial   Tamanho quesito nº  \\\n",
       "Código da variável                                         \n",
       "V403312                        188.0      8.0         33   \n",
       "V403322                        198.0      8.0         33   \n",
       "V403412                        211.0      8.0         34   \n",
       "V403422                        221.0      8.0         34   \n",
       "V405012                        261.0      8.0         50   \n",
       "V405022                        271.0      8.0         50   \n",
       "V405112                        284.0      8.0         51   \n",
       "V405122                        294.0      8.0         51   \n",
       "V405812                        312.0      8.0         58   \n",
       "V405822                        322.0      8.0         58   \n",
       "V405912                        336.0      8.0         59   \n",
       "V405922                        346.0      8.0         59   \n",
       "VD4016                         413.0      8.0         82   \n",
       "VD4017                         421.0      8.0         82   \n",
       "VD4019                         430.0      8.0         82   \n",
       "VD4020                         438.0      8.0         82   \n",
       "\n",
       "                                                    Quesito Descrição  \\\n",
       "Código da variável                                                      \n",
       "V403312             Qual era o rendimento bruto/retirada mensal qu...   \n",
       "V403322             Qual era o rendimento bruto/retirada mensal qu...   \n",
       "V403412             Qual foi o rendimento bruto/retirada que ... r...   \n",
       "V403422             Qual foi o rendimento bruto/retirada que ... r...   \n",
       "V405012             Valor em dinheiro do rendimento mensal que rec...   \n",
       "V405022             Valor estimado dos produtos e mercadorias que ...   \n",
       "V405112             Valor em dinheiro do rendimento mensal que rec...   \n",
       "V405122             Valor estimado dos produtos e mercadorias que ...   \n",
       "V405812             Valor em dinheiro do rendimento mensal que rec...   \n",
       "V405822             Valor estimado do produtos e mercadorias que r...   \n",
       "V405912             Valor em dinheiro do rendimento mensal que rec...   \n",
       "V405922             Valor estimado do produtos e mercadorias que r...   \n",
       "VD4016              Rendimento mensal habitual do trabalho princip...   \n",
       "VD4017              Rendimento mensal efetivo do trabalho principa...   \n",
       "VD4019              Rendimento mensal habitual de todos os trabalh...   \n",
       "VD4020              Rendimento mensal efetivo de todos os trabalho...   \n",
       "\n",
       "                   Categorias Tipo  Categorias Descrição              Período  \\\n",
       "Código da variável                                                              \n",
       "V403312              valor em reais                   R$  1º tri/2012 - atual   \n",
       "V403322              valor em reais                   R$  1º tri/2012 - atual   \n",
       "V403412              valor em reais                   R$  1º tri/2012 - atual   \n",
       "V403422              valor em reais                   R$  1º tri/2012 - atual   \n",
       "V405012              valor em reais                   R$  1º tri/2012 - atual   \n",
       "V405022              valor em reais                   R$  1º tri/2012 - atual   \n",
       "V405112              valor em reais                   R$  1º tri/2012 - atual   \n",
       "V405122              valor em reais                   R$  1º tri/2012 - atual   \n",
       "V405812              valor em reais                   R$  1º tri/2012 - atual   \n",
       "V405822              valor em reais                   R$  1º tri/2012 - atual   \n",
       "V405912              valor em reais                   R$  1º tri/2012 - atual   \n",
       "V405922              valor em reais                   R$  1º tri/2012 - atual   \n",
       "VD4016                        Valor                   R$  1º tri/2012 - atual   \n",
       "VD4017                        Valor                   R$  1º tri/2012 - atual   \n",
       "VD4019                        Valor                   R$  1º tri/2012 - atual   \n",
       "VD4020                        Valor                   R$  1º tri/2012 - atual   \n",
       "\n",
       "                                    Parte  \n",
       "Código da variável                         \n",
       "V403312              2 - Pessoas Ocupadas  \n",
       "V403322              2 - Pessoas Ocupadas  \n",
       "V403412              2 - Pessoas Ocupadas  \n",
       "V403422              2 - Pessoas Ocupadas  \n",
       "V405012              2 - Pessoas Ocupadas  \n",
       "V405022              2 - Pessoas Ocupadas  \n",
       "V405112              2 - Pessoas Ocupadas  \n",
       "V405122              2 - Pessoas Ocupadas  \n",
       "V405812              2 - Pessoas Ocupadas  \n",
       "V405822              2 - Pessoas Ocupadas  \n",
       "V405912              2 - Pessoas Ocupadas  \n",
       "V405922              2 - Pessoas Ocupadas  \n",
       "VD4016                Variáveis Derivadas  \n",
       "VD4017                Variáveis Derivadas  \n",
       "VD4019                Variáveis Derivadas  \n",
       "VD4020                Variáveis Derivadas  "
      ]
     },
     "execution_count": 12,
     "metadata": {},
     "output_type": "execute_result"
    }
   ],
   "source": [
    "var_dict.query('`Categorias Descrição` == \"R$\"')"
   ]
  },
  {
   "cell_type": "code",
   "execution_count": 13,
   "metadata": {},
   "outputs": [],
   "source": [
    "rendimentos_cols = [\n",
    "    'VD4016' \n",
    "]"
   ]
  },
  {
   "cell_type": "code",
   "execution_count": 14,
   "metadata": {},
   "outputs": [],
   "source": [
    "rendimentos = data[rendimentos_cols]"
   ]
  },
  {
   "cell_type": "code",
   "execution_count": 15,
   "metadata": {},
   "outputs": [
    {
     "data": {
      "text/plain": [
       "VD4016    0.0\n",
       "dtype: float64"
      ]
     },
     "execution_count": 15,
     "metadata": {},
     "output_type": "execute_result"
    }
   ],
   "source": [
    "(rendimentos == 0).mean()"
   ]
  },
  {
   "cell_type": "code",
   "execution_count": 16,
   "metadata": {},
   "outputs": [
    {
     "name": "stderr",
     "output_type": "stream",
     "text": [
      "C:\\Users\\User Ambev\\Desktop\\Mestrado\\MO444\\MO444env\\lib\\site-packages\\seaborn\\distributions.py:2619: FutureWarning: `distplot` is a deprecated function and will be removed in a future version. Please adapt your code to use either `displot` (a figure-level function with similar flexibility) or `histplot` (an axes-level function for histograms).\n",
      "  warnings.warn(msg, FutureWarning)\n"
     ]
    },
    {
     "data": {
      "text/plain": [
       "<AxesSubplot:ylabel='Density'>"
      ]
     },
     "execution_count": 16,
     "metadata": {},
     "output_type": "execute_result"
    },
    {
     "data": {
      "image/png": "[encoded data removed]",
      "text/plain": [
       "<Figure size 432x288 with 1 Axes>"
      ]
     },
     "metadata": {
      "needs_background": "light"
     },
     "output_type": "display_data"
    }
   ],
   "source": [
    "sns.distplot(np.log(rendimentos[rendimentos > 0].sample(frac = 0.1)))"
   ]
  },
  {
   "cell_type": "code",
   "execution_count": 17,
   "metadata": {},
   "outputs": [
    {
     "data": {
      "text/html": [
       "<div>\n",
       "<style scoped>\n",
       "    .dataframe tbody tr th:only-of-type {\n",
       "        vertical-align: middle;\n",
       "    }\n",
       "\n",
       "    .dataframe tbody tr th {\n",
       "        vertical-align: top;\n",
       "    }\n",
       "\n",
       "    .dataframe thead th {\n",
       "        text-align: right;\n",
       "    }\n",
       "</style>\n",
       "<table border=\"1\" class=\"dataframe\">\n",
       "  <thead>\n",
       "    <tr style=\"text-align: right;\">\n",
       "      <th></th>\n",
       "      <th>Posição inicial</th>\n",
       "      <th>Tamanho</th>\n",
       "      <th>quesito nº</th>\n",
       "      <th>Quesito Descrição</th>\n",
       "      <th>Categorias Tipo</th>\n",
       "      <th>Categorias Descrição</th>\n",
       "      <th>Período</th>\n",
       "      <th>Parte</th>\n",
       "    </tr>\n",
       "    <tr>\n",
       "      <th>Código da variável</th>\n",
       "      <th></th>\n",
       "      <th></th>\n",
       "      <th></th>\n",
       "      <th></th>\n",
       "      <th></th>\n",
       "      <th></th>\n",
       "      <th></th>\n",
       "      <th></th>\n",
       "    </tr>\n",
       "  </thead>\n",
       "  <tbody>\n",
       "    <tr>\n",
       "      <th>V2010</th>\n",
       "      <td>95.0</td>\n",
       "      <td>1.0</td>\n",
       "      <td>10</td>\n",
       "      <td>Cor ou raça</td>\n",
       "      <td>1</td>\n",
       "      <td>Branca</td>\n",
       "      <td>1º tri/2012 - atual</td>\n",
       "      <td>Parte 2 - Características Gerais dos Moradores</td>\n",
       "    </tr>\n",
       "    <tr>\n",
       "      <th>V2010</th>\n",
       "      <td>95.0</td>\n",
       "      <td>1.0</td>\n",
       "      <td>10</td>\n",
       "      <td>Cor ou raça</td>\n",
       "      <td>2</td>\n",
       "      <td>Preta</td>\n",
       "      <td>1º tri/2012 - atual</td>\n",
       "      <td>Parte 2 - Características Gerais dos Moradores</td>\n",
       "    </tr>\n",
       "    <tr>\n",
       "      <th>V2010</th>\n",
       "      <td>95.0</td>\n",
       "      <td>1.0</td>\n",
       "      <td>10</td>\n",
       "      <td>Cor ou raça</td>\n",
       "      <td>3</td>\n",
       "      <td>Amarela</td>\n",
       "      <td>1º tri/2012 - atual</td>\n",
       "      <td>Parte 2 - Características Gerais dos Moradores</td>\n",
       "    </tr>\n",
       "    <tr>\n",
       "      <th>V2010</th>\n",
       "      <td>95.0</td>\n",
       "      <td>1.0</td>\n",
       "      <td>10</td>\n",
       "      <td>Cor ou raça</td>\n",
       "      <td>4</td>\n",
       "      <td>Parda</td>\n",
       "      <td>1º tri/2012 - atual</td>\n",
       "      <td>Parte 2 - Características Gerais dos Moradores</td>\n",
       "    </tr>\n",
       "    <tr>\n",
       "      <th>V2010</th>\n",
       "      <td>95.0</td>\n",
       "      <td>1.0</td>\n",
       "      <td>10</td>\n",
       "      <td>Cor ou raça</td>\n",
       "      <td>5</td>\n",
       "      <td>Indígena</td>\n",
       "      <td>1º tri/2012 - atual</td>\n",
       "      <td>Parte 2 - Características Gerais dos Moradores</td>\n",
       "    </tr>\n",
       "    <tr>\n",
       "      <th>V2010</th>\n",
       "      <td>95.0</td>\n",
       "      <td>1.0</td>\n",
       "      <td>10</td>\n",
       "      <td>Cor ou raça</td>\n",
       "      <td>9</td>\n",
       "      <td>Ignorado</td>\n",
       "      <td>1º tri/2012 - atual</td>\n",
       "      <td>Parte 2 - Características Gerais dos Moradores</td>\n",
       "    </tr>\n",
       "  </tbody>\n",
       "</table>\n",
       "</div>"
      ],
      "text/plain": [
       "                    Posição inicial   Tamanho quesito nº Quesito Descrição  \\\n",
       "Código da variável                                                           \n",
       "V2010                           95.0      1.0         10       Cor ou raça   \n",
       "V2010                           95.0      1.0         10       Cor ou raça   \n",
       "V2010                           95.0      1.0         10       Cor ou raça   \n",
       "V2010                           95.0      1.0         10       Cor ou raça   \n",
       "V2010                           95.0      1.0         10       Cor ou raça   \n",
       "V2010                           95.0      1.0         10       Cor ou raça   \n",
       "\n",
       "                   Categorias Tipo  Categorias Descrição              Período  \\\n",
       "Código da variável                                                              \n",
       "V2010                             1               Branca  1º tri/2012 - atual   \n",
       "V2010                             2                Preta  1º tri/2012 - atual   \n",
       "V2010                             3              Amarela  1º tri/2012 - atual   \n",
       "V2010                             4               Parda   1º tri/2012 - atual   \n",
       "V2010                             5             Indígena  1º tri/2012 - atual   \n",
       "V2010                             9             Ignorado  1º tri/2012 - atual   \n",
       "\n",
       "                                                             Parte  \n",
       "Código da variável                                                  \n",
       "V2010               Parte 2 - Características Gerais dos Moradores  \n",
       "V2010               Parte 2 - Características Gerais dos Moradores  \n",
       "V2010               Parte 2 - Características Gerais dos Moradores  \n",
       "V2010               Parte 2 - Características Gerais dos Moradores  \n",
       "V2010               Parte 2 - Características Gerais dos Moradores  \n",
       "V2010               Parte 2 - Características Gerais dos Moradores  "
      ]
     },
     "execution_count": 17,
     "metadata": {},
     "output_type": "execute_result"
    }
   ],
   "source": [
    "var_dict.loc['V2010']"
   ]
  },
  {
   "cell_type": "code",
   "execution_count": 18,
   "metadata": {},
   "outputs": [
    {
     "data": {
      "text/plain": [
       "4.0    0.476840\n",
       "1.0    0.424537\n",
       "2.0    0.089572\n",
       "3.0    0.005118\n",
       "5.0    0.003760\n",
       "9.0    0.000174\n",
       "Name: V2010, dtype: float64"
      ]
     },
     "execution_count": 18,
     "metadata": {},
     "output_type": "execute_result"
    }
   ],
   "source": [
    "raca = data['V2010']\n",
    "\n",
    "raca.value_counts(1)"
   ]
  },
  {
   "cell_type": "code",
   "execution_count": 19,
   "metadata": {},
   "outputs": [],
   "source": [
    "raca_binary = data['V2010']\n",
    "sex = data['V2007']"
   ]
  },
  {
   "cell_type": "code",
   "execution_count": 20,
   "metadata": {},
   "outputs": [],
   "source": [
    "sex.loc[sex == 1] = 'Masculino'\n",
    "sex.loc[sex == 2] = 'Feminino'"
   ]
  },
  {
   "cell_type": "code",
   "execution_count": 21,
   "metadata": {},
   "outputs": [
    {
     "name": "stderr",
     "output_type": "stream",
     "text": [
      "C:\\Users\\User Ambev\\Desktop\\Mestrado\\MO444\\MO444env\\lib\\site-packages\\pandas\\core\\indexing.py:1732: SettingWithCopyWarning: \n",
      "A value is trying to be set on a copy of a slice from a DataFrame\n",
      "\n",
      "See the caveats in the documentation: https://pandas.pydata.org/pandas-docs/stable/user_guide/indexing.html#returning-a-view-versus-a-copy\n",
      "  self._setitem_single_block(indexer, value, name)\n"
     ]
    }
   ],
   "source": [
    "raca_binary.loc[raca_binary.isin([9])] = 'Ignorado'\n",
    "raca_binary.loc[raca_binary.isin([1,3])] = 'Branca ou Amarela'\n",
    "raca_binary.loc[raca_binary.isin([2,4,5])] = 'Preta, Parda ou Indígena'"
   ]
  },
  {
   "cell_type": "code",
   "execution_count": 22,
   "metadata": {},
   "outputs": [
    {
     "data": {
      "text/html": [
       "<div>\n",
       "<style scoped>\n",
       "    .dataframe tbody tr th:only-of-type {\n",
       "        vertical-align: middle;\n",
       "    }\n",
       "\n",
       "    .dataframe tbody tr th {\n",
       "        vertical-align: top;\n",
       "    }\n",
       "\n",
       "    .dataframe thead th {\n",
       "        text-align: right;\n",
       "    }\n",
       "</style>\n",
       "<table border=\"1\" class=\"dataframe\">\n",
       "  <thead>\n",
       "    <tr style=\"text-align: right;\">\n",
       "      <th></th>\n",
       "      <th></th>\n",
       "      <th>count</th>\n",
       "      <th>mean</th>\n",
       "      <th>std</th>\n",
       "      <th>min</th>\n",
       "      <th>25%</th>\n",
       "      <th>50%</th>\n",
       "      <th>75%</th>\n",
       "      <th>max</th>\n",
       "    </tr>\n",
       "    <tr>\n",
       "      <th>V2007</th>\n",
       "      <th>V2010</th>\n",
       "      <th></th>\n",
       "      <th></th>\n",
       "      <th></th>\n",
       "      <th></th>\n",
       "      <th></th>\n",
       "      <th></th>\n",
       "      <th></th>\n",
       "      <th></th>\n",
       "    </tr>\n",
       "  </thead>\n",
       "  <tbody>\n",
       "    <tr>\n",
       "      <th rowspan=\"3\" valign=\"top\">Feminino</th>\n",
       "      <th>Branca ou Amarela</th>\n",
       "      <td>110010.0</td>\n",
       "      <td>2434.984347</td>\n",
       "      <td>3191.328347</td>\n",
       "      <td>8.0</td>\n",
       "      <td>1045.0</td>\n",
       "      <td>1500.0</td>\n",
       "      <td>2665.5</td>\n",
       "      <td>100000.0</td>\n",
       "    </tr>\n",
       "    <tr>\n",
       "      <th>Ignorado</th>\n",
       "      <td>44.0</td>\n",
       "      <td>1851.136364</td>\n",
       "      <td>1553.666655</td>\n",
       "      <td>150.0</td>\n",
       "      <td>800.0</td>\n",
       "      <td>1237.5</td>\n",
       "      <td>2275.0</td>\n",
       "      <td>6500.0</td>\n",
       "    </tr>\n",
       "    <tr>\n",
       "      <th>Preta, Parda ou Indígena</th>\n",
       "      <td>133719.0</td>\n",
       "      <td>1495.233953</td>\n",
       "      <td>1776.013659</td>\n",
       "      <td>10.0</td>\n",
       "      <td>700.0</td>\n",
       "      <td>1045.0</td>\n",
       "      <td>1600.0</td>\n",
       "      <td>100000.0</td>\n",
       "    </tr>\n",
       "    <tr>\n",
       "      <th rowspan=\"3\" valign=\"top\">Masculino</th>\n",
       "      <th>Branca ou Amarela</th>\n",
       "      <td>144708.0</td>\n",
       "      <td>3089.524352</td>\n",
       "      <td>4748.443123</td>\n",
       "      <td>10.0</td>\n",
       "      <td>1100.0</td>\n",
       "      <td>1885.0</td>\n",
       "      <td>3000.0</td>\n",
       "      <td>250000.0</td>\n",
       "    </tr>\n",
       "    <tr>\n",
       "      <th>Ignorado</th>\n",
       "      <td>59.0</td>\n",
       "      <td>5734.915254</td>\n",
       "      <td>13741.702998</td>\n",
       "      <td>400.0</td>\n",
       "      <td>1045.0</td>\n",
       "      <td>1500.0</td>\n",
       "      <td>3000.0</td>\n",
       "      <td>60000.0</td>\n",
       "    </tr>\n",
       "    <tr>\n",
       "      <th>Preta, Parda ou Indígena</th>\n",
       "      <td>204304.0</td>\n",
       "      <td>1783.314262</td>\n",
       "      <td>2312.968669</td>\n",
       "      <td>4.0</td>\n",
       "      <td>900.0</td>\n",
       "      <td>1200.0</td>\n",
       "      <td>2000.0</td>\n",
       "      <td>100000.0</td>\n",
       "    </tr>\n",
       "  </tbody>\n",
       "</table>\n",
       "</div>"
      ],
      "text/plain": [
       "                                       count         mean           std  \\\n",
       "V2007     V2010                                                           \n",
       "Feminino  Branca ou Amarela         110010.0  2434.984347   3191.328347   \n",
       "          Ignorado                      44.0  1851.136364   1553.666655   \n",
       "          Preta, Parda ou Indígena  133719.0  1495.233953   1776.013659   \n",
       "Masculino Branca ou Amarela         144708.0  3089.524352   4748.443123   \n",
       "          Ignorado                      59.0  5734.915254  13741.702998   \n",
       "          Preta, Parda ou Indígena  204304.0  1783.314262   2312.968669   \n",
       "\n",
       "                                      min     25%     50%     75%       max  \n",
       "V2007     V2010                                                              \n",
       "Feminino  Branca ou Amarela           8.0  1045.0  1500.0  2665.5  100000.0  \n",
       "          Ignorado                  150.0   800.0  1237.5  2275.0    6500.0  \n",
       "          Preta, Parda ou Indígena   10.0   700.0  1045.0  1600.0  100000.0  \n",
       "Masculino Branca ou Amarela          10.0  1100.0  1885.0  3000.0  250000.0  \n",
       "          Ignorado                  400.0  1045.0  1500.0  3000.0   60000.0  \n",
       "          Preta, Parda ou Indígena    4.0   900.0  1200.0  2000.0  100000.0  "
      ]
     },
     "execution_count": 22,
     "metadata": {},
     "output_type": "execute_result"
    }
   ],
   "source": [
    "pd.concat([raca_binary,rendimentos, sex], axis = 1).groupby(['V2007','V2010'])['VD4016'].describe()"
   ]
  },
  {
   "cell_type": "markdown",
   "metadata": {},
   "source": [
    "# Feature engineering"
   ]
  },
  {
   "cell_type": "code",
   "execution_count": 23,
   "metadata": {},
   "outputs": [],
   "source": [
    "data['V2010-Bin'] = raca_binary\n",
    "data['V2007-Bin'] = sex\n",
    "\n",
    "data['V4010-SubP'] = data['V4010'].astype(str).str[:2] #subgrupo principal of ocupation according to Estrutura_Ocupacao_COD\n",
    "data['VD4016-Log'] = np.log(data['VD4016']) #wage log\n",
    "\n",
    "data = data.merge(load_cnae_codes()[['V4013', 'V4013-Sec']], how = 'left', on = 'V4013') ## CNAE-Section of sector of the job"
   ]
  },
  {
   "cell_type": "code",
   "execution_count": 24,
   "metadata": {},
   "outputs": [],
   "source": [
    "#filter out rows where race is empty\n",
    "data = data[data['V2010-Bin'] != 'Ignorado']"
   ]
  },
  {
   "cell_type": "markdown",
   "metadata": {},
   "source": [
    "# Find Confounders\n",
    "\n",
    "Confounders are good predictors of both the treatment and the observed outcome.\n",
    "Knowing what are these variables are usefull because in order to remove bias we have to control for confounders"
   ]
  },
  {
   "cell_type": "code",
   "execution_count": 25,
   "metadata": {},
   "outputs": [],
   "source": [
    "from sklearn.pipeline import Pipeline, FeatureUnion\n",
    "from sklearn.compose import ColumnTransformer\n",
    "from sklearn.preprocessing import OneHotEncoder, OrdinalEncoder, FunctionTransformer\n",
    "from sklearn.ensemble import RandomForestRegressor, RandomForestClassifier\n",
    "from sklearn.linear_model import LinearRegression, LogisticRegression\n",
    "from sklearn.base import BaseEstimator, TransformerMixin\n",
    "from sklearn.inspection import permutation_importance\n",
    "from sklearn.metrics import roc_auc_score, r2_score"
   ]
  },
  {
   "cell_type": "code",
   "execution_count": 26,
   "metadata": {},
   "outputs": [],
   "source": [
    "def PredictionTransformerWrapper(estimator, transform_method = 'apply'):\n",
    "    '''\n",
    "    factory to allow specific methods to be exposed as a transform method,\n",
    "    allowing its usage in sklearn pipelines\n",
    "    '''\n",
    "    class PredictionTransformer(estimator):        \n",
    "        def transform(self, X, **kwargs):\n",
    "            return getattr(self, transform_method)(X, **kwargs)\n",
    "\n",
    "class RobustEncoder(BaseEstimator, TransformerMixin):\n",
    "\n",
    "    def __init__(self,):\n",
    "        '''\n",
    "        A robust one hot encoder. Always return the same amount of nonzero value sin each transformed row.\n",
    "        Has columns for unknown values\n",
    "        '''\n",
    "        return\n",
    "\n",
    "    def fit(self, X, y = None, **kwawrgs):\n",
    "        X = np.array(X)\n",
    "        X = X.astype(str)\n",
    "        \n",
    "        self.ordinalencoder_ = OrdinalEncoder(handle_unknown = 'use_encoded_value', unknown_value = -1).fit(X)\n",
    "        X = self.ordinalencoder_.transform(X)\n",
    "        \n",
    "        categories = [np.arange(-1, len(cats)) for cats in self.ordinalencoder_.categories_]        \n",
    "        self.onehotencoder_ = OneHotEncoder(categories = categories).fit(X)\n",
    "        return self\n",
    "\n",
    "    def transform(self, X, **kwargs):\n",
    "        X = np.array(X)\n",
    "        X = X.astype(str)\n",
    "        X = self.ordinalencoder_.transform(X)\n",
    "        return self.onehotencoder_.transform(X)\n",
    "    \n",
    "def make_numerical_and_categorical_pipeline(categorical_columns, numerical_columns, final_estimator = None):\n",
    "    \n",
    "    pipe = ColumnTransformer(\n",
    "        [\n",
    "            ('OneHotEncoder', RobustEncoder(), categorical_columns),\n",
    "            ('NumericalPassthrough', FunctionTransformer(lambda x: x.astype(float)), numerical_columns),            \n",
    "        ]\n",
    "    )\n",
    "    \n",
    "    if not final_estimator is None:\n",
    "        pipe = Pipeline(\n",
    "            [\n",
    "                ('PreprocessingPipeline', pipe),\n",
    "                ('FinalEstimator', final_estimator)\n",
    "            ]\n",
    "        )\n",
    "        \n",
    "    return pipe"
   ]
  },
  {
   "cell_type": "markdown",
   "metadata": {},
   "source": [
    "## Feature Importances"
   ]
  },
  {
   "cell_type": "markdown",
   "metadata": {},
   "source": [
    "### First run"
   ]
  },
  {
   "cell_type": "code",
   "execution_count": 27,
   "metadata": {},
   "outputs": [],
   "source": [
    "categorical_columns = [\n",
    "    'UF', #estado\n",
    "    'V1022', #zona rural ou urbana\n",
    "    'V1023', # região do estado    \n",
    "    'V3001', #sabe ler ou escrever?\n",
    "    'V4010-SubP', #subgrupo principal da ocupação de acordo com Estrutura_Ocupacao_COD\n",
    "    'V4012', #Nesse trabalho,... era\n",
    "    'V4013-Sec', #seção do código CNAE da principal atividade do trabalho\n",
    "    'V4014', #esfera do trabalho (Federal estadual ou municipal)\n",
    "    'VD3004', #nível de instrução mais elevado alcançado\n",
    "    'V3009A', #curso mais alto que frequentou anteriormente\n",
    "    #'VD4013', #Faixa das horas habitualmente trabalhadas\n",
    "    #'VD4032', #Horas efetivamente trabalhadas na semana de referência no trabalho principal para pessoas de 14 anos ou mais de idade    \n",
    "]\n",
    "\n",
    "numerical_columns = [\n",
    "    'V2009', #idade\n",
    "    'VD3005', #anos de estudo\n",
    "]\n",
    "\n",
    "treatment_columns = [\n",
    "    'V2007-Bin', #sexo\n",
    "    'V2010-Bin', #cor ou raça binária (branco ou amarelo/ preto pardo ou indigena)\n",
    "]\n",
    "\n",
    "target_columns = [\n",
    "    'VD4016-Log', #Rendimento mensal habitual logaritmico do trabalho principal para pessoas de 14 anos ou mais de idade (apenas para pessoas que receberam em dinheiro, produtos ou mercadorias no trabalho principal)\n",
    "]\n",
    "\n",
    "X_columns = categorical_columns + numerical_columns\n",
    "T_columns = treatment_columns\n",
    "y_columns = target_columns\n"
   ]
  },
  {
   "cell_type": "code",
   "execution_count": 28,
   "metadata": {},
   "outputs": [],
   "source": [
    "train_frac = 0.8\n",
    "train_idxs = np.random.choice(range(len(data)), size = int(len(data)*train_frac), replace = False)\n",
    "\n",
    "train_msk = np.empty((len(data),), dtype = bool)\n",
    "train_msk[:] = False\n",
    "train_msk[train_idxs] = True\n",
    "test_msk = ~train_msk"
   ]
  },
  {
   "cell_type": "code",
   "execution_count": 29,
   "metadata": {},
   "outputs": [],
   "source": [
    "#estim = RandomForestRegressor(20, criterion = 'absolute_error', min_samples_leaf = 20, oob_score = True, n_jobs = -1, verbose = 1)\n",
    "estim = RandomForestClassifier(50, criterion = 'gini', min_samples_leaf = 20, oob_score = True, n_jobs = -1, verbose = 1)\n",
    "#estim = LogisticRegression(penalty = 'elasticnet', solver = 'saga', l1_ratio = 0.1, n_jobs = -1, verbose = 1)\n",
    "pipe_treatment = make_numerical_and_categorical_pipeline(categorical_columns, numerical_columns,estim)"
   ]
  },
  {
   "cell_type": "code",
   "execution_count": 30,
   "metadata": {},
   "outputs": [
    {
     "name": "stderr",
     "output_type": "stream",
     "text": [
      "[Parallel(n_jobs=-1)]: Using backend ThreadingBackend with 8 concurrent workers.\n",
      "[Parallel(n_jobs=-1)]: Done  34 tasks      | elapsed:   56.8s\n",
      "[Parallel(n_jobs=-1)]: Done  50 out of  50 | elapsed:  1.3min finished\n"
     ]
    },
    {
     "data": {
      "text/plain": [
       "Pipeline(steps=[('PreprocessingPipeline',\n",
       "                 ColumnTransformer(transformers=[('OneHotEncoder',\n",
       "                                                  RobustEncoder(),\n",
       "                                                  ['UF', 'V1022', 'V1023',\n",
       "                                                   'V3001', 'V4010-SubP',\n",
       "                                                   'V4012', 'V4013-Sec',\n",
       "                                                   'V4014', 'VD3004',\n",
       "                                                   'V3009A']),\n",
       "                                                 ('NumericalPassthrough',\n",
       "                                                  FunctionTransformer(func=<function make_numerical_and_categorical_pipeline.<locals>.<lambda> at 0x0000026492132B80>),\n",
       "                                                  ['V2009', 'VD3005'])])),\n",
       "                ('FinalEstimator',\n",
       "                 RandomForestClassifier(min_samples_leaf=20, n_estimators=50,\n",
       "                                        n_jobs=-1, oob_score=True,\n",
       "                                        verbose=1))])"
      ]
     },
     "execution_count": 30,
     "metadata": {},
     "output_type": "execute_result"
    }
   ],
   "source": [
    "pipe_treatment.fit(data[X_columns][train_msk], data[T_columns[0]][train_msk])"
   ]
  },
  {
   "cell_type": "code",
   "execution_count": 31,
   "metadata": {},
   "outputs": [
    {
     "name": "stderr",
     "output_type": "stream",
     "text": [
      "[Parallel(n_jobs=8)]: Using backend ThreadingBackend with 8 concurrent workers.\n",
      "[Parallel(n_jobs=8)]: Done  34 tasks      | elapsed:    0.2s\n",
      "[Parallel(n_jobs=8)]: Done  50 out of  50 | elapsed:    0.3s finished\n"
     ]
    },
    {
     "data": {
      "image/png": "[encoded data removed]",
      "text/plain": [
       "<Figure size 432x288 with 1 Axes>"
      ]
     },
     "metadata": {
      "needs_background": "light"
     },
     "output_type": "display_data"
    }
   ],
   "source": [
    "from sklearn.calibration import CalibrationDisplay\n",
    "display = CalibrationDisplay.from_estimator(\n",
    "    pipe_treatment,\n",
    "    data[X_columns][test_msk],\n",
    "    data[T_columns[0]][test_msk],\n",
    "    n_bins=20,\n",
    ")"
   ]
  },
  {
   "cell_type": "code",
   "execution_count": 32,
   "metadata": {},
   "outputs": [
    {
     "name": "stderr",
     "output_type": "stream",
     "text": [
      "[Parallel(n_jobs=8)]: Using backend ThreadingBackend with 8 concurrent workers.\n",
      "[Parallel(n_jobs=8)]: Done  34 tasks      | elapsed:    0.2s\n",
      "[Parallel(n_jobs=8)]: Done  50 out of  50 | elapsed:    0.3s finished\n"
     ]
    }
   ],
   "source": [
    "def auc_scoring(estim, X, y):\n",
    "    return roc_auc_score(OneHotEncoder(sparse = False).fit_transform(y), estim.predict_proba(X), multi_class = 'ovr')\n",
    "\n",
    "importances = permutation_importance(pipe_treatment, data[X_columns][test_msk], data[[T_columns[0]]][test_msk], n_repeats = 10, n_jobs = -1, scoring = auc_scoring)"
   ]
  },
  {
   "cell_type": "code",
   "execution_count": 33,
   "metadata": {},
   "outputs": [
    {
     "name": "stderr",
     "output_type": "stream",
     "text": [
      "[Parallel(n_jobs=8)]: Using backend ThreadingBackend with 8 concurrent workers.\n",
      "[Parallel(n_jobs=8)]: Done  34 tasks      | elapsed:    0.2s\n",
      "[Parallel(n_jobs=8)]: Done  50 out of  50 | elapsed:    0.3s finished\n"
     ]
    },
    {
     "data": {
      "text/plain": [
       "0.8728112205682468"
      ]
     },
     "execution_count": 33,
     "metadata": {},
     "output_type": "execute_result"
    }
   ],
   "source": [
    "auc_scoring(pipe_treatment, data[X_columns][test_msk], data[[T_columns[0]]][test_msk])"
   ]
  },
  {
   "cell_type": "code",
   "execution_count": 34,
   "metadata": {},
   "outputs": [
    {
     "data": {
      "text/plain": [
       "<AxesSubplot:xlabel='value', ylabel='feature'>"
      ]
     },
     "execution_count": 34,
     "metadata": {},
     "output_type": "execute_result"
    },
    {
     "data": {
      "image/png": "[encoded data removed]",
      "text/plain": [
       "<Figure size 432x288 with 1 Axes>"
      ]
     },
     "metadata": {
      "needs_background": "light"
     },
     "output_type": "display_data"
    }
   ],
   "source": [
    "importances_df = pd.DataFrame(importances['importances'])\n",
    "importances_df['feature'] = X_columns\n",
    "importances_df = importances_df.melt(id_vars = ['feature'], var_name = 'iter')\n",
    "rank = importances_df.groupby('feature')['value'].sum().sort_values(ascending = False)\n",
    "\n",
    "#importances_df.groupby('feature').apply(lambda x: sns.boxplot(y = x['importances'], x = x['rank']))\n",
    "sns.boxplot(x=\"value\", \n",
    "            y=\"feature\",\n",
    "            data=importances_df,\n",
    "            order = rank.index \n",
    "           )\n",
    "#plt.legend()"
   ]
  },
  {
   "cell_type": "markdown",
   "metadata": {},
   "source": [
    "Podemos ver que existe uma associação forte entre variáveis referentes ao tipo de trabalho e o recorte racial.\n",
    "Isso pode ser um problema, no sentido em que essas variáveis são [mediadores](https://en.wikipedia.org/wiki/Mediation_(statistics)#Direct_versus_indirect_effects). Por exemplo: o racismo estrutural faz com que pessoas de mesma qualificação não consiga cargos gerenciais e de liderança, ou empregos npor exemplo etc.\n",
    "\n",
    "Por isso, serão omitidas as variáveis referentes à natureza da ocupação (Exceto a parte que diz respeito o setor do trabalho pelo CNAE), para evitar viés de seleção através do controle de mediadores ('V4010', 'V4013', 'V4012', 'V4014').\n",
    "\n",
    "é interessante porque isso já antecipa o viés que pode ser encontrado quando for feita a regressão do salário utilizando as mesmas variáveis"
   ]
  },
  {
   "cell_type": "markdown",
   "metadata": {
    "tags": []
   },
   "source": [
    "### Second run"
   ]
  },
  {
   "cell_type": "code",
   "execution_count": 119,
   "metadata": {},
   "outputs": [],
   "source": [
    "categorical_columns = [\n",
    "    'UF', #estado\n",
    "    'V1022', #zona rural ou urbana\n",
    "    'V1023', # região do estado    \n",
    "    'V3001', #sabe ler ou escrever?\n",
    "    \n",
    "    #'V4010-SubP', #subgrupo principal da ocupação de acordo com Estrutura_Ocupacao_COD\n",
    "    #'V4012', #Nesse trabalho,... era\n",
    "    'V4013-Sec', #seção do código CNAE da principal atividade do trabalho\n",
    "    'V4014', #esfera do trabalho (Federal estadual ou municipal)\n",
    "    #'VD4013', #Faixa das horas habitualmente trabalhadas\n",
    "    #'VD4032', #Horas efetivamente trabalhadas na semana de referência no trabalho principal para pessoas de 14 anos ou mais de idade    \n",
    "    \n",
    "    \n",
    "    'V3009A', #curso mais alto que frequentou anteriormente\n",
    "    'VD3004', #nível de instrução mais elevado alcançado\n",
    "    \n",
    "]\n",
    "\n",
    "numerical_columns = [\n",
    "    'V2009', #idade\n",
    "    'VD3005', #anos de estudo\n",
    "]\n",
    "\n",
    "treatment_columns = [\n",
    "    'V2007-Bin', #sexo\n",
    "    'V2010-Bin', #cor ou raça binária (branco ou amarelo/ preto pardo ou indigena)\n",
    "]\n",
    "\n",
    "target_columns = [\n",
    "    'VD4016-Log', #Rendimento mensal habitual do trabalho principal para pessoas de 14 anos ou mais de idade (apenas para pessoas que receberam em dinheiro, produtos ou mercadorias no trabalho principal)\n",
    "]\n",
    "\n",
    "X_columns = categorical_columns + numerical_columns\n",
    "T_columns = treatment_columns\n",
    "y_columns = target_columns\n"
   ]
  },
  {
   "cell_type": "code",
   "execution_count": null,
   "metadata": {},
   "outputs": [],
   "source": []
  },
  {
   "cell_type": "code",
   "execution_count": 120,
   "metadata": {},
   "outputs": [],
   "source": [
    "train_frac = 0.8\n",
    "train_idxs = np.random.choice(range(len(data)), size = int(len(data)*train_frac), replace = False)\n",
    "\n",
    "train_msk = np.empty((len(data),), dtype = bool)\n",
    "train_msk[:] = False\n",
    "train_msk[train_idxs] = True\n",
    "test_msk = ~train_msk"
   ]
  },
  {
   "cell_type": "markdown",
   "metadata": {},
   "source": [
    "#### Sex Prediction"
   ]
  },
  {
   "cell_type": "code",
   "execution_count": 121,
   "metadata": {},
   "outputs": [],
   "source": [
    "#estim = RandomForestRegressor(20, criterion = 'absolute_error', min_samples_leaf = 20, oob_score = True, n_jobs = -1, verbose = 1)\n",
    "estim = RandomForestClassifier(50, criterion = 'gini', min_samples_leaf = 20, oob_score = True, n_jobs = -1, verbose = 1)\n",
    "#estim = LogisticRegression(penalty = 'elasticnet', solver = 'saga', l1_ratio = 0.1, n_jobs = -1, verbose = 1)\n",
    "pipe_sex = make_numerical_and_categorical_pipeline(categorical_columns, numerical_columns,estim)"
   ]
  },
  {
   "cell_type": "code",
   "execution_count": 122,
   "metadata": {},
   "outputs": [
    {
     "name": "stderr",
     "output_type": "stream",
     "text": [
      "[Parallel(n_jobs=-1)]: Using backend ThreadingBackend with 8 concurrent workers.\n",
      "[Parallel(n_jobs=-1)]: Done  34 tasks      | elapsed:  1.3min\n",
      "[Parallel(n_jobs=-1)]: Done  50 out of  50 | elapsed:  1.6min finished\n"
     ]
    },
    {
     "data": {
      "text/plain": [
       "Pipeline(steps=[('PreprocessingPipeline',\n",
       "                 ColumnTransformer(transformers=[('OneHotEncoder',\n",
       "                                                  RobustEncoder(),\n",
       "                                                  ['UF', 'V1022', 'V1023',\n",
       "                                                   'V3001', 'V4013-Sec',\n",
       "                                                   'V4014', 'V3009A',\n",
       "                                                   'VD3004']),\n",
       "                                                 ('NumericalPassthrough',\n",
       "                                                  FunctionTransformer(func=<function make_numerical_and_categorical_pipeline.<locals>.<lambda> at 0x00000264A608DC10>),\n",
       "                                                  ['V2009', 'VD3005'])])),\n",
       "                ('FinalEstimator',\n",
       "                 RandomForestClassifier(min_samples_leaf=20, n_estimators=50,\n",
       "                                        n_jobs=-1, oob_score=True,\n",
       "                                        verbose=1))])"
      ]
     },
     "execution_count": 122,
     "metadata": {},
     "output_type": "execute_result"
    }
   ],
   "source": [
    "pipe_sex.fit(data[X_columns][train_msk], data[T_columns[0]][train_msk])"
   ]
  },
  {
   "cell_type": "code",
   "execution_count": 123,
   "metadata": {},
   "outputs": [
    {
     "name": "stderr",
     "output_type": "stream",
     "text": [
      "[Parallel(n_jobs=8)]: Using backend ThreadingBackend with 8 concurrent workers.\n",
      "[Parallel(n_jobs=8)]: Done  34 tasks      | elapsed:    0.2s\n",
      "[Parallel(n_jobs=8)]: Done  50 out of  50 | elapsed:    0.3s finished\n"
     ]
    },
    {
     "data": {
      "image/png": "[encoded data removed]",
      "text/plain": [
       "<Figure size 432x288 with 1 Axes>"
      ]
     },
     "metadata": {
      "needs_background": "light"
     },
     "output_type": "display_data"
    }
   ],
   "source": [
    "from sklearn.calibration import CalibrationDisplay\n",
    "display = CalibrationDisplay.from_estimator(\n",
    "    pipe_sex,\n",
    "    data[X_columns][test_msk],\n",
    "    data[T_columns[0]][test_msk],\n",
    "    n_bins=20,\n",
    ")"
   ]
  },
  {
   "cell_type": "code",
   "execution_count": 124,
   "metadata": {},
   "outputs": [
    {
     "name": "stderr",
     "output_type": "stream",
     "text": [
      "[Parallel(n_jobs=8)]: Using backend ThreadingBackend with 8 concurrent workers.\n",
      "[Parallel(n_jobs=8)]: Done  34 tasks      | elapsed:    0.4s\n",
      "[Parallel(n_jobs=8)]: Done  50 out of  50 | elapsed:    0.5s finished\n"
     ]
    }
   ],
   "source": [
    "importances = permutation_importance(pipe_sex, data[X_columns][test_msk], data[[T_columns[0]]][test_msk], n_repeats = 10, n_jobs = -1, scoring = auc_scoring)"
   ]
  },
  {
   "cell_type": "code",
   "execution_count": 125,
   "metadata": {},
   "outputs": [
    {
     "name": "stderr",
     "output_type": "stream",
     "text": [
      "[Parallel(n_jobs=8)]: Using backend ThreadingBackend with 8 concurrent workers.\n",
      "[Parallel(n_jobs=8)]: Done  34 tasks      | elapsed:    0.2s\n",
      "[Parallel(n_jobs=8)]: Done  50 out of  50 | elapsed:    0.3s finished\n"
     ]
    },
    {
     "data": {
      "text/plain": [
       "0.8101111991884"
      ]
     },
     "execution_count": 125,
     "metadata": {},
     "output_type": "execute_result"
    }
   ],
   "source": [
    "auc_scoring(pipe_sex, data[X_columns][test_msk], data[[T_columns[0]]][test_msk])"
   ]
  },
  {
   "cell_type": "code",
   "execution_count": 126,
   "metadata": {},
   "outputs": [
    {
     "data": {
      "text/plain": [
       "<AxesSubplot:xlabel='value', ylabel='feature'>"
      ]
     },
     "execution_count": 126,
     "metadata": {},
     "output_type": "execute_result"
    },
    {
     "data": {
      "image/png": "[encoded data removed]",
      "text/plain": [
       "<Figure size 432x288 with 1 Axes>"
      ]
     },
     "metadata": {
      "needs_background": "light"
     },
     "output_type": "display_data"
    }
   ],
   "source": [
    "importances_df = pd.DataFrame(importances['importances'])\n",
    "importances_df['feature'] = X_columns\n",
    "importances_df = importances_df.melt(id_vars = ['feature'], var_name = 'iter')\n",
    "rank = importances_df.groupby('feature')['value'].sum().sort_values(ascending = False)\n",
    "\n",
    "#importances_df.groupby('feature').apply(lambda x: sns.boxplot(y = x['importances'], x = x['rank']))\n",
    "sns.boxplot(x=\"value\", \n",
    "            y=\"feature\",\n",
    "            data=importances_df,\n",
    "            order = rank.index \n",
    "           )\n",
    "#plt.legend()"
   ]
  },
  {
   "cell_type": "code",
   "execution_count": 43,
   "metadata": {},
   "outputs": [
    {
     "data": {
      "text/html": [
       "<div>\n",
       "<style scoped>\n",
       "    .dataframe tbody tr th:only-of-type {\n",
       "        vertical-align: middle;\n",
       "    }\n",
       "\n",
       "    .dataframe tbody tr th {\n",
       "        vertical-align: top;\n",
       "    }\n",
       "\n",
       "    .dataframe thead th {\n",
       "        text-align: right;\n",
       "    }\n",
       "</style>\n",
       "<table border=\"1\" class=\"dataframe\">\n",
       "  <thead>\n",
       "    <tr style=\"text-align: right;\">\n",
       "      <th></th>\n",
       "      <th>Código da variável</th>\n",
       "      <th>Posição inicial</th>\n",
       "      <th>Tamanho</th>\n",
       "      <th>quesito nº</th>\n",
       "      <th>Quesito Descrição</th>\n",
       "      <th>Categorias Tipo</th>\n",
       "      <th>Categorias Descrição</th>\n",
       "      <th>Período</th>\n",
       "      <th>Parte</th>\n",
       "    </tr>\n",
       "  </thead>\n",
       "  <tbody>\n",
       "    <tr>\n",
       "      <th>0</th>\n",
       "      <td>V2009</td>\n",
       "      <td>92.0</td>\n",
       "      <td>3.0</td>\n",
       "      <td>9</td>\n",
       "      <td>Idade do morador na data de referência</td>\n",
       "      <td>0 a 130</td>\n",
       "      <td>Idade (em anos)</td>\n",
       "      <td>1º tri/2012 - atual</td>\n",
       "      <td>Parte 2 - Características Gerais dos Moradores</td>\n",
       "    </tr>\n",
       "    <tr>\n",
       "      <th>1</th>\n",
       "      <td>VD3004</td>\n",
       "      <td>391.0</td>\n",
       "      <td>1.0</td>\n",
       "      <td>82</td>\n",
       "      <td>Nível de instrução mais elevado alcançado (pes...</td>\n",
       "      <td>1</td>\n",
       "      <td>Sem instrução e menos de 1 ano de estudo</td>\n",
       "      <td>1º tri/2012 - atual</td>\n",
       "      <td>Variáveis Derivadas</td>\n",
       "    </tr>\n",
       "    <tr>\n",
       "      <th>9</th>\n",
       "      <td>UF</td>\n",
       "      <td>6.0</td>\n",
       "      <td>2.0</td>\n",
       "      <td>NaN</td>\n",
       "      <td>Unidade da Federação</td>\n",
       "      <td>11</td>\n",
       "      <td>Rondônia</td>\n",
       "      <td>1º tri/2012 - atual</td>\n",
       "      <td>Parte 1 - Identificação e Controle</td>\n",
       "    </tr>\n",
       "    <tr>\n",
       "      <th>36</th>\n",
       "      <td>V3009A</td>\n",
       "      <td>113.0</td>\n",
       "      <td>2.0</td>\n",
       "      <td>9A</td>\n",
       "      <td>Qual foi o curso mais elevado que ... frequent...</td>\n",
       "      <td>01</td>\n",
       "      <td>Creche (disponível apenas no questionário anua...</td>\n",
       "      <td>4º tri/2015 - atual</td>\n",
       "      <td>Parte 3 - Características de educação para os ...</td>\n",
       "    </tr>\n",
       "    <tr>\n",
       "      <th>52</th>\n",
       "      <td>VD3005</td>\n",
       "      <td>392.0</td>\n",
       "      <td>2.0</td>\n",
       "      <td>82</td>\n",
       "      <td>Anos de estudo (pessoas de 5 anos ou mais de i...</td>\n",
       "      <td>0</td>\n",
       "      <td>Sem instrução e menos de 1 ano de estudo</td>\n",
       "      <td>1º tri/2012 - atual</td>\n",
       "      <td>Variáveis Derivadas</td>\n",
       "    </tr>\n",
       "    <tr>\n",
       "      <th>70</th>\n",
       "      <td>V1022</td>\n",
       "      <td>33.0</td>\n",
       "      <td>1.0</td>\n",
       "      <td>NaN</td>\n",
       "      <td>Situação do domicílio</td>\n",
       "      <td>1</td>\n",
       "      <td>Urbana</td>\n",
       "      <td>1º tri/2012 - atual</td>\n",
       "      <td>Parte 1 - Identificação e Controle</td>\n",
       "    </tr>\n",
       "    <tr>\n",
       "      <th>72</th>\n",
       "      <td>V1023</td>\n",
       "      <td>34.0</td>\n",
       "      <td>1.0</td>\n",
       "      <td>NaN</td>\n",
       "      <td>Tipo de área</td>\n",
       "      <td>1</td>\n",
       "      <td>Capital</td>\n",
       "      <td>1º tri/2012 - atual</td>\n",
       "      <td>Parte 1 - Identificação e Controle</td>\n",
       "    </tr>\n",
       "    <tr>\n",
       "      <th>76</th>\n",
       "      <td>V3001</td>\n",
       "      <td>96.0</td>\n",
       "      <td>1.0</td>\n",
       "      <td>1</td>\n",
       "      <td>... sabe ler e escrever?</td>\n",
       "      <td>1</td>\n",
       "      <td>Sim</td>\n",
       "      <td>1º tri/2012 - atual</td>\n",
       "      <td>Parte 3 - Características de educação para os ...</td>\n",
       "    </tr>\n",
       "  </tbody>\n",
       "</table>\n",
       "</div>"
      ],
      "text/plain": [
       "   Código da variável  Posição inicial   Tamanho quesito nº  \\\n",
       "0               V2009              92.0      3.0          9   \n",
       "1              VD3004             391.0      1.0         82   \n",
       "9                  UF               6.0      2.0        NaN   \n",
       "36             V3009A             113.0      2.0         9A   \n",
       "52             VD3005             392.0      2.0         82   \n",
       "70              V1022              33.0      1.0        NaN   \n",
       "72              V1023              34.0      1.0        NaN   \n",
       "76              V3001              96.0      1.0          1   \n",
       "\n",
       "                                    Quesito Descrição Categorias Tipo   \\\n",
       "0              Idade do morador na data de referência          0 a 130   \n",
       "1   Nível de instrução mais elevado alcançado (pes...                1   \n",
       "9                                Unidade da Federação               11   \n",
       "36  Qual foi o curso mais elevado que ... frequent...               01   \n",
       "52  Anos de estudo (pessoas de 5 anos ou mais de i...                0   \n",
       "70                              Situação do domicílio                1   \n",
       "72                                       Tipo de área                1   \n",
       "76                           ... sabe ler e escrever?                1   \n",
       "\n",
       "                                 Categorias Descrição              Período  \\\n",
       "0                                     Idade (em anos)  1º tri/2012 - atual   \n",
       "1            Sem instrução e menos de 1 ano de estudo  1º tri/2012 - atual   \n",
       "9                                            Rondônia  1º tri/2012 - atual   \n",
       "36  Creche (disponível apenas no questionário anua...  4º tri/2015 - atual   \n",
       "52           Sem instrução e menos de 1 ano de estudo  1º tri/2012 - atual   \n",
       "70                                             Urbana  1º tri/2012 - atual   \n",
       "72                                            Capital  1º tri/2012 - atual   \n",
       "76                                                Sim  1º tri/2012 - atual   \n",
       "\n",
       "                                                Parte  \n",
       "0      Parte 2 - Características Gerais dos Moradores  \n",
       "1                                 Variáveis Derivadas  \n",
       "9                  Parte 1 - Identificação e Controle  \n",
       "36  Parte 3 - Características de educação para os ...  \n",
       "52                                Variáveis Derivadas  \n",
       "70                 Parte 1 - Identificação e Controle  \n",
       "72                 Parte 1 - Identificação e Controle  \n",
       "76  Parte 3 - Características de educação para os ...  "
      ]
     },
     "execution_count": 43,
     "metadata": {},
     "output_type": "execute_result"
    }
   ],
   "source": [
    "var_dict.loc[rank.index].reset_index().drop_duplicates(var_dict.index.name)"
   ]
  },
  {
   "cell_type": "markdown",
   "metadata": {},
   "source": [
    "Podemos ver que o efeito é mais moderado nesses potenciais confundidores."
   ]
  },
  {
   "cell_type": "markdown",
   "metadata": {},
   "source": [
    "#### Race Prediction"
   ]
  },
  {
   "cell_type": "code",
   "execution_count": 59,
   "metadata": {},
   "outputs": [],
   "source": [
    "#estim = RandomForestRegressor(20, criterion = 'absolute_error', min_samples_leaf = 20, oob_score = True, n_jobs = -1, verbose = 1)\n",
    "estim = RandomForestClassifier(50, criterion = 'gini', min_samples_leaf = 10, n_jobs = -1, verbose = 1)\n",
    "#estim = LogisticRegression(penalty = 'elasticnet', solver = 'saga', l1_ratio = 0.1, n_jobs = -1, verbose = 1)\n",
    "pipe_race = make_numerical_and_categorical_pipeline(categorical_columns, numerical_columns,estim)"
   ]
  },
  {
   "cell_type": "code",
   "execution_count": 60,
   "metadata": {},
   "outputs": [
    {
     "name": "stderr",
     "output_type": "stream",
     "text": [
      "[Parallel(n_jobs=-1)]: Using backend ThreadingBackend with 8 concurrent workers.\n",
      "[Parallel(n_jobs=-1)]: Done  34 tasks      | elapsed:   55.6s\n",
      "[Parallel(n_jobs=-1)]: Done  50 out of  50 | elapsed:  1.2min finished\n"
     ]
    },
    {
     "data": {
      "text/plain": [
       "Pipeline(steps=[('PreprocessingPipeline',\n",
       "                 ColumnTransformer(transformers=[('OneHotEncoder',\n",
       "                                                  RobustEncoder(),\n",
       "                                                  ['UF', 'V1022', 'V1023',\n",
       "                                                   'V3001', 'V3009A',\n",
       "                                                   'VD3004']),\n",
       "                                                 ('NumericalPassthrough',\n",
       "                                                  FunctionTransformer(func=<function make_numerical_and_categorical_pipeline.<locals>.<lambda> at 0x00000264AA7E7A60>),\n",
       "                                                  ['V2009', 'VD3005'])])),\n",
       "                ('FinalEstimator',\n",
       "                 RandomForestClassifier(min_samples_leaf=10, n_estimators=50,\n",
       "                                        n_jobs=-1, oob_score=True,\n",
       "                                        verbose=1))])"
      ]
     },
     "execution_count": 60,
     "metadata": {},
     "output_type": "execute_result"
    }
   ],
   "source": [
    "pipe_race.fit(data[X_columns][train_msk], data[T_columns[1]][train_msk])"
   ]
  },
  {
   "cell_type": "code",
   "execution_count": null,
   "metadata": {},
   "outputs": [
    {
     "name": "stderr",
     "output_type": "stream",
     "text": [
      "[Parallel(n_jobs=8)]: Using backend ThreadingBackend with 8 concurrent workers.\n",
      "[Parallel(n_jobs=8)]: Done  34 tasks      | elapsed:    0.1s\n",
      "[Parallel(n_jobs=8)]: Done  50 out of  50 | elapsed:    0.2s finished\n"
     ]
    },
    {
     "data": {
      "image/png": "[encoded data removed]",
      "text/plain": [
       "<Figure size 432x288 with 1 Axes>"
      ]
     },
     "metadata": {
      "needs_background": "light"
     },
     "output_type": "display_data"
    }
   ],
   "source": [
    "from sklearn.calibration import CalibrationDisplay, calibration_curve\n",
    "\n",
    "display = CalibrationDisplay.from_estimator(\n",
    "    pipe_race,\n",
    "    data[X_columns][test_msk],\n",
    "    data[T_columns[1]][test_msk],\n",
    "    n_bins=20,\n",
    ")"
   ]
  },
  {
   "cell_type": "code",
   "execution_count": 65,
   "metadata": {},
   "outputs": [
    {
     "name": "stderr",
     "output_type": "stream",
     "text": [
      "[Parallel(n_jobs=8)]: Using backend ThreadingBackend with 8 concurrent workers.\n",
      "[Parallel(n_jobs=8)]: Done  34 tasks      | elapsed:    0.1s\n",
      "[Parallel(n_jobs=8)]: Done  50 out of  50 | elapsed:    0.2s finished\n",
      "C:\\Users\\User Ambev\\Desktop\\Mestrado\\MO444\\MO444env\\lib\\site-packages\\seaborn\\distributions.py:2619: FutureWarning: `distplot` is a deprecated function and will be removed in a future version. Please adapt your code to use either `displot` (a figure-level function with similar flexibility) or `histplot` (an axes-level function for histograms).\n",
      "  warnings.warn(msg, FutureWarning)\n"
     ]
    },
    {
     "data": {
      "text/plain": [
       "<AxesSubplot:ylabel='Density'>"
      ]
     },
     "execution_count": 65,
     "metadata": {},
     "output_type": "execute_result"
    },
    {
     "data": {
      "image/png": "[encoded data removed]",
      "text/plain": [
       "<Figure size 432x288 with 1 Axes>"
      ]
     },
     "metadata": {
      "needs_background": "light"
     },
     "output_type": "display_data"
    }
   ],
   "source": [
    "sns.distplot(pipe_race.predict_proba(data[X_columns][test_msk])[:,1])"
   ]
  },
  {
   "cell_type": "code",
   "execution_count": 63,
   "metadata": {},
   "outputs": [
    {
     "name": "stderr",
     "output_type": "stream",
     "text": [
      "[Parallel(n_jobs=8)]: Using backend ThreadingBackend with 8 concurrent workers.\n",
      "[Parallel(n_jobs=8)]: Done  34 tasks      | elapsed:    0.6s\n",
      "[Parallel(n_jobs=8)]: Done  50 out of  50 | elapsed:    0.8s finished\n",
      "[Parallel(n_jobs=8)]: Using backend ThreadingBackend with 8 concurrent workers.\n",
      "[Parallel(n_jobs=8)]: Done  34 tasks      | elapsed:    0.1s\n",
      "[Parallel(n_jobs=8)]: Done  50 out of  50 | elapsed:    0.2s finished\n"
     ]
    },
    {
     "data": {
      "text/plain": [
       "(0.5464634603426093, 0.547964270363575)"
      ]
     },
     "execution_count": 63,
     "metadata": {},
     "output_type": "execute_result"
    }
   ],
   "source": [
    "(\n",
    "    auc_scoring(pipe_race, data[X_columns][train_msk], data[[T_columns[0]]][train_msk]),\n",
    "    auc_scoring(pipe_race, data[X_columns][test_msk], data[[T_columns[0]]][test_msk])\n",
    ")"
   ]
  },
  {
   "cell_type": "code",
   "execution_count": 85,
   "metadata": {},
   "outputs": [
    {
     "name": "stderr",
     "output_type": "stream",
     "text": [
      "[Parallel(n_jobs=8)]: Using backend ThreadingBackend with 8 concurrent workers.\n",
      "[Parallel(n_jobs=8)]: Done  34 tasks      | elapsed:    0.1s\n",
      "[Parallel(n_jobs=8)]: Done  50 out of  50 | elapsed:    0.2s finished\n"
     ]
    }
   ],
   "source": [
    "importances = permutation_importance(pipe_race, data[X_columns][test_msk], data[[T_columns[1]]][test_msk], n_repeats = 10, n_jobs = -1, scoring = auc_scoring)"
   ]
  },
  {
   "cell_type": "code",
   "execution_count": 86,
   "metadata": {},
   "outputs": [
    {
     "data": {
      "text/plain": [
       "<AxesSubplot:xlabel='value', ylabel='feature'>"
      ]
     },
     "execution_count": 86,
     "metadata": {},
     "output_type": "execute_result"
    },
    {
     "data": {
      "image/png": "[encoded data removed]",
      "text/plain": [
       "<Figure size 432x288 with 1 Axes>"
      ]
     },
     "metadata": {
      "needs_background": "light"
     },
     "output_type": "display_data"
    }
   ],
   "source": [
    "importances_df = pd.DataFrame(importances['importances'])\n",
    "importances_df['feature'] = X_columns\n",
    "importances_df = importances_df.melt(id_vars = ['feature'], var_name = 'iter')\n",
    "rank = importances_df.groupby('feature')['value'].sum().sort_values(ascending = False)\n",
    "\n",
    "#importances_df.groupby('feature').apply(lambda x: sns.boxplot(y = x['importances'], x = x['rank']))\n",
    "sns.boxplot(x=\"value\", \n",
    "            y=\"feature\",\n",
    "            data=importances_df,\n",
    "            order = rank.index \n",
    "           )\n",
    "#plt.legend()"
   ]
  },
  {
   "cell_type": "code",
   "execution_count": 87,
   "metadata": {},
   "outputs": [
    {
     "data": {
      "text/html": [
       "<div>\n",
       "<style scoped>\n",
       "    .dataframe tbody tr th:only-of-type {\n",
       "        vertical-align: middle;\n",
       "    }\n",
       "\n",
       "    .dataframe tbody tr th {\n",
       "        vertical-align: top;\n",
       "    }\n",
       "\n",
       "    .dataframe thead th {\n",
       "        text-align: right;\n",
       "    }\n",
       "</style>\n",
       "<table border=\"1\" class=\"dataframe\">\n",
       "  <thead>\n",
       "    <tr style=\"text-align: right;\">\n",
       "      <th></th>\n",
       "      <th>Código da variável</th>\n",
       "      <th>Posição inicial</th>\n",
       "      <th>Tamanho</th>\n",
       "      <th>quesito nº</th>\n",
       "      <th>Quesito Descrição</th>\n",
       "      <th>Categorias Tipo</th>\n",
       "      <th>Categorias Descrição</th>\n",
       "      <th>Período</th>\n",
       "      <th>Parte</th>\n",
       "    </tr>\n",
       "  </thead>\n",
       "  <tbody>\n",
       "    <tr>\n",
       "      <th>0</th>\n",
       "      <td>UF</td>\n",
       "      <td>6.0</td>\n",
       "      <td>2.0</td>\n",
       "      <td>NaN</td>\n",
       "      <td>Unidade da Federação</td>\n",
       "      <td>11</td>\n",
       "      <td>Rondônia</td>\n",
       "      <td>1º tri/2012 - atual</td>\n",
       "      <td>Parte 1 - Identificação e Controle</td>\n",
       "    </tr>\n",
       "    <tr>\n",
       "      <th>27</th>\n",
       "      <td>V2009</td>\n",
       "      <td>92.0</td>\n",
       "      <td>3.0</td>\n",
       "      <td>9</td>\n",
       "      <td>Idade do morador na data de referência</td>\n",
       "      <td>0 a 130</td>\n",
       "      <td>Idade (em anos)</td>\n",
       "      <td>1º tri/2012 - atual</td>\n",
       "      <td>Parte 2 - Características Gerais dos Moradores</td>\n",
       "    </tr>\n",
       "    <tr>\n",
       "      <th>28</th>\n",
       "      <td>VD3005</td>\n",
       "      <td>392.0</td>\n",
       "      <td>2.0</td>\n",
       "      <td>82</td>\n",
       "      <td>Anos de estudo (pessoas de 5 anos ou mais de i...</td>\n",
       "      <td>0</td>\n",
       "      <td>Sem instrução e menos de 1 ano de estudo</td>\n",
       "      <td>1º tri/2012 - atual</td>\n",
       "      <td>Variáveis Derivadas</td>\n",
       "    </tr>\n",
       "    <tr>\n",
       "      <th>46</th>\n",
       "      <td>V1023</td>\n",
       "      <td>34.0</td>\n",
       "      <td>1.0</td>\n",
       "      <td>NaN</td>\n",
       "      <td>Tipo de área</td>\n",
       "      <td>1</td>\n",
       "      <td>Capital</td>\n",
       "      <td>1º tri/2012 - atual</td>\n",
       "      <td>Parte 1 - Identificação e Controle</td>\n",
       "    </tr>\n",
       "    <tr>\n",
       "      <th>50</th>\n",
       "      <td>V3009A</td>\n",
       "      <td>113.0</td>\n",
       "      <td>2.0</td>\n",
       "      <td>9A</td>\n",
       "      <td>Qual foi o curso mais elevado que ... frequent...</td>\n",
       "      <td>01</td>\n",
       "      <td>Creche (disponível apenas no questionário anua...</td>\n",
       "      <td>4º tri/2015 - atual</td>\n",
       "      <td>Parte 3 - Características de educação para os ...</td>\n",
       "    </tr>\n",
       "    <tr>\n",
       "      <th>66</th>\n",
       "      <td>VD3004</td>\n",
       "      <td>391.0</td>\n",
       "      <td>1.0</td>\n",
       "      <td>82</td>\n",
       "      <td>Nível de instrução mais elevado alcançado (pes...</td>\n",
       "      <td>1</td>\n",
       "      <td>Sem instrução e menos de 1 ano de estudo</td>\n",
       "      <td>1º tri/2012 - atual</td>\n",
       "      <td>Variáveis Derivadas</td>\n",
       "    </tr>\n",
       "    <tr>\n",
       "      <th>74</th>\n",
       "      <td>V1022</td>\n",
       "      <td>33.0</td>\n",
       "      <td>1.0</td>\n",
       "      <td>NaN</td>\n",
       "      <td>Situação do domicílio</td>\n",
       "      <td>1</td>\n",
       "      <td>Urbana</td>\n",
       "      <td>1º tri/2012 - atual</td>\n",
       "      <td>Parte 1 - Identificação e Controle</td>\n",
       "    </tr>\n",
       "    <tr>\n",
       "      <th>76</th>\n",
       "      <td>V3001</td>\n",
       "      <td>96.0</td>\n",
       "      <td>1.0</td>\n",
       "      <td>1</td>\n",
       "      <td>... sabe ler e escrever?</td>\n",
       "      <td>1</td>\n",
       "      <td>Sim</td>\n",
       "      <td>1º tri/2012 - atual</td>\n",
       "      <td>Parte 3 - Características de educação para os ...</td>\n",
       "    </tr>\n",
       "  </tbody>\n",
       "</table>\n",
       "</div>"
      ],
      "text/plain": [
       "   Código da variável  Posição inicial   Tamanho quesito nº  \\\n",
       "0                  UF               6.0      2.0        NaN   \n",
       "27              V2009              92.0      3.0          9   \n",
       "28             VD3005             392.0      2.0         82   \n",
       "46              V1023              34.0      1.0        NaN   \n",
       "50             V3009A             113.0      2.0         9A   \n",
       "66             VD3004             391.0      1.0         82   \n",
       "74              V1022              33.0      1.0        NaN   \n",
       "76              V3001              96.0      1.0          1   \n",
       "\n",
       "                                    Quesito Descrição Categorias Tipo   \\\n",
       "0                                Unidade da Federação               11   \n",
       "27             Idade do morador na data de referência          0 a 130   \n",
       "28  Anos de estudo (pessoas de 5 anos ou mais de i...                0   \n",
       "46                                       Tipo de área                1   \n",
       "50  Qual foi o curso mais elevado que ... frequent...               01   \n",
       "66  Nível de instrução mais elevado alcançado (pes...                1   \n",
       "74                              Situação do domicílio                1   \n",
       "76                           ... sabe ler e escrever?                1   \n",
       "\n",
       "                                 Categorias Descrição              Período  \\\n",
       "0                                            Rondônia  1º tri/2012 - atual   \n",
       "27                                    Idade (em anos)  1º tri/2012 - atual   \n",
       "28           Sem instrução e menos de 1 ano de estudo  1º tri/2012 - atual   \n",
       "46                                            Capital  1º tri/2012 - atual   \n",
       "50  Creche (disponível apenas no questionário anua...  4º tri/2015 - atual   \n",
       "66           Sem instrução e menos de 1 ano de estudo  1º tri/2012 - atual   \n",
       "74                                             Urbana  1º tri/2012 - atual   \n",
       "76                                                Sim  1º tri/2012 - atual   \n",
       "\n",
       "                                                Parte  \n",
       "0                  Parte 1 - Identificação e Controle  \n",
       "27     Parte 2 - Características Gerais dos Moradores  \n",
       "28                                Variáveis Derivadas  \n",
       "46                 Parte 1 - Identificação e Controle  \n",
       "50  Parte 3 - Características de educação para os ...  \n",
       "66                                Variáveis Derivadas  \n",
       "74                 Parte 1 - Identificação e Controle  \n",
       "76  Parte 3 - Características de educação para os ...  "
      ]
     },
     "execution_count": 87,
     "metadata": {},
     "output_type": "execute_result"
    }
   ],
   "source": [
    "var_dict.loc[rank.index].reset_index().drop_duplicates(var_dict.index.name)"
   ]
  },
  {
   "cell_type": "markdown",
   "metadata": {},
   "source": [
    "#### Wage Prediction"
   ]
  },
  {
   "cell_type": "code",
   "execution_count": 88,
   "metadata": {},
   "outputs": [],
   "source": [
    "estim = RandomForestRegressor(40, criterion = 'squared_error', min_samples_leaf = 5, oob_score = True, n_jobs = -1, verbose = 1)\n",
    "#estim = LogisticRegression(penalty = 'elasticnet', solver = 'saga', l1_ratio = 0.1, n_jobs = -1, verbose = 1)\n",
    "pipe_wage = make_numerical_and_categorical_pipeline(categorical_columns, numerical_columns,estim)"
   ]
  },
  {
   "cell_type": "code",
   "execution_count": 89,
   "metadata": {},
   "outputs": [
    {
     "name": "stderr",
     "output_type": "stream",
     "text": [
      "C:\\Users\\User Ambev\\Desktop\\Mestrado\\MO444\\MO444env\\lib\\site-packages\\sklearn\\pipeline.py:394: DataConversionWarning: A column-vector y was passed when a 1d array was expected. Please change the shape of y to (n_samples,), for example using ravel().\n",
      "  self._final_estimator.fit(Xt, y, **fit_params_last_step)\n",
      "[Parallel(n_jobs=-1)]: Using backend ThreadingBackend with 8 concurrent workers.\n",
      "[Parallel(n_jobs=-1)]: Done  40 out of  40 | elapsed:  4.0min finished\n"
     ]
    },
    {
     "data": {
      "text/plain": [
       "Pipeline(steps=[('PreprocessingPipeline',\n",
       "                 ColumnTransformer(transformers=[('OneHotEncoder',\n",
       "                                                  RobustEncoder(),\n",
       "                                                  ['UF', 'V1022', 'V1023',\n",
       "                                                   'V3001', 'V3009A',\n",
       "                                                   'VD3004']),\n",
       "                                                 ('NumericalPassthrough',\n",
       "                                                  FunctionTransformer(func=<function make_numerical_and_categorical_pipeline.<locals>.<lambda> at 0x00000264ABD1AEE0>),\n",
       "                                                  ['V2009', 'VD3005'])])),\n",
       "                ('FinalEstimator',\n",
       "                 RandomForestRegressor(min_samples_leaf=5, n_estimators=40,\n",
       "                                       n_jobs=-1, oob_score=True, verbose=1))])"
      ]
     },
     "execution_count": 89,
     "metadata": {},
     "output_type": "execute_result"
    }
   ],
   "source": [
    "pipe_wage.fit(data[X_columns][train_msk], data[y_columns][train_msk])"
   ]
  },
  {
   "cell_type": "code",
   "execution_count": 90,
   "metadata": {},
   "outputs": [
    {
     "name": "stderr",
     "output_type": "stream",
     "text": [
      "[Parallel(n_jobs=8)]: Using backend ThreadingBackend with 8 concurrent workers.\n",
      "[Parallel(n_jobs=8)]: Done  40 out of  40 | elapsed:    0.1s finished\n"
     ]
    },
    {
     "data": {
      "text/plain": [
       "0.4378753319637094"
      ]
     },
     "execution_count": 90,
     "metadata": {},
     "output_type": "execute_result"
    }
   ],
   "source": [
    "from sklearn.calibration import CalibrationDisplay\n",
    "\n",
    "r2_score(\n",
    "    data[y_columns][test_msk],\n",
    "    pipe_wage.predict(data[X_columns][test_msk]),\n",
    "    sample_weight=None,\n",
    "    multioutput='uniform_average'\n",
    ")"
   ]
  },
  {
   "cell_type": "code",
   "execution_count": 91,
   "metadata": {},
   "outputs": [
    {
     "name": "stderr",
     "output_type": "stream",
     "text": [
      "[Parallel(n_jobs=8)]: Using backend ThreadingBackend with 8 concurrent workers.\n",
      "[Parallel(n_jobs=8)]: Done  40 out of  40 | elapsed:    0.2s finished\n",
      "C:\\Users\\User Ambev\\Desktop\\Mestrado\\MO444\\MO444env\\lib\\site-packages\\seaborn\\_decorators.py:36: FutureWarning: Pass the following variables as keyword args: x, y. From version 0.12, the only valid positional argument will be `data`, and passing other arguments without an explicit keyword will result in an error or misinterpretation.\n",
      "  warnings.warn(\n"
     ]
    },
    {
     "data": {
      "text/plain": [
       "<seaborn.axisgrid.JointGrid at 0x264ab6cf1f0>"
      ]
     },
     "execution_count": 91,
     "metadata": {},
     "output_type": "execute_result"
    },
    {
     "data": {
      "image/png": "[encoded data removed]",
      "text/plain": [
       "<Figure size 432x432 with 3 Axes>"
      ]
     },
     "metadata": {
      "needs_background": "light"
     },
     "output_type": "display_data"
    }
   ],
   "source": [
    "preds = pipe_wage.predict(data[X_columns][test_msk])\n",
    "\n",
    "err = preds.flatten() - data[y_columns[0]][test_msk]\n",
    "\n",
    "sns.jointplot(data[y_columns[0]][test_msk], err, joint_kws = dict(alpha = 0.01))"
   ]
  },
  {
   "cell_type": "code",
   "execution_count": 92,
   "metadata": {},
   "outputs": [
    {
     "name": "stderr",
     "output_type": "stream",
     "text": [
      "[Parallel(n_jobs=8)]: Using backend ThreadingBackend with 8 concurrent workers.\n",
      "[Parallel(n_jobs=8)]: Done  40 out of  40 | elapsed:    0.2s finished\n"
     ]
    }
   ],
   "source": [
    "def r2_scoring(estim, X, y):\n",
    "    return r2_score(\n",
    "            y,\n",
    "            estim.predict(X),\n",
    "            sample_weight=None,\n",
    "            multioutput='uniform_average'\n",
    "        )\n",
    "\n",
    "importances = permutation_importance(pipe_wage, data[X_columns][test_msk], data[y_columns][test_msk], n_repeats = 10, n_jobs = -1, scoring = r2_scoring)"
   ]
  },
  {
   "cell_type": "code",
   "execution_count": 93,
   "metadata": {},
   "outputs": [
    {
     "data": {
      "text/plain": [
       "<AxesSubplot:xlabel='value', ylabel='feature'>"
      ]
     },
     "execution_count": 93,
     "metadata": {},
     "output_type": "execute_result"
    },
    {
     "data": {
      "image/png": "[encoded data removed]",
      "text/plain": [
       "<Figure size 432x288 with 1 Axes>"
      ]
     },
     "metadata": {
      "needs_background": "light"
     },
     "output_type": "display_data"
    }
   ],
   "source": [
    "importances_df = pd.DataFrame(importances['importances'])\n",
    "importances_df['feature'] = X_columns\n",
    "importances_df = importances_df.melt(id_vars = ['feature'], var_name = 'iter')\n",
    "rank = importances_df.groupby('feature')['value'].sum().sort_values(ascending = False)\n",
    "\n",
    "#importances_df.groupby('feature').apply(lambda x: sns.boxplot(y = x['importances'], x = x['rank']))\n",
    "sns.boxplot(x=\"value\", \n",
    "            y=\"feature\",\n",
    "            data=importances_df,\n",
    "            order = rank.index \n",
    "           )\n",
    "#plt.legend()"
   ]
  },
  {
   "cell_type": "code",
   "execution_count": 94,
   "metadata": {},
   "outputs": [
    {
     "data": {
      "text/html": [
       "<div>\n",
       "<style scoped>\n",
       "    .dataframe tbody tr th:only-of-type {\n",
       "        vertical-align: middle;\n",
       "    }\n",
       "\n",
       "    .dataframe tbody tr th {\n",
       "        vertical-align: top;\n",
       "    }\n",
       "\n",
       "    .dataframe thead th {\n",
       "        text-align: right;\n",
       "    }\n",
       "</style>\n",
       "<table border=\"1\" class=\"dataframe\">\n",
       "  <thead>\n",
       "    <tr style=\"text-align: right;\">\n",
       "      <th></th>\n",
       "      <th>Código da variável</th>\n",
       "      <th>Posição inicial</th>\n",
       "      <th>Tamanho</th>\n",
       "      <th>quesito nº</th>\n",
       "      <th>Quesito Descrição</th>\n",
       "      <th>Categorias Tipo</th>\n",
       "      <th>Categorias Descrição</th>\n",
       "      <th>Período</th>\n",
       "      <th>Parte</th>\n",
       "    </tr>\n",
       "  </thead>\n",
       "  <tbody>\n",
       "    <tr>\n",
       "      <th>0</th>\n",
       "      <td>VD3004</td>\n",
       "      <td>391.0</td>\n",
       "      <td>1.0</td>\n",
       "      <td>82</td>\n",
       "      <td>Nível de instrução mais elevado alcançado (pes...</td>\n",
       "      <td>1</td>\n",
       "      <td>Sem instrução e menos de 1 ano de estudo</td>\n",
       "      <td>1º tri/2012 - atual</td>\n",
       "      <td>Variáveis Derivadas</td>\n",
       "    </tr>\n",
       "    <tr>\n",
       "      <th>8</th>\n",
       "      <td>UF</td>\n",
       "      <td>6.0</td>\n",
       "      <td>2.0</td>\n",
       "      <td>NaN</td>\n",
       "      <td>Unidade da Federação</td>\n",
       "      <td>11</td>\n",
       "      <td>Rondônia</td>\n",
       "      <td>1º tri/2012 - atual</td>\n",
       "      <td>Parte 1 - Identificação e Controle</td>\n",
       "    </tr>\n",
       "    <tr>\n",
       "      <th>35</th>\n",
       "      <td>V2009</td>\n",
       "      <td>92.0</td>\n",
       "      <td>3.0</td>\n",
       "      <td>9</td>\n",
       "      <td>Idade do morador na data de referência</td>\n",
       "      <td>0 a 130</td>\n",
       "      <td>Idade (em anos)</td>\n",
       "      <td>1º tri/2012 - atual</td>\n",
       "      <td>Parte 2 - Características Gerais dos Moradores</td>\n",
       "    </tr>\n",
       "    <tr>\n",
       "      <th>36</th>\n",
       "      <td>VD3005</td>\n",
       "      <td>392.0</td>\n",
       "      <td>2.0</td>\n",
       "      <td>82</td>\n",
       "      <td>Anos de estudo (pessoas de 5 anos ou mais de i...</td>\n",
       "      <td>0</td>\n",
       "      <td>Sem instrução e menos de 1 ano de estudo</td>\n",
       "      <td>1º tri/2012 - atual</td>\n",
       "      <td>Variáveis Derivadas</td>\n",
       "    </tr>\n",
       "    <tr>\n",
       "      <th>54</th>\n",
       "      <td>V3009A</td>\n",
       "      <td>113.0</td>\n",
       "      <td>2.0</td>\n",
       "      <td>9A</td>\n",
       "      <td>Qual foi o curso mais elevado que ... frequent...</td>\n",
       "      <td>01</td>\n",
       "      <td>Creche (disponível apenas no questionário anua...</td>\n",
       "      <td>4º tri/2015 - atual</td>\n",
       "      <td>Parte 3 - Características de educação para os ...</td>\n",
       "    </tr>\n",
       "    <tr>\n",
       "      <th>70</th>\n",
       "      <td>V1023</td>\n",
       "      <td>34.0</td>\n",
       "      <td>1.0</td>\n",
       "      <td>NaN</td>\n",
       "      <td>Tipo de área</td>\n",
       "      <td>1</td>\n",
       "      <td>Capital</td>\n",
       "      <td>1º tri/2012 - atual</td>\n",
       "      <td>Parte 1 - Identificação e Controle</td>\n",
       "    </tr>\n",
       "    <tr>\n",
       "      <th>74</th>\n",
       "      <td>V1022</td>\n",
       "      <td>33.0</td>\n",
       "      <td>1.0</td>\n",
       "      <td>NaN</td>\n",
       "      <td>Situação do domicílio</td>\n",
       "      <td>1</td>\n",
       "      <td>Urbana</td>\n",
       "      <td>1º tri/2012 - atual</td>\n",
       "      <td>Parte 1 - Identificação e Controle</td>\n",
       "    </tr>\n",
       "    <tr>\n",
       "      <th>76</th>\n",
       "      <td>V3001</td>\n",
       "      <td>96.0</td>\n",
       "      <td>1.0</td>\n",
       "      <td>1</td>\n",
       "      <td>... sabe ler e escrever?</td>\n",
       "      <td>1</td>\n",
       "      <td>Sim</td>\n",
       "      <td>1º tri/2012 - atual</td>\n",
       "      <td>Parte 3 - Características de educação para os ...</td>\n",
       "    </tr>\n",
       "  </tbody>\n",
       "</table>\n",
       "</div>"
      ],
      "text/plain": [
       "   Código da variável  Posição inicial   Tamanho quesito nº  \\\n",
       "0              VD3004             391.0      1.0         82   \n",
       "8                  UF               6.0      2.0        NaN   \n",
       "35              V2009              92.0      3.0          9   \n",
       "36             VD3005             392.0      2.0         82   \n",
       "54             V3009A             113.0      2.0         9A   \n",
       "70              V1023              34.0      1.0        NaN   \n",
       "74              V1022              33.0      1.0        NaN   \n",
       "76              V3001              96.0      1.0          1   \n",
       "\n",
       "                                    Quesito Descrição Categorias Tipo   \\\n",
       "0   Nível de instrução mais elevado alcançado (pes...                1   \n",
       "8                                Unidade da Federação               11   \n",
       "35             Idade do morador na data de referência          0 a 130   \n",
       "36  Anos de estudo (pessoas de 5 anos ou mais de i...                0   \n",
       "54  Qual foi o curso mais elevado que ... frequent...               01   \n",
       "70                                       Tipo de área                1   \n",
       "74                              Situação do domicílio                1   \n",
       "76                           ... sabe ler e escrever?                1   \n",
       "\n",
       "                                 Categorias Descrição              Período  \\\n",
       "0            Sem instrução e menos de 1 ano de estudo  1º tri/2012 - atual   \n",
       "8                                            Rondônia  1º tri/2012 - atual   \n",
       "35                                    Idade (em anos)  1º tri/2012 - atual   \n",
       "36           Sem instrução e menos de 1 ano de estudo  1º tri/2012 - atual   \n",
       "54  Creche (disponível apenas no questionário anua...  4º tri/2015 - atual   \n",
       "70                                            Capital  1º tri/2012 - atual   \n",
       "74                                             Urbana  1º tri/2012 - atual   \n",
       "76                                                Sim  1º tri/2012 - atual   \n",
       "\n",
       "                                                Parte  \n",
       "0                                 Variáveis Derivadas  \n",
       "8                  Parte 1 - Identificação e Controle  \n",
       "35     Parte 2 - Características Gerais dos Moradores  \n",
       "36                                Variáveis Derivadas  \n",
       "54  Parte 3 - Características de educação para os ...  \n",
       "70                 Parte 1 - Identificação e Controle  \n",
       "74                 Parte 1 - Identificação e Controle  \n",
       "76  Parte 3 - Características de educação para os ...  "
      ]
     },
     "execution_count": 94,
     "metadata": {},
     "output_type": "execute_result"
    }
   ],
   "source": [
    "var_dict.loc[rank.index].reset_index().drop_duplicates(var_dict.index.name)"
   ]
  },
  {
   "cell_type": "markdown",
   "metadata": {},
   "source": [
    "É importante perceber que para inferencia causal, a performance preditiva do modelo não é tão importante assim, contanto que os modelos sejam consistentes no conjunto de treino e teste. o mais importante é que os modelos nuisance para os tratamentos consigam ortogonalizar os tratamentos e as covariantes (unconfoundedness/ignorability) e que o preditor da resposta diminua um pouco a sua variância."
   ]
  },
  {
   "cell_type": "markdown",
   "metadata": {},
   "source": [
    "# Treatment Effect with Double ML"
   ]
  },
  {
   "cell_type": "code",
   "execution_count": 54,
   "metadata": {},
   "outputs": [
    {
     "name": "stdout",
     "output_type": "stream",
     "text": [
      "^C\n"
     ]
    }
   ],
   "source": []
  }
 ],
 "metadata": {
  "kernelspec": {
   "display_name": "MO444env",
   "language": "python",
   "name": "mo444env"
  },
  "language_info": {
   "codemirror_mode": {
    "name": "ipython",
    "version": 3
   },
   "file_extension": ".py",
   "mimetype": "text/x-python",
   "name": "python",
   "nbconvert_exporter": "python",
   "pygments_lexer": "ipython3",
   "version": "3.9.5"
  },
  "latex_envs": {
   "LaTeX_envs_menu_present": true,
   "autoclose": false,
   "autocomplete": true,
   "bibliofile": "biblio.bib",
   "cite_by": "apalike",
   "current_citInitial": 1,
   "eqLabelWithNumbers": true,
   "eqNumInitial": 1,
   "hotkeys": {
    "equation": "Ctrl-E",
    "itemize": "Ctrl-I"
   },
   "labels_anchors": false,
   "latex_user_defs": false,
   "report_style_numbering": false,
   "user_envs_cfg": false
  },
  "toc": {
   "base_numbering": 1,
   "nav_menu": {},
   "number_sections": true,
   "sideBar": true,
   "skip_h1_title": false,
   "title_cell": "Table of Contents",
   "title_sidebar": "Contents",
   "toc_cell": false,
   "toc_position": {},
   "toc_section_display": true,
   "toc_window_display": false
  }
 },
 "nbformat": 4,
 "nbformat_minor": 4
}
