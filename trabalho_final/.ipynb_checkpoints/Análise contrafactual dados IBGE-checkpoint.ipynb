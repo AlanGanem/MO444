{
 "cells": [
  {
   "cell_type": "code",
   "execution_count": 1,
   "metadata": {},
   "outputs": [],
   "source": [
    "import pnadc\n",
    "from tqdm import tqdm\n",
    "import dask.dataframe as dd\n",
    "from dask.diagnostics import ProgressBar\n",
    "import ppscore\n",
    "import numpy as np\n",
    "import seaborn as sns\n",
    "import matplotlib.pyplot as plt\n",
    "from pathlib import Path"
   ]
  },
  {
   "cell_type": "code",
   "execution_count": 2,
   "metadata": {},
   "outputs": [],
   "source": [
    "paths_2020 = [*Path('pnadpy/').glob('*2020.csv')]"
   ]
  },
  {
   "cell_type": "code",
   "execution_count": 3,
   "metadata": {},
   "outputs": [],
   "source": [
    "if not paths_2020:\n",
    "    pnadc.get_all([2020], path = 'pnadpy/', protocol = 'https')\n",
    "    paths_2020 = [*Path('pnadpy/').glob('*2020.csv')]"
   ]
  },
  {
   "cell_type": "code",
   "execution_count": 4,
   "metadata": {},
   "outputs": [],
   "source": [
    "def convert_int(df, dtype = int, nan_fill = -1, valid_range = (0,100)):\n",
    "    '''\n",
    "    checks the columns that are composed of only integers, if so, cast to integer\n",
    "    '''\n",
    "    if df.__class__ == dd.DataFrame:\n",
    "        return df.map_partitions(convert_int)\n",
    "    \n",
    "    for col in df.columns:\n",
    "        if (df[col].dropna() == df[col].dropna().values.astype(int)).all():\n",
    "            if not valid_range is None:\n",
    "                if all(df[col].between(*valid_range)):\n",
    "                    df[col] = df[col].fillna(nan_fill).astype(dtype)\n",
    "            else:\n",
    "                df[col] = df[col].fillna(nan_fill).astype(dtype)\n",
    "                                                       \n",
    "    return df\n",
    "\n",
    "def rename_variables_pnadc(df, pnadc_dictionary_path):    \n",
    "    return\n",
    "\n",
    "def create_parquet_pnadc(path, saving_path = 'PNADC/pnadc_compiled.parquet'):\n",
    "    with ProgressBar():\n",
    "        data = dd.read_csv(path)\n",
    "        data = data.repartition('100MB').drop_duplicates()\n",
    "        data.to_parquet(saving_path)\n",
    "    return saving_path"
   ]
  },
  {
   "cell_type": "code",
   "execution_count": 5,
   "metadata": {},
   "outputs": [],
   "source": [
    "#create_parquet_pnadc(path = 'PNADC/*.csv')\n",
    "data = dd.read_csv(paths_2020)"
   ]
  },
  {
   "cell_type": "code",
   "execution_count": 6,
   "metadata": {},
   "outputs": [
    {
     "data": {
      "text/plain": [
       "1560869"
      ]
     },
     "execution_count": 6,
     "metadata": {},
     "output_type": "execute_result"
    }
   ],
   "source": [
    "len(data)"
   ]
  },
  {
   "cell_type": "code",
   "execution_count": 7,
   "metadata": {},
   "outputs": [],
   "source": [
    "#data = data.astype(str)\n",
    "data = convert_int(data, dtype = 'str')\n"
   ]
  },
  {
   "cell_type": "code",
   "execution_count": 65,
   "metadata": {},
   "outputs": [],
   "source": [
    "rendimentos_cols = [\n",
    "    'V405012',\n",
    "    'V405022',\n",
    "    'V405112',\n",
    "    'V405122',\n",
    "    'V405812',\n",
    "    'V405822',\n",
    "    'V405912',\n",
    "    'V405922',    \n",
    "    'V403322',\n",
    "    'V403412',\n",
    "    'V403422',\n",
    "    'V405812',\n",
    "    'V403312',\n",
    "    \n",
    "]\n",
    "rendimentos = data[rendimentos_cols].fillna(0).sum(axis = 1).compute()"
   ]
  },
  {
   "cell_type": "code",
   "execution_count": 68,
   "metadata": {},
   "outputs": [
    {
     "name": "stdout",
     "output_type": "stream",
     "text": [
      "0.6200898345729206\n"
     ]
    },
    {
     "name": "stderr",
     "output_type": "stream",
     "text": [
      "C:\\Anaconda3\\lib\\site-packages\\seaborn\\distributions.py:2619: FutureWarning: `distplot` is a deprecated function and will be removed in a future version. Please adapt your code to use either `displot` (a figure-level function with similar flexibility) or `histplot` (an axes-level function for histograms).\n",
      "  warnings.warn(msg, FutureWarning)\n"
     ]
    },
    {
     "data": {
      "image/png": "[encoded data removed]",
      "text/plain": [
       "<Figure size 640x480 with 1 Axes>"
      ]
     },
     "metadata": {},
     "output_type": "display_data"
    }
   ],
   "source": [
    "print((rendimentos==0).mean())\n",
    "plt.clf()\n",
    "sns.distplot(np.log(rendimentos[rendimentos > 0].sample(frac = 0.1)))\n",
    "plt.show()"
   ]
  },
  {
   "cell_type": "code",
   "execution_count": 10,
   "metadata": {},
   "outputs": [
    {
     "data": {
      "text/plain": [
       "4    0.515522\n",
       "1    0.393977\n",
       "2    0.081678\n",
       "3    0.004456\n",
       "5    0.004235\n",
       "9    0.000130\n",
       "Name: V2010, dtype: float64"
      ]
     },
     "execution_count": 10,
     "metadata": {},
     "output_type": "execute_result"
    }
   ],
   "source": [
    "raca = data['V2010']\n",
    "\n",
    "raca.compute().value_counts(1)"
   ]
  },
  {
   "cell_type": "code",
   "execution_count": 11,
   "metadata": {},
   "outputs": [
    {
     "data": {
      "text/html": [
       "<div>\n",
       "<style scoped>\n",
       "    .dataframe tbody tr th:only-of-type {\n",
       "        vertical-align: middle;\n",
       "    }\n",
       "\n",
       "    .dataframe tbody tr th {\n",
       "        vertical-align: top;\n",
       "    }\n",
       "\n",
       "    .dataframe thead th {\n",
       "        text-align: right;\n",
       "    }\n",
       "</style>\n",
       "<table border=\"1\" class=\"dataframe\">\n",
       "  <thead>\n",
       "    <tr style=\"text-align: right;\">\n",
       "      <th></th>\n",
       "      <th>Ano</th>\n",
       "      <th>Trimestre</th>\n",
       "      <th>UF</th>\n",
       "      <th>Capital</th>\n",
       "      <th>RM_RIDE</th>\n",
       "      <th>UPA</th>\n",
       "      <th>Estrato</th>\n",
       "      <th>V1008</th>\n",
       "      <th>V1014</th>\n",
       "      <th>V1016</th>\n",
       "      <th>...</th>\n",
       "      <th>VD4020</th>\n",
       "      <th>VD4023</th>\n",
       "      <th>VD4030</th>\n",
       "      <th>VD4031</th>\n",
       "      <th>VD4032</th>\n",
       "      <th>VD4033</th>\n",
       "      <th>VD4034</th>\n",
       "      <th>VD4035</th>\n",
       "      <th>VD4036</th>\n",
       "      <th>VD4037</th>\n",
       "    </tr>\n",
       "  </thead>\n",
       "  <tbody>\n",
       "    <tr>\n",
       "      <th>0</th>\n",
       "      <td>2020.0</td>\n",
       "      <td>1</td>\n",
       "      <td>11</td>\n",
       "      <td>11.0</td>\n",
       "      <td>NaN</td>\n",
       "      <td>110000016.0</td>\n",
       "      <td>1110011.0</td>\n",
       "      <td>1</td>\n",
       "      <td>7</td>\n",
       "      <td>5</td>\n",
       "      <td>...</td>\n",
       "      <td>1500.0</td>\n",
       "      <td>NaN</td>\n",
       "      <td>NaN</td>\n",
       "      <td>40.0</td>\n",
       "      <td>NaN</td>\n",
       "      <td>NaN</td>\n",
       "      <td>NaN</td>\n",
       "      <td>40.0</td>\n",
       "      <td>3.0</td>\n",
       "      <td>3.0</td>\n",
       "    </tr>\n",
       "    <tr>\n",
       "      <th>1</th>\n",
       "      <td>2020.0</td>\n",
       "      <td>1</td>\n",
       "      <td>11</td>\n",
       "      <td>11.0</td>\n",
       "      <td>NaN</td>\n",
       "      <td>110000016.0</td>\n",
       "      <td>1110011.0</td>\n",
       "      <td>1</td>\n",
       "      <td>7</td>\n",
       "      <td>5</td>\n",
       "      <td>...</td>\n",
       "      <td>NaN</td>\n",
       "      <td>NaN</td>\n",
       "      <td>NaN</td>\n",
       "      <td>NaN</td>\n",
       "      <td>NaN</td>\n",
       "      <td>NaN</td>\n",
       "      <td>NaN</td>\n",
       "      <td>NaN</td>\n",
       "      <td>NaN</td>\n",
       "      <td>NaN</td>\n",
       "    </tr>\n",
       "    <tr>\n",
       "      <th>2</th>\n",
       "      <td>2020.0</td>\n",
       "      <td>1</td>\n",
       "      <td>11</td>\n",
       "      <td>11.0</td>\n",
       "      <td>NaN</td>\n",
       "      <td>110000016.0</td>\n",
       "      <td>1110011.0</td>\n",
       "      <td>1</td>\n",
       "      <td>7</td>\n",
       "      <td>5</td>\n",
       "      <td>...</td>\n",
       "      <td>NaN</td>\n",
       "      <td>NaN</td>\n",
       "      <td>2.0</td>\n",
       "      <td>NaN</td>\n",
       "      <td>NaN</td>\n",
       "      <td>NaN</td>\n",
       "      <td>NaN</td>\n",
       "      <td>NaN</td>\n",
       "      <td>NaN</td>\n",
       "      <td>NaN</td>\n",
       "    </tr>\n",
       "    <tr>\n",
       "      <th>3</th>\n",
       "      <td>2020.0</td>\n",
       "      <td>1</td>\n",
       "      <td>11</td>\n",
       "      <td>11.0</td>\n",
       "      <td>NaN</td>\n",
       "      <td>110000016.0</td>\n",
       "      <td>1110011.0</td>\n",
       "      <td>1</td>\n",
       "      <td>7</td>\n",
       "      <td>5</td>\n",
       "      <td>...</td>\n",
       "      <td>NaN</td>\n",
       "      <td>NaN</td>\n",
       "      <td>NaN</td>\n",
       "      <td>NaN</td>\n",
       "      <td>NaN</td>\n",
       "      <td>NaN</td>\n",
       "      <td>NaN</td>\n",
       "      <td>NaN</td>\n",
       "      <td>NaN</td>\n",
       "      <td>NaN</td>\n",
       "    </tr>\n",
       "    <tr>\n",
       "      <th>4</th>\n",
       "      <td>2020.0</td>\n",
       "      <td>1</td>\n",
       "      <td>11</td>\n",
       "      <td>11.0</td>\n",
       "      <td>NaN</td>\n",
       "      <td>110000016.0</td>\n",
       "      <td>1110011.0</td>\n",
       "      <td>3</td>\n",
       "      <td>7</td>\n",
       "      <td>5</td>\n",
       "      <td>...</td>\n",
       "      <td>NaN</td>\n",
       "      <td>NaN</td>\n",
       "      <td>4.0</td>\n",
       "      <td>NaN</td>\n",
       "      <td>NaN</td>\n",
       "      <td>NaN</td>\n",
       "      <td>NaN</td>\n",
       "      <td>NaN</td>\n",
       "      <td>NaN</td>\n",
       "      <td>NaN</td>\n",
       "    </tr>\n",
       "    <tr>\n",
       "      <th>...</th>\n",
       "      <td>...</td>\n",
       "      <td>...</td>\n",
       "      <td>...</td>\n",
       "      <td>...</td>\n",
       "      <td>...</td>\n",
       "      <td>...</td>\n",
       "      <td>...</td>\n",
       "      <td>...</td>\n",
       "      <td>...</td>\n",
       "      <td>...</td>\n",
       "      <td>...</td>\n",
       "      <td>...</td>\n",
       "      <td>...</td>\n",
       "      <td>...</td>\n",
       "      <td>...</td>\n",
       "      <td>...</td>\n",
       "      <td>...</td>\n",
       "      <td>...</td>\n",
       "      <td>...</td>\n",
       "      <td>...</td>\n",
       "      <td>...</td>\n",
       "    </tr>\n",
       "    <tr>\n",
       "      <th>142433</th>\n",
       "      <td>2020.0</td>\n",
       "      <td>1</td>\n",
       "      <td>24</td>\n",
       "      <td>24.0</td>\n",
       "      <td>24.0</td>\n",
       "      <td>240029989.0</td>\n",
       "      <td>2410011.0</td>\n",
       "      <td>2</td>\n",
       "      <td>8</td>\n",
       "      <td>1</td>\n",
       "      <td>...</td>\n",
       "      <td>2000.0</td>\n",
       "      <td>NaN</td>\n",
       "      <td>NaN</td>\n",
       "      <td>60.0</td>\n",
       "      <td>NaN</td>\n",
       "      <td>NaN</td>\n",
       "      <td>NaN</td>\n",
       "      <td>60.0</td>\n",
       "      <td>5.0</td>\n",
       "      <td>5.0</td>\n",
       "    </tr>\n",
       "    <tr>\n",
       "      <th>142434</th>\n",
       "      <td>2020.0</td>\n",
       "      <td>1</td>\n",
       "      <td>24</td>\n",
       "      <td>24.0</td>\n",
       "      <td>24.0</td>\n",
       "      <td>240029989.0</td>\n",
       "      <td>2410011.0</td>\n",
       "      <td>2</td>\n",
       "      <td>8</td>\n",
       "      <td>1</td>\n",
       "      <td>...</td>\n",
       "      <td>NaN</td>\n",
       "      <td>NaN</td>\n",
       "      <td>6.0</td>\n",
       "      <td>NaN</td>\n",
       "      <td>NaN</td>\n",
       "      <td>NaN</td>\n",
       "      <td>NaN</td>\n",
       "      <td>NaN</td>\n",
       "      <td>NaN</td>\n",
       "      <td>NaN</td>\n",
       "    </tr>\n",
       "    <tr>\n",
       "      <th>142435</th>\n",
       "      <td>2020.0</td>\n",
       "      <td>1</td>\n",
       "      <td>24</td>\n",
       "      <td>24.0</td>\n",
       "      <td>24.0</td>\n",
       "      <td>240029989.0</td>\n",
       "      <td>2410011.0</td>\n",
       "      <td>3</td>\n",
       "      <td>8</td>\n",
       "      <td>1</td>\n",
       "      <td>...</td>\n",
       "      <td>NaN</td>\n",
       "      <td>NaN</td>\n",
       "      <td>6.0</td>\n",
       "      <td>NaN</td>\n",
       "      <td>NaN</td>\n",
       "      <td>NaN</td>\n",
       "      <td>NaN</td>\n",
       "      <td>NaN</td>\n",
       "      <td>NaN</td>\n",
       "      <td>NaN</td>\n",
       "    </tr>\n",
       "    <tr>\n",
       "      <th>142436</th>\n",
       "      <td>2020.0</td>\n",
       "      <td>1</td>\n",
       "      <td>24</td>\n",
       "      <td>24.0</td>\n",
       "      <td>24.0</td>\n",
       "      <td>240029989.0</td>\n",
       "      <td>2410011.0</td>\n",
       "      <td>3</td>\n",
       "      <td>8</td>\n",
       "      <td>1</td>\n",
       "      <td>...</td>\n",
       "      <td>1800.0</td>\n",
       "      <td>NaN</td>\n",
       "      <td>NaN</td>\n",
       "      <td>44.0</td>\n",
       "      <td>NaN</td>\n",
       "      <td>NaN</td>\n",
       "      <td>NaN</td>\n",
       "      <td>44.0</td>\n",
       "      <td>3.0</td>\n",
       "      <td>3.0</td>\n",
       "    </tr>\n",
       "    <tr>\n",
       "      <th>142437</th>\n",
       "      <td>2020.0</td>\n",
       "      <td>1</td>\n",
       "      <td>24</td>\n",
       "      <td>24.0</td>\n",
       "      <td>24.0</td>\n",
       "      <td>240029989.0</td>\n",
       "      <td>2410011.0</td>\n",
       "      <td>3</td>\n",
       "      <td>8</td>\n",
       "      <td>1</td>\n",
       "      <td>...</td>\n",
       "      <td>NaN</td>\n",
       "      <td>NaN</td>\n",
       "      <td>3.0</td>\n",
       "      <td>NaN</td>\n",
       "      <td>NaN</td>\n",
       "      <td>NaN</td>\n",
       "      <td>NaN</td>\n",
       "      <td>NaN</td>\n",
       "      <td>NaN</td>\n",
       "      <td>NaN</td>\n",
       "    </tr>\n",
       "  </tbody>\n",
       "</table>\n",
       "<p>142438 rows × 217 columns</p>\n",
       "</div>"
      ],
      "text/plain": [
       "           Ano  Trimestre  UF  Capital  RM_RIDE          UPA    Estrato  \\\n",
       "0       2020.0          1  11     11.0      NaN  110000016.0  1110011.0   \n",
       "1       2020.0          1  11     11.0      NaN  110000016.0  1110011.0   \n",
       "2       2020.0          1  11     11.0      NaN  110000016.0  1110011.0   \n",
       "3       2020.0          1  11     11.0      NaN  110000016.0  1110011.0   \n",
       "4       2020.0          1  11     11.0      NaN  110000016.0  1110011.0   \n",
       "...        ...        ...  ..      ...      ...          ...        ...   \n",
       "142433  2020.0          1  24     24.0     24.0  240029989.0  2410011.0   \n",
       "142434  2020.0          1  24     24.0     24.0  240029989.0  2410011.0   \n",
       "142435  2020.0          1  24     24.0     24.0  240029989.0  2410011.0   \n",
       "142436  2020.0          1  24     24.0     24.0  240029989.0  2410011.0   \n",
       "142437  2020.0          1  24     24.0     24.0  240029989.0  2410011.0   \n",
       "\n",
       "        V1008  V1014  V1016  ...  VD4020  VD4023  VD4030  VD4031  VD4032  \\\n",
       "0           1      7      5  ...  1500.0     NaN     NaN    40.0     NaN   \n",
       "1           1      7      5  ...     NaN     NaN     NaN     NaN     NaN   \n",
       "2           1      7      5  ...     NaN     NaN     2.0     NaN     NaN   \n",
       "3           1      7      5  ...     NaN     NaN     NaN     NaN     NaN   \n",
       "4           3      7      5  ...     NaN     NaN     4.0     NaN     NaN   \n",
       "...       ...    ...    ...  ...     ...     ...     ...     ...     ...   \n",
       "142433      2      8      1  ...  2000.0     NaN     NaN    60.0     NaN   \n",
       "142434      2      8      1  ...     NaN     NaN     6.0     NaN     NaN   \n",
       "142435      3      8      1  ...     NaN     NaN     6.0     NaN     NaN   \n",
       "142436      3      8      1  ...  1800.0     NaN     NaN    44.0     NaN   \n",
       "142437      3      8      1  ...     NaN     NaN     3.0     NaN     NaN   \n",
       "\n",
       "        VD4033  VD4034  VD4035  VD4036  VD4037  \n",
       "0          NaN     NaN    40.0     3.0     3.0  \n",
       "1          NaN     NaN     NaN     NaN     NaN  \n",
       "2          NaN     NaN     NaN     NaN     NaN  \n",
       "3          NaN     NaN     NaN     NaN     NaN  \n",
       "4          NaN     NaN     NaN     NaN     NaN  \n",
       "...        ...     ...     ...     ...     ...  \n",
       "142433     NaN     NaN    60.0     5.0     5.0  \n",
       "142434     NaN     NaN     NaN     NaN     NaN  \n",
       "142435     NaN     NaN     NaN     NaN     NaN  \n",
       "142436     NaN     NaN    44.0     3.0     3.0  \n",
       "142437     NaN     NaN     NaN     NaN     NaN  \n",
       "\n",
       "[142438 rows x 217 columns]"
      ]
     },
     "execution_count": 11,
     "metadata": {},
     "output_type": "execute_result"
    }
   ],
   "source": [
    "data.partitions[0].compute()"
   ]
  },
  {
   "cell_type": "code",
   "execution_count": null,
   "metadata": {},
   "outputs": [],
   "source": []
  },
  {
   "cell_type": "markdown",
   "metadata": {},
   "source": [
    "# Find Confounders\n",
    "\n",
    "Confounders are good predictors of both the treatment and the observed outcome.\n",
    "Knowing what are these variables are usefull because in order to remove bias we have to control for confounders"
   ]
  },
  {
   "cell_type": "code",
   "execution_count": 12,
   "metadata": {},
   "outputs": [
    {
     "data": {
      "text/plain": [
       "NaN    0.621201\n",
       "3.0    0.137785\n",
       "2.0    0.092053\n",
       "1.0    0.050446\n",
       "4.0    0.044627\n",
       "5.0    0.030315\n",
       "6.0    0.016450\n",
       "7.0    0.005626\n",
       "8.0    0.001496\n",
       "Name: V403311, dtype: float64"
      ]
     },
     "execution_count": 12,
     "metadata": {},
     "output_type": "execute_result"
    }
   ],
   "source": [
    "#filter1 = data['']\n",
    "data['V403311'].compute().value_counts(1, dropna = False)"
   ]
  },
  {
   "cell_type": "code",
   "execution_count": 13,
   "metadata": {},
   "outputs": [
    {
     "data": {
      "text/plain": [
       "4    0.515522\n",
       "1    0.393977\n",
       "2    0.081678\n",
       "3    0.004456\n",
       "5    0.004235\n",
       "9    0.000130\n",
       "Name: V2010, dtype: float64"
      ]
     },
     "execution_count": 13,
     "metadata": {},
     "output_type": "execute_result"
    }
   ],
   "source": [
    "data['V2010'].compute().value_counts(1, dropna = False)"
   ]
  },
  {
   "cell_type": "markdown",
   "metadata": {},
   "source": [
    "## Filters"
   ]
  },
  {
   "cell_type": "code",
   "execution_count": 69,
   "metadata": {},
   "outputs": [],
   "source": [
    "#msk = ~data['V403311'].isna()\n",
    "msk = data['V2009'].between(18,65) #idade entre 18 e 65 anos"
   ]
  },
  {
   "cell_type": "markdown",
   "metadata": {},
   "source": [
    "## Predictive Power Scores"
   ]
  },
  {
   "cell_type": "code",
   "execution_count": 70,
   "metadata": {},
   "outputs": [],
   "source": [
    "data['V2010'] = data['V2010'].astype(str)"
   ]
  },
  {
   "cell_type": "code",
   "execution_count": null,
   "metadata": {},
   "outputs": [],
   "source": [
    "rendimento_pps_scores = ppscore.predictors(\n",
    "    data[msk].compute(),\n",
    "    y = 'V403311'\n",
    ")"
   ]
  },
  {
   "cell_type": "code",
   "execution_count": null,
   "metadata": {},
   "outputs": [],
   "source": [
    "cor_pps_scores = ppscore.predictors(\n",
    "    data[msk].compute(),\n",
    "    y = 'V2010'\n",
    ")"
   ]
  },
  {
   "cell_type": "code",
   "execution_count": null,
   "metadata": {},
   "outputs": [],
   "source": [
    "rendimento_pps_scores = rendimento_pps_scores.query('ppscore > 0')\n",
    "rendimento_pps_scores"
   ]
  },
  {
   "cell_type": "code",
   "execution_count": null,
   "metadata": {},
   "outputs": [],
   "source": [
    "cor_pps_scores = cor_pps_scores.query('ppscore > 0')\n",
    "cor_pps_scores"
   ]
  },
  {
   "cell_type": "code",
   "execution_count": null,
   "metadata": {},
   "outputs": [],
   "source": [
    "cor_pps_scores.merge(rendimento_pps_scores, how = 'inner', on = 'x', suffixes = ('_cor', '_rendimento'))[['x','ppscore_cor', 'ppscore_rendimento']]"
   ]
  },
  {
   "cell_type": "code",
   "execution_count": null,
   "metadata": {},
   "outputs": [],
   "source": [
    "pnadc.query('V405811', 'pnadpy/input_PNADC_trimestral.txt', )"
   ]
  },
  {
   "cell_type": "code",
   "execution_count": 61,
   "metadata": {},
   "outputs": [],
   "source": [
    "#data = data.sample(0.1)[['V3009A', 'V2010']]"
   ]
  }
 ],
 "metadata": {
  "kernelspec": {
   "display_name": "Python 3",
   "language": "python",
   "name": "python3"
  },
  "language_info": {
   "codemirror_mode": {
    "name": "ipython",
    "version": 3
   },
   "file_extension": ".py",
   "mimetype": "text/x-python",
   "name": "python",
   "nbconvert_exporter": "python",
   "pygments_lexer": "ipython3",
   "version": "3.7.6"
  },
  "latex_envs": {
   "LaTeX_envs_menu_present": true,
   "autoclose": false,
   "autocomplete": true,
   "bibliofile": "biblio.bib",
   "cite_by": "apalike",
   "current_citInitial": 1,
   "eqLabelWithNumbers": true,
   "eqNumInitial": 1,
   "hotkeys": {
    "equation": "Ctrl-E",
    "itemize": "Ctrl-I"
   },
   "labels_anchors": false,
   "latex_user_defs": false,
   "report_style_numbering": false,
   "user_envs_cfg": false
  },
  "toc": {
   "base_numbering": 1,
   "nav_menu": {},
   "number_sections": true,
   "sideBar": true,
   "skip_h1_title": false,
   "title_cell": "Table of Contents",
   "title_sidebar": "Contents",
   "toc_cell": false,
   "toc_position": {},
   "toc_section_display": true,
   "toc_window_display": false
  }
 },
 "nbformat": 4,
 "nbformat_minor": 4
}
